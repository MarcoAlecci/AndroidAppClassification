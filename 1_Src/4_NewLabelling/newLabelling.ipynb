{
 "cells": [
  {
   "cell_type": "markdown",
   "metadata": {},
   "source": [
    "## 🔢 App Classification"
   ]
  },
  {
   "cell_type": "code",
   "execution_count": 1,
   "metadata": {},
   "outputs": [],
   "source": [
    "from sklearn.metrics               import accuracy_score, precision_score, recall_score, f1_score, confusion_matrix, classification_report\n",
    "from sklearn.model_selection       import train_test_split\n",
    "from sklearn.preprocessing         import LabelEncoder\n",
    "from sklearn.neural_network        import MLPClassifier\n",
    "from sklearn.linear_model          import LogisticRegression\n",
    "from sklearn                       import svm\n",
    "from dotenv                        import load_dotenv\n",
    "import pandas                      as pd\n",
    "import numpy                       as np\n",
    "import datetime\n",
    "import joblib\n",
    "import ast\n",
    "\n",
    "\n",
    "import warnings\n",
    "warnings.filterwarnings(\"ignore\")"
   ]
  },
  {
   "cell_type": "markdown",
   "metadata": {},
   "source": [
    "#### Initialization"
   ]
  },
  {
   "cell_type": "code",
   "execution_count": 2,
   "metadata": {},
   "outputs": [],
   "source": [
    "RANDOM_SEED = 151836"
   ]
  },
  {
   "cell_type": "code",
   "execution_count": 3,
   "metadata": {},
   "outputs": [
    {
     "name": "stdout",
     "output_type": "stream",
     "text": [
      "⚡ Start - 2024-07-20 18:58:10.323285 ⚡\n",
      "\n"
     ]
    }
   ],
   "source": [
    "print(\"⚡ Start - {} ⚡\\n\".format(datetime.datetime.now()))\n",
    "startTime = datetime.datetime.now()"
   ]
  },
  {
   "cell_type": "markdown",
   "metadata": {},
   "source": [
    "#### 📥 1) Load Data "
   ]
  },
  {
   "cell_type": "code",
   "execution_count": 4,
   "metadata": {},
   "outputs": [
    {
     "name": "stdout",
     "output_type": "stream",
     "text": [
      "--- #️⃣ Apps: 512 \n"
     ]
    }
   ],
   "source": [
    "DATA_PATH = \"../TmpData/3_MalCatSet_Embeddings.csv\"\n",
    "\n",
    "# Read the data\n",
    "appsDF = pd.read_csv(DATA_PATH)\n",
    "\n",
    "print(\"--- #️⃣ Apps: {} \".format(appsDF.shape[0]))"
   ]
  },
  {
   "cell_type": "code",
   "execution_count": 5,
   "metadata": {},
   "outputs": [
    {
     "data": {
      "text/html": [
       "<div>\n",
       "<style scoped>\n",
       "    .dataframe tbody tr th:only-of-type {\n",
       "        vertical-align: middle;\n",
       "    }\n",
       "\n",
       "    .dataframe tbody tr th {\n",
       "        vertical-align: top;\n",
       "    }\n",
       "\n",
       "    .dataframe thead th {\n",
       "        text-align: right;\n",
       "    }\n",
       "</style>\n",
       "<table border=\"1\" class=\"dataframe\">\n",
       "  <thead>\n",
       "    <tr style=\"text-align: right;\">\n",
       "      <th></th>\n",
       "      <th>sha256</th>\n",
       "      <th>pkgName</th>\n",
       "      <th>classID</th>\n",
       "      <th>description</th>\n",
       "      <th>embedding</th>\n",
       "    </tr>\n",
       "  </thead>\n",
       "  <tbody>\n",
       "    <tr>\n",
       "      <th>0</th>\n",
       "      <td>24D3490CF23842A791CBB5B10F1427808F4B163F9C4927...</td>\n",
       "      <td>com.rytong.airchina</td>\n",
       "      <td>Airlines</td>\n",
       "      <td>air china national flag carrier offer commerci...</td>\n",
       "      <td>[0.016700733453035355, -0.028782714158296585, ...</td>\n",
       "    </tr>\n",
       "    <tr>\n",
       "      <th>1</th>\n",
       "      <td>2D3D869A1DF82ACDCABBB08277ADECB8E5B64DB4DB516C...</td>\n",
       "      <td>com.rytong.hnair</td>\n",
       "      <td>Airlines</td>\n",
       "      <td>airline company profile airline hold co ltd he...</td>\n",
       "      <td>[0.004994473420083523, -0.0420411080121994, 0....</td>\n",
       "    </tr>\n",
       "    <tr>\n",
       "      <th>2</th>\n",
       "      <td>238396FF004CF5505CC1FB783C2671D6E89867235D2846...</td>\n",
       "      <td>com.fsecure.eicar.antivirus.test</td>\n",
       "      <td>Antivirus</td>\n",
       "      <td>test safely antivirus app work note antivirus ...</td>\n",
       "      <td>[-0.015152397565543652, -0.0017729764804244041...</td>\n",
       "    </tr>\n",
       "    <tr>\n",
       "      <th>3</th>\n",
       "      <td>9937BC3FADCD8A177D78CD14217C6B81F7AAE687557751...</td>\n",
       "      <td>com.kbzbank.kpaycustomer</td>\n",
       "      <td>Banking</td>\n",
       "      <td>mobile wallet power bank safer simpler conveni...</td>\n",
       "      <td>[0.014227830804884434, -0.009698555804789066, ...</td>\n",
       "    </tr>\n",
       "    <tr>\n",
       "      <th>4</th>\n",
       "      <td>7B18A91FEBBCAF7AE470DAA12942C54E1DFB62B010FAB2...</td>\n",
       "      <td>com.banofinancial.app</td>\n",
       "      <td>Banking</td>\n",
       "      <td>innovative australia spend request save invest...</td>\n",
       "      <td>[-0.008306749165058136, -0.0017330991104245186...</td>\n",
       "    </tr>\n",
       "  </tbody>\n",
       "</table>\n",
       "</div>"
      ],
      "text/plain": [
       "                                              sha256  \\\n",
       "0  24D3490CF23842A791CBB5B10F1427808F4B163F9C4927...   \n",
       "1  2D3D869A1DF82ACDCABBB08277ADECB8E5B64DB4DB516C...   \n",
       "2  238396FF004CF5505CC1FB783C2671D6E89867235D2846...   \n",
       "3  9937BC3FADCD8A177D78CD14217C6B81F7AAE687557751...   \n",
       "4  7B18A91FEBBCAF7AE470DAA12942C54E1DFB62B010FAB2...   \n",
       "\n",
       "                            pkgName    classID  \\\n",
       "0               com.rytong.airchina   Airlines   \n",
       "1                  com.rytong.hnair   Airlines   \n",
       "2  com.fsecure.eicar.antivirus.test  Antivirus   \n",
       "3          com.kbzbank.kpaycustomer    Banking   \n",
       "4             com.banofinancial.app    Banking   \n",
       "\n",
       "                                         description  \\\n",
       "0  air china national flag carrier offer commerci...   \n",
       "1  airline company profile airline hold co ltd he...   \n",
       "2  test safely antivirus app work note antivirus ...   \n",
       "3  mobile wallet power bank safer simpler conveni...   \n",
       "4  innovative australia spend request save invest...   \n",
       "\n",
       "                                           embedding  \n",
       "0  [0.016700733453035355, -0.028782714158296585, ...  \n",
       "1  [0.004994473420083523, -0.0420411080121994, 0....  \n",
       "2  [-0.015152397565543652, -0.0017729764804244041...  \n",
       "3  [0.014227830804884434, -0.009698555804789066, ...  \n",
       "4  [-0.008306749165058136, -0.0017330991104245186...  "
      ]
     },
     "execution_count": 5,
     "metadata": {},
     "output_type": "execute_result"
    }
   ],
   "source": [
    "appsDF.head(5)"
   ]
  },
  {
   "cell_type": "markdown",
   "metadata": {},
   "source": [
    "#### 2) Reorganize a bit the data"
   ]
  },
  {
   "cell_type": "code",
   "execution_count": 6,
   "metadata": {},
   "outputs": [],
   "source": [
    "# Reorder columns\n",
    "appsDF = appsDF[[col for col in appsDF.columns if col != \"classID\"] + [\"classID\"]]\n",
    "\n",
    "# Rename the column\n",
    "appsDF.rename(columns={\"classID\": \"trueLabel\"}, inplace=True)"
   ]
  },
  {
   "cell_type": "code",
   "execution_count": 7,
   "metadata": {},
   "outputs": [],
   "source": [
    "def convertToNumpyArray(arrayStr):\n",
    "\t# Convert the string representation to a list using ast.literal_eval\n",
    "\tarrayList = ast.literal_eval(arrayStr)\n",
    "\t# Convert the list to a numpy array\n",
    "\treturn np.array(arrayList)\n",
    "\n",
    "# Apply the conversion function to the column\n",
    "appsDF['embedding'] = appsDF['embedding'].apply(convertToNumpyArray)"
   ]
  },
  {
   "cell_type": "code",
   "execution_count": 8,
   "metadata": {},
   "outputs": [
    {
     "data": {
      "text/html": [
       "<div>\n",
       "<style scoped>\n",
       "    .dataframe tbody tr th:only-of-type {\n",
       "        vertical-align: middle;\n",
       "    }\n",
       "\n",
       "    .dataframe tbody tr th {\n",
       "        vertical-align: top;\n",
       "    }\n",
       "\n",
       "    .dataframe thead th {\n",
       "        text-align: right;\n",
       "    }\n",
       "</style>\n",
       "<table border=\"1\" class=\"dataframe\">\n",
       "  <thead>\n",
       "    <tr style=\"text-align: right;\">\n",
       "      <th></th>\n",
       "      <th>sha256</th>\n",
       "      <th>pkgName</th>\n",
       "      <th>description</th>\n",
       "      <th>embedding</th>\n",
       "      <th>trueLabel</th>\n",
       "    </tr>\n",
       "  </thead>\n",
       "  <tbody>\n",
       "    <tr>\n",
       "      <th>0</th>\n",
       "      <td>24D3490CF23842A791CBB5B10F1427808F4B163F9C4927...</td>\n",
       "      <td>com.rytong.airchina</td>\n",
       "      <td>air china national flag carrier offer commerci...</td>\n",
       "      <td>[0.016700733453035355, -0.028782714158296585, ...</td>\n",
       "      <td>Airlines</td>\n",
       "    </tr>\n",
       "    <tr>\n",
       "      <th>1</th>\n",
       "      <td>2D3D869A1DF82ACDCABBB08277ADECB8E5B64DB4DB516C...</td>\n",
       "      <td>com.rytong.hnair</td>\n",
       "      <td>airline company profile airline hold co ltd he...</td>\n",
       "      <td>[0.004994473420083523, -0.0420411080121994, 0....</td>\n",
       "      <td>Airlines</td>\n",
       "    </tr>\n",
       "    <tr>\n",
       "      <th>2</th>\n",
       "      <td>238396FF004CF5505CC1FB783C2671D6E89867235D2846...</td>\n",
       "      <td>com.fsecure.eicar.antivirus.test</td>\n",
       "      <td>test safely antivirus app work note antivirus ...</td>\n",
       "      <td>[-0.015152397565543652, -0.0017729764804244041...</td>\n",
       "      <td>Antivirus</td>\n",
       "    </tr>\n",
       "    <tr>\n",
       "      <th>3</th>\n",
       "      <td>9937BC3FADCD8A177D78CD14217C6B81F7AAE687557751...</td>\n",
       "      <td>com.kbzbank.kpaycustomer</td>\n",
       "      <td>mobile wallet power bank safer simpler conveni...</td>\n",
       "      <td>[0.014227830804884434, -0.009698555804789066, ...</td>\n",
       "      <td>Banking</td>\n",
       "    </tr>\n",
       "    <tr>\n",
       "      <th>4</th>\n",
       "      <td>7B18A91FEBBCAF7AE470DAA12942C54E1DFB62B010FAB2...</td>\n",
       "      <td>com.banofinancial.app</td>\n",
       "      <td>innovative australia spend request save invest...</td>\n",
       "      <td>[-0.008306749165058136, -0.0017330991104245186...</td>\n",
       "      <td>Banking</td>\n",
       "    </tr>\n",
       "  </tbody>\n",
       "</table>\n",
       "</div>"
      ],
      "text/plain": [
       "                                              sha256  \\\n",
       "0  24D3490CF23842A791CBB5B10F1427808F4B163F9C4927...   \n",
       "1  2D3D869A1DF82ACDCABBB08277ADECB8E5B64DB4DB516C...   \n",
       "2  238396FF004CF5505CC1FB783C2671D6E89867235D2846...   \n",
       "3  9937BC3FADCD8A177D78CD14217C6B81F7AAE687557751...   \n",
       "4  7B18A91FEBBCAF7AE470DAA12942C54E1DFB62B010FAB2...   \n",
       "\n",
       "                            pkgName  \\\n",
       "0               com.rytong.airchina   \n",
       "1                  com.rytong.hnair   \n",
       "2  com.fsecure.eicar.antivirus.test   \n",
       "3          com.kbzbank.kpaycustomer   \n",
       "4             com.banofinancial.app   \n",
       "\n",
       "                                         description  \\\n",
       "0  air china national flag carrier offer commerci...   \n",
       "1  airline company profile airline hold co ltd he...   \n",
       "2  test safely antivirus app work note antivirus ...   \n",
       "3  mobile wallet power bank safer simpler conveni...   \n",
       "4  innovative australia spend request save invest...   \n",
       "\n",
       "                                           embedding  trueLabel  \n",
       "0  [0.016700733453035355, -0.028782714158296585, ...   Airlines  \n",
       "1  [0.004994473420083523, -0.0420411080121994, 0....   Airlines  \n",
       "2  [-0.015152397565543652, -0.0017729764804244041...  Antivirus  \n",
       "3  [0.014227830804884434, -0.009698555804789066, ...    Banking  \n",
       "4  [-0.008306749165058136, -0.0017330991104245186...    Banking  "
      ]
     },
     "execution_count": 8,
     "metadata": {},
     "output_type": "execute_result"
    }
   ],
   "source": [
    "appsDF.head(5)"
   ]
  },
  {
   "cell_type": "markdown",
   "metadata": {},
   "source": [
    "#### 3) Train"
   ]
  },
  {
   "cell_type": "markdown",
   "metadata": {},
   "source": [
    "Get X (Data), Y (Labels) And split."
   ]
  },
  {
   "cell_type": "code",
   "execution_count": 9,
   "metadata": {},
   "outputs": [
    {
     "name": "stdout",
     "output_type": "stream",
     "text": [
      "--- 📐 X Shape : (512, 1536)\n",
      "NO_CLASS Special Value: 30\n"
     ]
    }
   ],
   "source": [
    "# Convert the list of arrays into a NumPy matrix\n",
    "X = np.vstack(appsDF['embedding'].tolist())\n",
    "print(\"--- 📐 X Shape : {}\".format(X.shape))\n",
    "\n",
    "# Create an instance of LabelEncoder using a special value for NO CLASS\n",
    "labelEncoder = joblib.load(\"../TmpData/labelEncoder.joblib\")\n",
    "\n",
    "NO_CLASS_VALUE = labelEncoder.transform([\"NO_CLASS\"])[0]\n",
    "print(\"NO_CLASS Special Value:\", NO_CLASS_VALUE)"
   ]
  },
  {
   "cell_type": "code",
   "execution_count": 10,
   "metadata": {},
   "outputs": [],
   "source": [
    "# TO evaluate the model\n",
    "def evaluateModel(modelName, Y_test, Y_pred, threshold):\n",
    "\n",
    "\tmask = (Y_pred != NO_CLASS_VALUE) & (Y_test != NO_CLASS_VALUE)\n",
    "\tY_test_filtered = Y_test[mask]\n",
    "\tY_pred_filtered = Y_pred[mask]\n",
    "\n",
    "\t# print(Y_test)\n",
    "\t# print(Y_test_filtered)\n",
    "\t# print(Y_pred)\n",
    "\t# print(Y_pred_filtered)\n",
    "\n",
    "\t# Compute metrics only on filtered labels\n",
    "\taccuracy  = accuracy_score(Y_test_filtered, Y_pred_filtered)\n",
    "\tprecision = precision_score(Y_test_filtered, Y_pred_filtered, average='weighted')\n",
    "\trecall    = recall_score(Y_test_filtered, Y_pred_filtered, average='weighted')\n",
    "\tf1        = f1_score(Y_test_filtered, Y_pred_filtered, average='weighted')\n",
    "\n",
    "\t# Print metrics in a well-formatted way\n",
    "\tprint(\"--- 📊 Model Evaluation Metrics 📊 ---\")\n",
    "\tprint(\"--- Model                    : {}\".format(modelName))\n",
    "\tprint(\"--- Confidence Threshold     : {:.2f}\".format(threshold))\n",
    "\tprint(\"--- Metrics:\")\n",
    "\tprint(\"------ Accuracy              : {:.4f}\".format(accuracy))\n",
    "\tprint(\"------ Precision (weighted)  : {:.4f}\".format(precision))\n",
    "\tprint(\"------ Recall (weighted)     : {:.4f}\".format(recall))\n",
    "\tprint(\"------ F1 Score (weighted)   : {:.4f}\".format(f1))\n",
    "\tprint(\"--\"*20 + \"\\n\")\n",
    "\n",
    "def applyThreshold(probabilities, threshold):\n",
    "\tY_pred = []\n",
    "\n",
    "\tfor prob in probabilities:\n",
    "\t\tif np.max(prob) < threshold:\n",
    "\t\t\tY_pred.append(NO_CLASS_VALUE)\n",
    "\t\telse:\n",
    "\t\t\t# Get the index of the maximum probability\n",
    "\t\t\tpredicted_class = np.argmax(prob)\n",
    "\t\t\t# To fix index mismatch\n",
    "\t\t\tif(predicted_class) > NO_CLASS_VALUE:\n",
    "\t\t\t\tpredicted_class += 1\n",
    "\t\t\tY_pred.append(predicted_class)\n",
    "\t\n",
    "\treturn np.array(Y_pred)"
   ]
  },
  {
   "cell_type": "code",
   "execution_count": 11,
   "metadata": {},
   "outputs": [
    {
     "name": "stdout",
     "output_type": "stream",
     "text": [
      "SVC(C=1, gamma=1, kernel='sigmoid', probability=True)\n"
     ]
    }
   ],
   "source": [
    "model = joblib.load(\"../TmpData/svmModel.joblib\")\n",
    "print(model)"
   ]
  },
  {
   "cell_type": "code",
   "execution_count": 12,
   "metadata": {},
   "outputs": [],
   "source": [
    "# Define a range of confidence thresholds\n",
    "confidfenceThreshold = 0.5\n",
    "\n",
    "# For entire Dataset\n",
    "allProbablities = model.predict_proba(X)\n",
    "\n",
    "# Use threshold\n",
    "Y_pred = applyThreshold(allProbablities, confidfenceThreshold)\n",
    "\n",
    "# Convert numeric predictions back to labels\n",
    "predictedLabels = labelEncoder.inverse_transform(Y_pred)"
   ]
  },
  {
   "cell_type": "markdown",
   "metadata": {},
   "source": [
    "### 4) Save Results"
   ]
  },
  {
   "cell_type": "code",
   "execution_count": 13,
   "metadata": {},
   "outputs": [],
   "source": [
    "# Add the predictions to the DataFrame\n",
    "appsDF[\"newClassID\"] = predictedLabels"
   ]
  },
  {
   "cell_type": "code",
   "execution_count": 14,
   "metadata": {},
   "outputs": [
    {
     "data": {
      "text/html": [
       "<div>\n",
       "<style scoped>\n",
       "    .dataframe tbody tr th:only-of-type {\n",
       "        vertical-align: middle;\n",
       "    }\n",
       "\n",
       "    .dataframe tbody tr th {\n",
       "        vertical-align: top;\n",
       "    }\n",
       "\n",
       "    .dataframe thead th {\n",
       "        text-align: right;\n",
       "    }\n",
       "</style>\n",
       "<table border=\"1\" class=\"dataframe\">\n",
       "  <thead>\n",
       "    <tr style=\"text-align: right;\">\n",
       "      <th></th>\n",
       "      <th>sha256</th>\n",
       "      <th>pkgName</th>\n",
       "      <th>description</th>\n",
       "      <th>embedding</th>\n",
       "      <th>trueLabel</th>\n",
       "      <th>newClassID</th>\n",
       "    </tr>\n",
       "  </thead>\n",
       "  <tbody>\n",
       "    <tr>\n",
       "      <th>0</th>\n",
       "      <td>24D3490CF23842A791CBB5B10F1427808F4B163F9C4927...</td>\n",
       "      <td>com.rytong.airchina</td>\n",
       "      <td>air china national flag carrier offer commerci...</td>\n",
       "      <td>[0.016700733453035355, -0.028782714158296585, ...</td>\n",
       "      <td>Airlines</td>\n",
       "      <td>Airlines</td>\n",
       "    </tr>\n",
       "    <tr>\n",
       "      <th>1</th>\n",
       "      <td>2D3D869A1DF82ACDCABBB08277ADECB8E5B64DB4DB516C...</td>\n",
       "      <td>com.rytong.hnair</td>\n",
       "      <td>airline company profile airline hold co ltd he...</td>\n",
       "      <td>[0.004994473420083523, -0.0420411080121994, 0....</td>\n",
       "      <td>Airlines</td>\n",
       "      <td>Airlines</td>\n",
       "    </tr>\n",
       "    <tr>\n",
       "      <th>2</th>\n",
       "      <td>238396FF004CF5505CC1FB783C2671D6E89867235D2846...</td>\n",
       "      <td>com.fsecure.eicar.antivirus.test</td>\n",
       "      <td>test safely antivirus app work note antivirus ...</td>\n",
       "      <td>[-0.015152397565543652, -0.0017729764804244041...</td>\n",
       "      <td>Antivirus</td>\n",
       "      <td>Antivirus</td>\n",
       "    </tr>\n",
       "    <tr>\n",
       "      <th>3</th>\n",
       "      <td>9937BC3FADCD8A177D78CD14217C6B81F7AAE687557751...</td>\n",
       "      <td>com.kbzbank.kpaycustomer</td>\n",
       "      <td>mobile wallet power bank safer simpler conveni...</td>\n",
       "      <td>[0.014227830804884434, -0.009698555804789066, ...</td>\n",
       "      <td>Banking</td>\n",
       "      <td>Banking</td>\n",
       "    </tr>\n",
       "    <tr>\n",
       "      <th>4</th>\n",
       "      <td>7B18A91FEBBCAF7AE470DAA12942C54E1DFB62B010FAB2...</td>\n",
       "      <td>com.banofinancial.app</td>\n",
       "      <td>innovative australia spend request save invest...</td>\n",
       "      <td>[-0.008306749165058136, -0.0017330991104245186...</td>\n",
       "      <td>Banking</td>\n",
       "      <td>Banking</td>\n",
       "    </tr>\n",
       "  </tbody>\n",
       "</table>\n",
       "</div>"
      ],
      "text/plain": [
       "                                              sha256  \\\n",
       "0  24D3490CF23842A791CBB5B10F1427808F4B163F9C4927...   \n",
       "1  2D3D869A1DF82ACDCABBB08277ADECB8E5B64DB4DB516C...   \n",
       "2  238396FF004CF5505CC1FB783C2671D6E89867235D2846...   \n",
       "3  9937BC3FADCD8A177D78CD14217C6B81F7AAE687557751...   \n",
       "4  7B18A91FEBBCAF7AE470DAA12942C54E1DFB62B010FAB2...   \n",
       "\n",
       "                            pkgName  \\\n",
       "0               com.rytong.airchina   \n",
       "1                  com.rytong.hnair   \n",
       "2  com.fsecure.eicar.antivirus.test   \n",
       "3          com.kbzbank.kpaycustomer   \n",
       "4             com.banofinancial.app   \n",
       "\n",
       "                                         description  \\\n",
       "0  air china national flag carrier offer commerci...   \n",
       "1  airline company profile airline hold co ltd he...   \n",
       "2  test safely antivirus app work note antivirus ...   \n",
       "3  mobile wallet power bank safer simpler conveni...   \n",
       "4  innovative australia spend request save invest...   \n",
       "\n",
       "                                           embedding  trueLabel newClassID  \n",
       "0  [0.016700733453035355, -0.028782714158296585, ...   Airlines   Airlines  \n",
       "1  [0.004994473420083523, -0.0420411080121994, 0....   Airlines   Airlines  \n",
       "2  [-0.015152397565543652, -0.0017729764804244041...  Antivirus  Antivirus  \n",
       "3  [0.014227830804884434, -0.009698555804789066, ...    Banking    Banking  \n",
       "4  [-0.008306749165058136, -0.0017330991104245186...    Banking    Banking  "
      ]
     },
     "execution_count": 14,
     "metadata": {},
     "output_type": "execute_result"
    }
   ],
   "source": [
    "appsDF.head(5)"
   ]
  },
  {
   "cell_type": "code",
   "execution_count": 15,
   "metadata": {},
   "outputs": [
    {
     "name": "stdout",
     "output_type": "stream",
     "text": [
      "Number of occurrences of 'NO_CLASS'            : 303\n",
      "Percentage of occurrences of 'NO_CLASS'        : 59.18%\n",
      "Number of occurrences of remaining classes     : 209\n",
      "Percentage of occurrences of remaining classes : 40.82%\n"
     ]
    }
   ],
   "source": [
    "# Count occurrences of 'NO_CLASS' and calculate percentage\n",
    "noClassCount = (appsDF['newClassID'] == 'NO_CLASS').sum()\n",
    "noClassPercentage = (noClassCount / len(appsDF)) * 100\n",
    "\n",
    "# Calculate counts and percentages for remaining classes\n",
    "remainingCount = len(appsDF) - noClassCount\n",
    "remainingPercentage = 100 - noClassPercentage\n",
    "\n",
    "# Print results for 'NO_CLASS'\n",
    "print(f\"Number of occurrences of 'NO_CLASS'            : {noClassCount}\")\n",
    "print(f\"Percentage of occurrences of 'NO_CLASS'        : {noClassPercentage:.2f}%\")\n",
    "\n",
    "# Print results for remaining classes\n",
    "print(f\"Number of occurrences of remaining classes     : {remainingCount}\")\n",
    "print(f\"Percentage of occurrences of remaining classes : {remainingPercentage:.2f}%\")"
   ]
  },
  {
   "cell_type": "code",
   "execution_count": 16,
   "metadata": {},
   "outputs": [],
   "source": [
    "appsDF = appsDF.drop(columns=['description','embedding'])\n",
    "appsDF.to_csv(\"../TmpData/3_MalCatSet_NewLabels.csv\", index=False)"
   ]
  },
  {
   "cell_type": "markdown",
   "metadata": {},
   "source": [
    "##### 🔚 End"
   ]
  },
  {
   "cell_type": "code",
   "execution_count": 17,
   "metadata": {},
   "outputs": [
    {
     "name": "stdout",
     "output_type": "stream",
     "text": [
      "\n",
      "🔚 --- End - 2024-07-20 18:58:12.885079 --- 🔚\n",
      "⏱️ --- Time: 00 minutes and 02 seconds --- ⏱️\n"
     ]
    }
   ],
   "source": [
    "endTime = datetime.datetime.now()\n",
    "print(\"\\n🔚 --- End - {} --- 🔚\".format(endTime))\n",
    "\n",
    "# Assuming endTime and startTime are in seconds\n",
    "totalTime = endTime - startTime\n",
    "minutes = totalTime.total_seconds() // 60\n",
    "seconds = totalTime.total_seconds() % 60\n",
    "print(\"⏱️ --- Time: {:02d} minutes and {:02d} seconds --- ⏱️\".format(int(minutes), int(seconds)))"
   ]
  }
 ],
 "metadata": {
  "kernelspec": {
   "display_name": "Python 3",
   "language": "python",
   "name": "python3"
  },
  "language_info": {
   "codemirror_mode": {
    "name": "ipython",
    "version": 3
   },
   "file_extension": ".py",
   "mimetype": "text/x-python",
   "name": "python",
   "nbconvert_exporter": "python",
   "pygments_lexer": "ipython3",
   "version": "3.9.19"
  }
 },
 "nbformat": 4,
 "nbformat_minor": 2
}
