{
 "cells": [
  {
   "cell_type": "markdown",
   "metadata": {},
   "source": [
    "## 🔢 App Classification"
   ]
  },
  {
   "cell_type": "code",
   "execution_count": 19,
   "metadata": {},
   "outputs": [],
   "source": [
    "from sklearn.metrics               import accuracy_score, precision_score, recall_score, f1_score, confusion_matrix, classification_report\n",
    "from sklearn.model_selection       import train_test_split\n",
    "from sklearn.preprocessing         import LabelEncoder\n",
    "from sklearn.neural_network        import MLPClassifier\n",
    "from sklearn.linear_model          import LogisticRegression\n",
    "from sklearn                       import svm\n",
    "from dotenv                        import load_dotenv\n",
    "import pandas                      as pd\n",
    "import numpy                       as np\n",
    "import datetime\n",
    "import joblib\n",
    "import ast\n",
    "\n",
    "\n",
    "import warnings\n",
    "warnings.filterwarnings(\"ignore\")"
   ]
  },
  {
   "cell_type": "markdown",
   "metadata": {},
   "source": [
    "#### Initialization"
   ]
  },
  {
   "cell_type": "code",
   "execution_count": 20,
   "metadata": {},
   "outputs": [],
   "source": [
    "RANDOM_SEED = 151836"
   ]
  },
  {
   "cell_type": "code",
   "execution_count": 21,
   "metadata": {},
   "outputs": [
    {
     "name": "stdout",
     "output_type": "stream",
     "text": [
      "⚡ Start - 2024-07-20 22:26:53.615906 ⚡\n",
      "\n"
     ]
    }
   ],
   "source": [
    "print(\"⚡ Start - {} ⚡\\n\".format(datetime.datetime.now()))\n",
    "startTime = datetime.datetime.now()"
   ]
  },
  {
   "cell_type": "markdown",
   "metadata": {},
   "source": [
    "#### 📥 1) Load Data "
   ]
  },
  {
   "cell_type": "code",
   "execution_count": 22,
   "metadata": {},
   "outputs": [
    {
     "name": "stdout",
     "output_type": "stream",
     "text": [
      "--- #️⃣ Apps: 942 \n"
     ]
    }
   ],
   "source": [
    "#DATA_PATH = \"../TmpData/3_MalCatSet_Embeddings.csv\"\n",
    "DATA_PATH = \"../TmpData/5_NewMal_Embeddings.csv\"\n",
    "\n",
    "# Read the data\n",
    "appsDF = pd.read_csv(DATA_PATH)\n",
    "\n",
    "print(\"--- #️⃣ Apps: {} \".format(appsDF.shape[0]))"
   ]
  },
  {
   "cell_type": "code",
   "execution_count": 23,
   "metadata": {},
   "outputs": [
    {
     "data": {
      "text/html": [
       "<div>\n",
       "<style scoped>\n",
       "    .dataframe tbody tr th:only-of-type {\n",
       "        vertical-align: middle;\n",
       "    }\n",
       "\n",
       "    .dataframe tbody tr th {\n",
       "        vertical-align: top;\n",
       "    }\n",
       "\n",
       "    .dataframe thead th {\n",
       "        text-align: right;\n",
       "    }\n",
       "</style>\n",
       "<table border=\"1\" class=\"dataframe\">\n",
       "  <thead>\n",
       "    <tr style=\"text-align: right;\">\n",
       "      <th></th>\n",
       "      <th>pkgName</th>\n",
       "      <th>description</th>\n",
       "      <th>embedding</th>\n",
       "    </tr>\n",
       "  </thead>\n",
       "  <tbody>\n",
       "    <tr>\n",
       "      <th>0</th>\n",
       "      <td>es.aroundpixels.hsk3lite</td>\n",
       "      <td>worry know study chinese complicate bingo teac...</td>\n",
       "      <td>[0.005222779233008623, -0.01788198947906494, -...</td>\n",
       "    </tr>\n",
       "    <tr>\n",
       "      <th>1</th>\n",
       "      <td>com.onesports.score</td>\n",
       "      <td>expert information statistic completely new ex...</td>\n",
       "      <td>[-0.01127683650702238, 0.0010928395204246044, ...</td>\n",
       "    </tr>\n",
       "    <tr>\n",
       "      <th>2</th>\n",
       "      <td>com.perception.soc.en</td>\n",
       "      <td>play best classic empire online truly massivel...</td>\n",
       "      <td>[0.02538859285414219, 0.04251297935843468, 0.0...</td>\n",
       "    </tr>\n",
       "    <tr>\n",
       "      <th>3</th>\n",
       "      <td>im.token.app</td>\n",
       "      <td>reliable web digital wallet trust ten million ...</td>\n",
       "      <td>[0.012788532301783562, 0.004980458877980709, -...</td>\n",
       "    </tr>\n",
       "    <tr>\n",
       "      <th>4</th>\n",
       "      <td>com.Siyou.HD</td>\n",
       "      <td>download application free pilot r hd drone use...</td>\n",
       "      <td>[0.012929912656545639, 0.030403099954128265, -...</td>\n",
       "    </tr>\n",
       "  </tbody>\n",
       "</table>\n",
       "</div>"
      ],
      "text/plain": [
       "                    pkgName  \\\n",
       "0  es.aroundpixels.hsk3lite   \n",
       "1       com.onesports.score   \n",
       "2     com.perception.soc.en   \n",
       "3              im.token.app   \n",
       "4              com.Siyou.HD   \n",
       "\n",
       "                                         description  \\\n",
       "0  worry know study chinese complicate bingo teac...   \n",
       "1  expert information statistic completely new ex...   \n",
       "2  play best classic empire online truly massivel...   \n",
       "3  reliable web digital wallet trust ten million ...   \n",
       "4  download application free pilot r hd drone use...   \n",
       "\n",
       "                                           embedding  \n",
       "0  [0.005222779233008623, -0.01788198947906494, -...  \n",
       "1  [-0.01127683650702238, 0.0010928395204246044, ...  \n",
       "2  [0.02538859285414219, 0.04251297935843468, 0.0...  \n",
       "3  [0.012788532301783562, 0.004980458877980709, -...  \n",
       "4  [0.012929912656545639, 0.030403099954128265, -...  "
      ]
     },
     "execution_count": 23,
     "metadata": {},
     "output_type": "execute_result"
    }
   ],
   "source": [
    "appsDF.head(5)"
   ]
  },
  {
   "cell_type": "markdown",
   "metadata": {},
   "source": [
    "#### 2) Reorganize a bit the data"
   ]
  },
  {
   "cell_type": "code",
   "execution_count": 24,
   "metadata": {},
   "outputs": [],
   "source": [
    "def convertToNumpyArray(arrayStr):\n",
    "\t# Convert the string representation to a list using ast.literal_eval\n",
    "\tarrayList = ast.literal_eval(arrayStr)\n",
    "\t# Convert the list to a numpy array\n",
    "\treturn np.array(arrayList)\n",
    "\n",
    "# Apply the conversion function to the column\n",
    "appsDF['embedding'] = appsDF['embedding'].apply(convertToNumpyArray)"
   ]
  },
  {
   "cell_type": "code",
   "execution_count": 25,
   "metadata": {},
   "outputs": [
    {
     "data": {
      "text/html": [
       "<div>\n",
       "<style scoped>\n",
       "    .dataframe tbody tr th:only-of-type {\n",
       "        vertical-align: middle;\n",
       "    }\n",
       "\n",
       "    .dataframe tbody tr th {\n",
       "        vertical-align: top;\n",
       "    }\n",
       "\n",
       "    .dataframe thead th {\n",
       "        text-align: right;\n",
       "    }\n",
       "</style>\n",
       "<table border=\"1\" class=\"dataframe\">\n",
       "  <thead>\n",
       "    <tr style=\"text-align: right;\">\n",
       "      <th></th>\n",
       "      <th>pkgName</th>\n",
       "      <th>description</th>\n",
       "      <th>embedding</th>\n",
       "    </tr>\n",
       "  </thead>\n",
       "  <tbody>\n",
       "    <tr>\n",
       "      <th>0</th>\n",
       "      <td>es.aroundpixels.hsk3lite</td>\n",
       "      <td>worry know study chinese complicate bingo teac...</td>\n",
       "      <td>[0.005222779233008623, -0.01788198947906494, -...</td>\n",
       "    </tr>\n",
       "    <tr>\n",
       "      <th>1</th>\n",
       "      <td>com.onesports.score</td>\n",
       "      <td>expert information statistic completely new ex...</td>\n",
       "      <td>[-0.01127683650702238, 0.0010928395204246044, ...</td>\n",
       "    </tr>\n",
       "    <tr>\n",
       "      <th>2</th>\n",
       "      <td>com.perception.soc.en</td>\n",
       "      <td>play best classic empire online truly massivel...</td>\n",
       "      <td>[0.02538859285414219, 0.04251297935843468, 0.0...</td>\n",
       "    </tr>\n",
       "    <tr>\n",
       "      <th>3</th>\n",
       "      <td>im.token.app</td>\n",
       "      <td>reliable web digital wallet trust ten million ...</td>\n",
       "      <td>[0.012788532301783562, 0.004980458877980709, -...</td>\n",
       "    </tr>\n",
       "    <tr>\n",
       "      <th>4</th>\n",
       "      <td>com.Siyou.HD</td>\n",
       "      <td>download application free pilot r hd drone use...</td>\n",
       "      <td>[0.012929912656545639, 0.030403099954128265, -...</td>\n",
       "    </tr>\n",
       "  </tbody>\n",
       "</table>\n",
       "</div>"
      ],
      "text/plain": [
       "                    pkgName  \\\n",
       "0  es.aroundpixels.hsk3lite   \n",
       "1       com.onesports.score   \n",
       "2     com.perception.soc.en   \n",
       "3              im.token.app   \n",
       "4              com.Siyou.HD   \n",
       "\n",
       "                                         description  \\\n",
       "0  worry know study chinese complicate bingo teac...   \n",
       "1  expert information statistic completely new ex...   \n",
       "2  play best classic empire online truly massivel...   \n",
       "3  reliable web digital wallet trust ten million ...   \n",
       "4  download application free pilot r hd drone use...   \n",
       "\n",
       "                                           embedding  \n",
       "0  [0.005222779233008623, -0.01788198947906494, -...  \n",
       "1  [-0.01127683650702238, 0.0010928395204246044, ...  \n",
       "2  [0.02538859285414219, 0.04251297935843468, 0.0...  \n",
       "3  [0.012788532301783562, 0.004980458877980709, -...  \n",
       "4  [0.012929912656545639, 0.030403099954128265, -...  "
      ]
     },
     "execution_count": 25,
     "metadata": {},
     "output_type": "execute_result"
    }
   ],
   "source": [
    "appsDF.head(5)"
   ]
  },
  {
   "cell_type": "markdown",
   "metadata": {},
   "source": [
    "#### 3) Train"
   ]
  },
  {
   "cell_type": "markdown",
   "metadata": {},
   "source": [
    "Get X (Data), Y (Labels) And split."
   ]
  },
  {
   "cell_type": "code",
   "execution_count": 26,
   "metadata": {},
   "outputs": [
    {
     "name": "stdout",
     "output_type": "stream",
     "text": [
      "--- 📐 X Shape : (942, 1536)\n",
      "NO_CLASS Special Value: 30\n"
     ]
    }
   ],
   "source": [
    "# Convert the list of arrays into a NumPy matrix\n",
    "X = np.vstack(appsDF['embedding'].tolist())\n",
    "print(\"--- 📐 X Shape : {}\".format(X.shape))\n",
    "\n",
    "# Create an instance of LabelEncoder using a special value for NO CLASS\n",
    "labelEncoder = joblib.load(\"../TmpData/labelEncoder.joblib\")\n",
    "\n",
    "NO_CLASS_VALUE = labelEncoder.transform([\"NO_CLASS\"])[0]\n",
    "print(\"NO_CLASS Special Value:\", NO_CLASS_VALUE)"
   ]
  },
  {
   "cell_type": "code",
   "execution_count": 27,
   "metadata": {},
   "outputs": [],
   "source": [
    "# TO evaluate the model\n",
    "def evaluateModel(modelName, Y_test, Y_pred, threshold):\n",
    "\n",
    "\tmask = (Y_pred != NO_CLASS_VALUE) & (Y_test != NO_CLASS_VALUE)\n",
    "\tY_test_filtered = Y_test[mask]\n",
    "\tY_pred_filtered = Y_pred[mask]\n",
    "\n",
    "\t# print(Y_test)\n",
    "\t# print(Y_test_filtered)\n",
    "\t# print(Y_pred)\n",
    "\t# print(Y_pred_filtered)\n",
    "\n",
    "\t# Compute metrics only on filtered labels\n",
    "\taccuracy  = accuracy_score(Y_test_filtered, Y_pred_filtered)\n",
    "\tprecision = precision_score(Y_test_filtered, Y_pred_filtered, average='weighted')\n",
    "\trecall    = recall_score(Y_test_filtered, Y_pred_filtered, average='weighted')\n",
    "\tf1        = f1_score(Y_test_filtered, Y_pred_filtered, average='weighted')\n",
    "\n",
    "\t# Print metrics in a well-formatted way\n",
    "\tprint(\"--- 📊 Model Evaluation Metrics 📊 ---\")\n",
    "\tprint(\"--- Model                    : {}\".format(modelName))\n",
    "\tprint(\"--- Confidence Threshold     : {:.2f}\".format(threshold))\n",
    "\tprint(\"--- Metrics:\")\n",
    "\tprint(\"------ Accuracy              : {:.4f}\".format(accuracy))\n",
    "\tprint(\"------ Precision (weighted)  : {:.4f}\".format(precision))\n",
    "\tprint(\"------ Recall (weighted)     : {:.4f}\".format(recall))\n",
    "\tprint(\"------ F1 Score (weighted)   : {:.4f}\".format(f1))\n",
    "\tprint(\"--\"*20 + \"\\n\")\n",
    "\n",
    "def applyThreshold(probabilities, threshold):\n",
    "\tY_pred = []\n",
    "\n",
    "\tfor prob in probabilities:\n",
    "\t\tif np.max(prob) < threshold:\n",
    "\t\t\tY_pred.append(NO_CLASS_VALUE)\n",
    "\t\telse:\n",
    "\t\t\t# Get the index of the maximum probability\n",
    "\t\t\tpredicted_class = np.argmax(prob)\n",
    "\t\t\t# To fix index mismatch\n",
    "\t\t\tif(predicted_class) > NO_CLASS_VALUE:\n",
    "\t\t\t\tpredicted_class += 1\n",
    "\t\t\tY_pred.append(predicted_class)\n",
    "\t\n",
    "\treturn np.array(Y_pred)"
   ]
  },
  {
   "cell_type": "code",
   "execution_count": 28,
   "metadata": {},
   "outputs": [
    {
     "name": "stdout",
     "output_type": "stream",
     "text": [
      "SVC(C=1, gamma=1, kernel='sigmoid', probability=True)\n"
     ]
    }
   ],
   "source": [
    "model = joblib.load(\"../TmpData/svmModel.joblib\")\n",
    "print(model)"
   ]
  },
  {
   "cell_type": "code",
   "execution_count": 29,
   "metadata": {},
   "outputs": [],
   "source": [
    "# Define a range of confidence thresholds\n",
    "confidfenceThreshold = 0.5\n",
    "\n",
    "# For entire Dataset\n",
    "allProbablities = model.predict_proba(X)\n",
    "\n",
    "# Use threshold\n",
    "Y_pred = applyThreshold(allProbablities, confidfenceThreshold)\n",
    "\n",
    "# Convert numeric predictions back to labels\n",
    "predictedLabels = labelEncoder.inverse_transform(Y_pred)"
   ]
  },
  {
   "cell_type": "markdown",
   "metadata": {},
   "source": [
    "### 4) Save Results"
   ]
  },
  {
   "cell_type": "code",
   "execution_count": 30,
   "metadata": {},
   "outputs": [],
   "source": [
    "# Add the predictions to the DataFrame\n",
    "appsDF[\"classID\"] = predictedLabels"
   ]
  },
  {
   "cell_type": "code",
   "execution_count": 31,
   "metadata": {},
   "outputs": [
    {
     "data": {
      "text/html": [
       "<div>\n",
       "<style scoped>\n",
       "    .dataframe tbody tr th:only-of-type {\n",
       "        vertical-align: middle;\n",
       "    }\n",
       "\n",
       "    .dataframe tbody tr th {\n",
       "        vertical-align: top;\n",
       "    }\n",
       "\n",
       "    .dataframe thead th {\n",
       "        text-align: right;\n",
       "    }\n",
       "</style>\n",
       "<table border=\"1\" class=\"dataframe\">\n",
       "  <thead>\n",
       "    <tr style=\"text-align: right;\">\n",
       "      <th></th>\n",
       "      <th>pkgName</th>\n",
       "      <th>description</th>\n",
       "      <th>embedding</th>\n",
       "      <th>classID</th>\n",
       "    </tr>\n",
       "  </thead>\n",
       "  <tbody>\n",
       "    <tr>\n",
       "      <th>0</th>\n",
       "      <td>es.aroundpixels.hsk3lite</td>\n",
       "      <td>worry know study chinese complicate bingo teac...</td>\n",
       "      <td>[0.005222779233008623, -0.01788198947906494, -...</td>\n",
       "      <td>LanguageLearning</td>\n",
       "    </tr>\n",
       "    <tr>\n",
       "      <th>1</th>\n",
       "      <td>com.onesports.score</td>\n",
       "      <td>expert information statistic completely new ex...</td>\n",
       "      <td>[-0.01127683650702238, 0.0010928395204246044, ...</td>\n",
       "      <td>NO_CLASS</td>\n",
       "    </tr>\n",
       "    <tr>\n",
       "      <th>2</th>\n",
       "      <td>com.perception.soc.en</td>\n",
       "      <td>play best classic empire online truly massivel...</td>\n",
       "      <td>[0.02538859285414219, 0.04251297935843468, 0.0...</td>\n",
       "      <td>NO_CLASS</td>\n",
       "    </tr>\n",
       "    <tr>\n",
       "      <th>3</th>\n",
       "      <td>im.token.app</td>\n",
       "      <td>reliable web digital wallet trust ten million ...</td>\n",
       "      <td>[0.012788532301783562, 0.004980458877980709, -...</td>\n",
       "      <td>NO_CLASS</td>\n",
       "    </tr>\n",
       "    <tr>\n",
       "      <th>4</th>\n",
       "      <td>com.Siyou.HD</td>\n",
       "      <td>download application free pilot r hd drone use...</td>\n",
       "      <td>[0.012929912656545639, 0.030403099954128265, -...</td>\n",
       "      <td>NO_CLASS</td>\n",
       "    </tr>\n",
       "  </tbody>\n",
       "</table>\n",
       "</div>"
      ],
      "text/plain": [
       "                    pkgName  \\\n",
       "0  es.aroundpixels.hsk3lite   \n",
       "1       com.onesports.score   \n",
       "2     com.perception.soc.en   \n",
       "3              im.token.app   \n",
       "4              com.Siyou.HD   \n",
       "\n",
       "                                         description  \\\n",
       "0  worry know study chinese complicate bingo teac...   \n",
       "1  expert information statistic completely new ex...   \n",
       "2  play best classic empire online truly massivel...   \n",
       "3  reliable web digital wallet trust ten million ...   \n",
       "4  download application free pilot r hd drone use...   \n",
       "\n",
       "                                           embedding           classID  \n",
       "0  [0.005222779233008623, -0.01788198947906494, -...  LanguageLearning  \n",
       "1  [-0.01127683650702238, 0.0010928395204246044, ...          NO_CLASS  \n",
       "2  [0.02538859285414219, 0.04251297935843468, 0.0...          NO_CLASS  \n",
       "3  [0.012788532301783562, 0.004980458877980709, -...          NO_CLASS  \n",
       "4  [0.012929912656545639, 0.030403099954128265, -...          NO_CLASS  "
      ]
     },
     "execution_count": 31,
     "metadata": {},
     "output_type": "execute_result"
    }
   ],
   "source": [
    "appsDF.head(5)"
   ]
  },
  {
   "cell_type": "code",
   "execution_count": 32,
   "metadata": {},
   "outputs": [
    {
     "name": "stdout",
     "output_type": "stream",
     "text": [
      "classID\n",
      "NO_CLASS                   679\n",
      "Vpn                         54\n",
      "Translator                  43\n",
      "Investment                  20\n",
      "SmartHome                   17\n",
      "LanguageLearning            16\n",
      "Banking                     14\n",
      "News                        12\n",
      "Antivirus                   11\n",
      "BooksReader                 10\n",
      "Weather                      6\n",
      "PhotoEditor                  5\n",
      "Shopping                     5\n",
      "RemoteControl                5\n",
      "Browser                      4\n",
      "Wallpaper                    4\n",
      "Calendar                     4\n",
      "Launcher                     4\n",
      "Airlines                     3\n",
      "Radio                        3\n",
      "Astrology                    3\n",
      "Dating                       3\n",
      "Messenger                    2\n",
      "BarcodeAndQRcodeScanner      2\n",
      "Drawing                      2\n",
      "Notepad                      2\n",
      "Recipes                      2\n",
      "FoodDelivery                 2\n",
      "PublicTransit                2\n",
      "Dialer                       1\n",
      "JobSearch                    1\n",
      "Streaming                    1\n",
      "Name: count, dtype: int64\n"
     ]
    }
   ],
   "source": [
    "# Count values in column 'A'\n",
    "counts = appsDF['classID'].value_counts()\n",
    "\n",
    "# Display the counts\n",
    "print(counts)"
   ]
  },
  {
   "cell_type": "code",
   "execution_count": 33,
   "metadata": {},
   "outputs": [
    {
     "name": "stdout",
     "output_type": "stream",
     "text": [
      "Number of occurrences of 'NO_CLASS'            : 679\n",
      "Percentage of occurrences of 'NO_CLASS'        : 72.08%\n",
      "Number of occurrences of remaining classes     : 263\n",
      "Percentage of occurrences of remaining classes : 27.92%\n"
     ]
    }
   ],
   "source": [
    "# Count occurrences of 'NO_CLASS' and calculate percentage\n",
    "noClassCount = (appsDF['classID'] == 'NO_CLASS').sum()\n",
    "noClassPercentage = (noClassCount / len(appsDF)) * 100\n",
    "\n",
    "# Calculate counts and percentages for remaining classes\n",
    "remainingCount = len(appsDF) - noClassCount\n",
    "remainingPercentage = 100 - noClassPercentage\n",
    "\n",
    "# Print results for 'NO_CLASS'\n",
    "print(f\"Number of occurrences of 'NO_CLASS'            : {noClassCount}\")\n",
    "print(f\"Percentage of occurrences of 'NO_CLASS'        : {noClassPercentage:.2f}%\")\n",
    "\n",
    "# Print results for remaining classes\n",
    "print(f\"Number of occurrences of remaining classes     : {remainingCount}\")\n",
    "print(f\"Percentage of occurrences of remaining classes : {remainingPercentage:.2f}%\")"
   ]
  },
  {
   "cell_type": "code",
   "execution_count": 34,
   "metadata": {},
   "outputs": [],
   "source": [
    "# Drop rows where classID is 'NO_CLASS'\n",
    "appsDF = appsDF[appsDF['classID'] != 'NO_CLASS']\n",
    "\n",
    "# Order the DataFrame by classID\n",
    "appsDF = appsDF.sort_values(by='classID')"
   ]
  },
  {
   "cell_type": "code",
   "execution_count": 35,
   "metadata": {},
   "outputs": [],
   "source": [
    "# appsDF = appsDF.drop(columns=['description','embedding'])\n",
    "# appsDF.to_csv(\"../TmpData/3_MalCatSet_NewLabels.csv\", index=False)\n",
    "\n",
    "appsDF = appsDF.drop(columns=['description','embedding'])\n",
    "appsDF.to_csv(\"../TmpData/5_NewMal_NewLabels.csv\", index=False)"
   ]
  },
  {
   "cell_type": "markdown",
   "metadata": {},
   "source": [
    "##### 🔚 End"
   ]
  },
  {
   "cell_type": "code",
   "execution_count": 36,
   "metadata": {},
   "outputs": [
    {
     "name": "stdout",
     "output_type": "stream",
     "text": [
      "\n",
      "🔚 --- End - 2024-07-20 22:26:58.457485 --- 🔚\n",
      "⏱️ --- Time: 00 minutes and 04 seconds --- ⏱️\n"
     ]
    }
   ],
   "source": [
    "endTime = datetime.datetime.now()\n",
    "print(\"\\n🔚 --- End - {} --- 🔚\".format(endTime))\n",
    "\n",
    "# Assuming endTime and startTime are in seconds\n",
    "totalTime = endTime - startTime\n",
    "minutes = totalTime.total_seconds() // 60\n",
    "seconds = totalTime.total_seconds() % 60\n",
    "print(\"⏱️ --- Time: {:02d} minutes and {:02d} seconds --- ⏱️\".format(int(minutes), int(seconds)))"
   ]
  }
 ],
 "metadata": {
  "kernelspec": {
   "display_name": "Python 3",
   "language": "python",
   "name": "python3"
  },
  "language_info": {
   "codemirror_mode": {
    "name": "ipython",
    "version": 3
   },
   "file_extension": ".py",
   "mimetype": "text/x-python",
   "name": "python",
   "nbconvert_exporter": "python",
   "pygments_lexer": "ipython3",
   "version": "3.9.19"
  }
 },
 "nbformat": 4,
 "nbformat_minor": 2
}
