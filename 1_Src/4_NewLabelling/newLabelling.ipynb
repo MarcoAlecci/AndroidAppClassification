{
 "cells": [
  {
   "cell_type": "markdown",
   "metadata": {},
   "source": [
    "## 🔢 App Classification"
   ]
  },
  {
   "cell_type": "code",
   "execution_count": 55,
   "metadata": {},
   "outputs": [],
   "source": [
    "from sklearn.metrics               import accuracy_score, precision_score, recall_score, f1_score, confusion_matrix, classification_report\n",
    "from sklearn.model_selection       import train_test_split\n",
    "from sklearn.preprocessing         import LabelEncoder\n",
    "from sklearn.neural_network        import MLPClassifier\n",
    "from sklearn.linear_model          import LogisticRegression\n",
    "from sklearn                       import svm\n",
    "from dotenv                        import load_dotenv\n",
    "import pandas                      as pd\n",
    "import numpy                       as np\n",
    "import datetime\n",
    "import joblib\n",
    "import ast\n",
    "\n",
    "\n",
    "import warnings\n",
    "warnings.filterwarnings(\"ignore\")"
   ]
  },
  {
   "cell_type": "markdown",
   "metadata": {},
   "source": [
    "#### Initialization"
   ]
  },
  {
   "cell_type": "code",
   "execution_count": 56,
   "metadata": {},
   "outputs": [],
   "source": [
    "RANDOM_SEED = 151836"
   ]
  },
  {
   "cell_type": "code",
   "execution_count": 57,
   "metadata": {},
   "outputs": [
    {
     "name": "stdout",
     "output_type": "stream",
     "text": [
      "⚡ Start - 2024-07-20 23:54:03.370808 ⚡\n",
      "\n"
     ]
    }
   ],
   "source": [
    "print(\"⚡ Start - {} ⚡\\n\".format(datetime.datetime.now()))\n",
    "startTime = datetime.datetime.now()"
   ]
  },
  {
   "cell_type": "markdown",
   "metadata": {},
   "source": [
    "#### 📥 1) Load Data "
   ]
  },
  {
   "cell_type": "code",
   "execution_count": 58,
   "metadata": {},
   "outputs": [
    {
     "name": "stdout",
     "output_type": "stream",
     "text": [
      "--- #️⃣ Apps: 128 \n"
     ]
    }
   ],
   "source": [
    "#DATA_PATH = \"../TmpData/3_MalCatSet_Embeddings.csv\"\n",
    "#DATA_PATH = \"../TmpData/4_MudFlow_Embeddings.csv\"\n",
    "DATA_PATH = \"../TmpData/5_NewMal_Embeddings.csv\"\n",
    "\n",
    "# Read the data\n",
    "appsDF = pd.read_csv(DATA_PATH)\n",
    "\n",
    "print(\"--- #️⃣ Apps: {} \".format(appsDF.shape[0]))"
   ]
  },
  {
   "cell_type": "code",
   "execution_count": 59,
   "metadata": {},
   "outputs": [
    {
     "data": {
      "text/html": [
       "<div>\n",
       "<style scoped>\n",
       "    .dataframe tbody tr th:only-of-type {\n",
       "        vertical-align: middle;\n",
       "    }\n",
       "\n",
       "    .dataframe tbody tr th {\n",
       "        vertical-align: top;\n",
       "    }\n",
       "\n",
       "    .dataframe thead th {\n",
       "        text-align: right;\n",
       "    }\n",
       "</style>\n",
       "<table border=\"1\" class=\"dataframe\">\n",
       "  <thead>\n",
       "    <tr style=\"text-align: right;\">\n",
       "      <th></th>\n",
       "      <th>sha256</th>\n",
       "      <th>pkgName</th>\n",
       "      <th>description</th>\n",
       "      <th>embedding</th>\n",
       "    </tr>\n",
       "  </thead>\n",
       "  <tbody>\n",
       "    <tr>\n",
       "      <th>0</th>\n",
       "      <td>093EBD1938A3FD17C91FBB34AED59E53F927EDBCE36865...</td>\n",
       "      <td>com.zoner.android.security</td>\n",
       "      <td>app work mobile device tablet switch layout se...</td>\n",
       "      <td>[-0.00041017646435648203, 0.008432715199887753...</td>\n",
       "    </tr>\n",
       "    <tr>\n",
       "      <th>1</th>\n",
       "      <td>4156C9E0A3F5469E0A4B2BC39D6D58EEAD89B8C5AC951A...</td>\n",
       "      <td>com.crescentmoongames.monkeyboxing</td>\n",
       "      <td>enter monkey box league monkey box step inside...</td>\n",
       "      <td>[0.008457562886178493, 0.010708541609346867, -...</td>\n",
       "    </tr>\n",
       "    <tr>\n",
       "      <th>2</th>\n",
       "      <td>701B6E746DFB5521C8FD70662945A1AA92980F371662C3...</td>\n",
       "      <td>com.roamingsoft.manager</td>\n",
       "      <td>wifi connection manager scanner manager connec...</td>\n",
       "      <td>[-0.029483338817954063, 0.0008390073198825121,...</td>\n",
       "    </tr>\n",
       "    <tr>\n",
       "      <th>3</th>\n",
       "      <td>9739C87F05E3AAE3B1B600F4CC4B01DBBCE16B92AAC414...</td>\n",
       "      <td>com.zeptolab.ctrexperiments.google.paid</td>\n",
       "      <td>experiment feed om candy cut rope like never e...</td>\n",
       "      <td>[0.03246341645717621, 0.009713522158563137, -0...</td>\n",
       "    </tr>\n",
       "    <tr>\n",
       "      <th>4</th>\n",
       "      <td>13100B7D640C539372B744C80C117600182D7F40109B34...</td>\n",
       "      <td>org.cohortor.gstrings</td>\n",
       "      <td>chromatic tuner application measure sound pitc...</td>\n",
       "      <td>[-0.007262952160090208, 0.015478202141821384, ...</td>\n",
       "    </tr>\n",
       "  </tbody>\n",
       "</table>\n",
       "</div>"
      ],
      "text/plain": [
       "                                              sha256  \\\n",
       "0  093EBD1938A3FD17C91FBB34AED59E53F927EDBCE36865...   \n",
       "1  4156C9E0A3F5469E0A4B2BC39D6D58EEAD89B8C5AC951A...   \n",
       "2  701B6E746DFB5521C8FD70662945A1AA92980F371662C3...   \n",
       "3  9739C87F05E3AAE3B1B600F4CC4B01DBBCE16B92AAC414...   \n",
       "4  13100B7D640C539372B744C80C117600182D7F40109B34...   \n",
       "\n",
       "                                   pkgName  \\\n",
       "0               com.zoner.android.security   \n",
       "1       com.crescentmoongames.monkeyboxing   \n",
       "2                  com.roamingsoft.manager   \n",
       "3  com.zeptolab.ctrexperiments.google.paid   \n",
       "4                    org.cohortor.gstrings   \n",
       "\n",
       "                                         description  \\\n",
       "0  app work mobile device tablet switch layout se...   \n",
       "1  enter monkey box league monkey box step inside...   \n",
       "2  wifi connection manager scanner manager connec...   \n",
       "3  experiment feed om candy cut rope like never e...   \n",
       "4  chromatic tuner application measure sound pitc...   \n",
       "\n",
       "                                           embedding  \n",
       "0  [-0.00041017646435648203, 0.008432715199887753...  \n",
       "1  [0.008457562886178493, 0.010708541609346867, -...  \n",
       "2  [-0.029483338817954063, 0.0008390073198825121,...  \n",
       "3  [0.03246341645717621, 0.009713522158563137, -0...  \n",
       "4  [-0.007262952160090208, 0.015478202141821384, ...  "
      ]
     },
     "execution_count": 59,
     "metadata": {},
     "output_type": "execute_result"
    }
   ],
   "source": [
    "appsDF.head(5)"
   ]
  },
  {
   "cell_type": "markdown",
   "metadata": {},
   "source": [
    "#### 2) Reorganize a bit the data"
   ]
  },
  {
   "cell_type": "code",
   "execution_count": 60,
   "metadata": {},
   "outputs": [],
   "source": [
    "def convertToNumpyArray(arrayStr):\n",
    "\t# Convert the string representation to a list using ast.literal_eval\n",
    "\tarrayList = ast.literal_eval(arrayStr)\n",
    "\t# Convert the list to a numpy array\n",
    "\treturn np.array(arrayList)\n",
    "\n",
    "# Apply the conversion function to the column\n",
    "appsDF['embedding'] = appsDF['embedding'].apply(convertToNumpyArray)"
   ]
  },
  {
   "cell_type": "code",
   "execution_count": 61,
   "metadata": {},
   "outputs": [
    {
     "data": {
      "text/html": [
       "<div>\n",
       "<style scoped>\n",
       "    .dataframe tbody tr th:only-of-type {\n",
       "        vertical-align: middle;\n",
       "    }\n",
       "\n",
       "    .dataframe tbody tr th {\n",
       "        vertical-align: top;\n",
       "    }\n",
       "\n",
       "    .dataframe thead th {\n",
       "        text-align: right;\n",
       "    }\n",
       "</style>\n",
       "<table border=\"1\" class=\"dataframe\">\n",
       "  <thead>\n",
       "    <tr style=\"text-align: right;\">\n",
       "      <th></th>\n",
       "      <th>sha256</th>\n",
       "      <th>pkgName</th>\n",
       "      <th>description</th>\n",
       "      <th>embedding</th>\n",
       "    </tr>\n",
       "  </thead>\n",
       "  <tbody>\n",
       "    <tr>\n",
       "      <th>0</th>\n",
       "      <td>093EBD1938A3FD17C91FBB34AED59E53F927EDBCE36865...</td>\n",
       "      <td>com.zoner.android.security</td>\n",
       "      <td>app work mobile device tablet switch layout se...</td>\n",
       "      <td>[-0.00041017646435648203, 0.008432715199887753...</td>\n",
       "    </tr>\n",
       "    <tr>\n",
       "      <th>1</th>\n",
       "      <td>4156C9E0A3F5469E0A4B2BC39D6D58EEAD89B8C5AC951A...</td>\n",
       "      <td>com.crescentmoongames.monkeyboxing</td>\n",
       "      <td>enter monkey box league monkey box step inside...</td>\n",
       "      <td>[0.008457562886178493, 0.010708541609346867, -...</td>\n",
       "    </tr>\n",
       "    <tr>\n",
       "      <th>2</th>\n",
       "      <td>701B6E746DFB5521C8FD70662945A1AA92980F371662C3...</td>\n",
       "      <td>com.roamingsoft.manager</td>\n",
       "      <td>wifi connection manager scanner manager connec...</td>\n",
       "      <td>[-0.029483338817954063, 0.0008390073198825121,...</td>\n",
       "    </tr>\n",
       "    <tr>\n",
       "      <th>3</th>\n",
       "      <td>9739C87F05E3AAE3B1B600F4CC4B01DBBCE16B92AAC414...</td>\n",
       "      <td>com.zeptolab.ctrexperiments.google.paid</td>\n",
       "      <td>experiment feed om candy cut rope like never e...</td>\n",
       "      <td>[0.03246341645717621, 0.009713522158563137, -0...</td>\n",
       "    </tr>\n",
       "    <tr>\n",
       "      <th>4</th>\n",
       "      <td>13100B7D640C539372B744C80C117600182D7F40109B34...</td>\n",
       "      <td>org.cohortor.gstrings</td>\n",
       "      <td>chromatic tuner application measure sound pitc...</td>\n",
       "      <td>[-0.007262952160090208, 0.015478202141821384, ...</td>\n",
       "    </tr>\n",
       "  </tbody>\n",
       "</table>\n",
       "</div>"
      ],
      "text/plain": [
       "                                              sha256  \\\n",
       "0  093EBD1938A3FD17C91FBB34AED59E53F927EDBCE36865...   \n",
       "1  4156C9E0A3F5469E0A4B2BC39D6D58EEAD89B8C5AC951A...   \n",
       "2  701B6E746DFB5521C8FD70662945A1AA92980F371662C3...   \n",
       "3  9739C87F05E3AAE3B1B600F4CC4B01DBBCE16B92AAC414...   \n",
       "4  13100B7D640C539372B744C80C117600182D7F40109B34...   \n",
       "\n",
       "                                   pkgName  \\\n",
       "0               com.zoner.android.security   \n",
       "1       com.crescentmoongames.monkeyboxing   \n",
       "2                  com.roamingsoft.manager   \n",
       "3  com.zeptolab.ctrexperiments.google.paid   \n",
       "4                    org.cohortor.gstrings   \n",
       "\n",
       "                                         description  \\\n",
       "0  app work mobile device tablet switch layout se...   \n",
       "1  enter monkey box league monkey box step inside...   \n",
       "2  wifi connection manager scanner manager connec...   \n",
       "3  experiment feed om candy cut rope like never e...   \n",
       "4  chromatic tuner application measure sound pitc...   \n",
       "\n",
       "                                           embedding  \n",
       "0  [-0.00041017646435648203, 0.008432715199887753...  \n",
       "1  [0.008457562886178493, 0.010708541609346867, -...  \n",
       "2  [-0.029483338817954063, 0.0008390073198825121,...  \n",
       "3  [0.03246341645717621, 0.009713522158563137, -0...  \n",
       "4  [-0.007262952160090208, 0.015478202141821384, ...  "
      ]
     },
     "execution_count": 61,
     "metadata": {},
     "output_type": "execute_result"
    }
   ],
   "source": [
    "appsDF.head(5)"
   ]
  },
  {
   "cell_type": "markdown",
   "metadata": {},
   "source": [
    "#### 3) Train"
   ]
  },
  {
   "cell_type": "markdown",
   "metadata": {},
   "source": [
    "Get X (Data), Y (Labels) And split."
   ]
  },
  {
   "cell_type": "code",
   "execution_count": 62,
   "metadata": {},
   "outputs": [
    {
     "name": "stdout",
     "output_type": "stream",
     "text": [
      "--- 📐 X Shape : (128, 1536)\n",
      "NO_CLASS Special Value: 30\n"
     ]
    }
   ],
   "source": [
    "# Convert the list of arrays into a NumPy matrix\n",
    "X = np.vstack(appsDF['embedding'].tolist())\n",
    "print(\"--- 📐 X Shape : {}\".format(X.shape))\n",
    "\n",
    "# Create an instance of LabelEncoder using a special value for NO CLASS\n",
    "labelEncoder = joblib.load(\"../TmpData/labelEncoder.joblib\")\n",
    "\n",
    "NO_CLASS_VALUE = labelEncoder.transform([\"NO_CLASS\"])[0]\n",
    "print(\"NO_CLASS Special Value:\", NO_CLASS_VALUE)"
   ]
  },
  {
   "cell_type": "code",
   "execution_count": 63,
   "metadata": {},
   "outputs": [],
   "source": [
    "# TO evaluate the model\n",
    "def evaluateModel(modelName, Y_test, Y_pred, threshold):\n",
    "\n",
    "\tmask = (Y_pred != NO_CLASS_VALUE) & (Y_test != NO_CLASS_VALUE)\n",
    "\tY_test_filtered = Y_test[mask]\n",
    "\tY_pred_filtered = Y_pred[mask]\n",
    "\n",
    "\t# print(Y_test)\n",
    "\t# print(Y_test_filtered)\n",
    "\t# print(Y_pred)\n",
    "\t# print(Y_pred_filtered)\n",
    "\n",
    "\t# Compute metrics only on filtered labels\n",
    "\taccuracy  = accuracy_score(Y_test_filtered, Y_pred_filtered)\n",
    "\tprecision = precision_score(Y_test_filtered, Y_pred_filtered, average='weighted')\n",
    "\trecall    = recall_score(Y_test_filtered, Y_pred_filtered, average='weighted')\n",
    "\tf1        = f1_score(Y_test_filtered, Y_pred_filtered, average='weighted')\n",
    "\n",
    "\t# Print metrics in a well-formatted way\n",
    "\tprint(\"--- 📊 Model Evaluation Metrics 📊 ---\")\n",
    "\tprint(\"--- Model                    : {}\".format(modelName))\n",
    "\tprint(\"--- Confidence Threshold     : {:.2f}\".format(threshold))\n",
    "\tprint(\"--- Metrics:\")\n",
    "\tprint(\"------ Accuracy              : {:.4f}\".format(accuracy))\n",
    "\tprint(\"------ Precision (weighted)  : {:.4f}\".format(precision))\n",
    "\tprint(\"------ Recall (weighted)     : {:.4f}\".format(recall))\n",
    "\tprint(\"------ F1 Score (weighted)   : {:.4f}\".format(f1))\n",
    "\tprint(\"--\"*20 + \"\\n\")\n",
    "\n",
    "def applyThreshold(probabilities, threshold):\n",
    "\tY_pred = []\n",
    "\n",
    "\tfor prob in probabilities:\n",
    "\t\tif np.max(prob) < threshold:\n",
    "\t\t\tY_pred.append(NO_CLASS_VALUE)\n",
    "\t\telse:\n",
    "\t\t\t# Get the index of the maximum probability\n",
    "\t\t\tpredicted_class = np.argmax(prob)\n",
    "\t\t\t# To fix index mismatch\n",
    "\t\t\tif(predicted_class) > NO_CLASS_VALUE:\n",
    "\t\t\t\tpredicted_class += 1\n",
    "\t\t\tY_pred.append(predicted_class)\n",
    "\t\n",
    "\treturn np.array(Y_pred)"
   ]
  },
  {
   "cell_type": "code",
   "execution_count": 64,
   "metadata": {},
   "outputs": [
    {
     "name": "stdout",
     "output_type": "stream",
     "text": [
      "SVC(C=1, gamma=1, kernel='sigmoid', probability=True)\n"
     ]
    }
   ],
   "source": [
    "model = joblib.load(\"../TmpData/svmModel.joblib\")\n",
    "print(model)"
   ]
  },
  {
   "cell_type": "code",
   "execution_count": 65,
   "metadata": {},
   "outputs": [],
   "source": [
    "# Define a range of confidence thresholds\n",
    "confidfenceThreshold = 0.5\n",
    "\n",
    "# For entire Dataset\n",
    "allProbablities = model.predict_proba(X)\n",
    "\n",
    "# Use threshold\n",
    "Y_pred = applyThreshold(allProbablities, confidfenceThreshold)\n",
    "\n",
    "# Convert numeric predictions back to labels\n",
    "predictedLabels = labelEncoder.inverse_transform(Y_pred)"
   ]
  },
  {
   "cell_type": "markdown",
   "metadata": {},
   "source": [
    "### 4) Save Results"
   ]
  },
  {
   "cell_type": "code",
   "execution_count": 66,
   "metadata": {},
   "outputs": [],
   "source": [
    "# Add the predictions to the DataFrame\n",
    "appsDF[\"classID\"] = predictedLabels"
   ]
  },
  {
   "cell_type": "code",
   "execution_count": 67,
   "metadata": {},
   "outputs": [
    {
     "data": {
      "text/html": [
       "<div>\n",
       "<style scoped>\n",
       "    .dataframe tbody tr th:only-of-type {\n",
       "        vertical-align: middle;\n",
       "    }\n",
       "\n",
       "    .dataframe tbody tr th {\n",
       "        vertical-align: top;\n",
       "    }\n",
       "\n",
       "    .dataframe thead th {\n",
       "        text-align: right;\n",
       "    }\n",
       "</style>\n",
       "<table border=\"1\" class=\"dataframe\">\n",
       "  <thead>\n",
       "    <tr style=\"text-align: right;\">\n",
       "      <th></th>\n",
       "      <th>sha256</th>\n",
       "      <th>pkgName</th>\n",
       "      <th>description</th>\n",
       "      <th>embedding</th>\n",
       "      <th>classID</th>\n",
       "    </tr>\n",
       "  </thead>\n",
       "  <tbody>\n",
       "    <tr>\n",
       "      <th>0</th>\n",
       "      <td>093EBD1938A3FD17C91FBB34AED59E53F927EDBCE36865...</td>\n",
       "      <td>com.zoner.android.security</td>\n",
       "      <td>app work mobile device tablet switch layout se...</td>\n",
       "      <td>[-0.00041017646435648203, 0.008432715199887753...</td>\n",
       "      <td>Antivirus</td>\n",
       "    </tr>\n",
       "    <tr>\n",
       "      <th>1</th>\n",
       "      <td>4156C9E0A3F5469E0A4B2BC39D6D58EEAD89B8C5AC951A...</td>\n",
       "      <td>com.crescentmoongames.monkeyboxing</td>\n",
       "      <td>enter monkey box league monkey box step inside...</td>\n",
       "      <td>[0.008457562886178493, 0.010708541609346867, -...</td>\n",
       "      <td>NO_CLASS</td>\n",
       "    </tr>\n",
       "    <tr>\n",
       "      <th>2</th>\n",
       "      <td>701B6E746DFB5521C8FD70662945A1AA92980F371662C3...</td>\n",
       "      <td>com.roamingsoft.manager</td>\n",
       "      <td>wifi connection manager scanner manager connec...</td>\n",
       "      <td>[-0.029483338817954063, 0.0008390073198825121,...</td>\n",
       "      <td>NO_CLASS</td>\n",
       "    </tr>\n",
       "    <tr>\n",
       "      <th>3</th>\n",
       "      <td>9739C87F05E3AAE3B1B600F4CC4B01DBBCE16B92AAC414...</td>\n",
       "      <td>com.zeptolab.ctrexperiments.google.paid</td>\n",
       "      <td>experiment feed om candy cut rope like never e...</td>\n",
       "      <td>[0.03246341645717621, 0.009713522158563137, -0...</td>\n",
       "      <td>NO_CLASS</td>\n",
       "    </tr>\n",
       "    <tr>\n",
       "      <th>4</th>\n",
       "      <td>13100B7D640C539372B744C80C117600182D7F40109B34...</td>\n",
       "      <td>org.cohortor.gstrings</td>\n",
       "      <td>chromatic tuner application measure sound pitc...</td>\n",
       "      <td>[-0.007262952160090208, 0.015478202141821384, ...</td>\n",
       "      <td>NO_CLASS</td>\n",
       "    </tr>\n",
       "  </tbody>\n",
       "</table>\n",
       "</div>"
      ],
      "text/plain": [
       "                                              sha256  \\\n",
       "0  093EBD1938A3FD17C91FBB34AED59E53F927EDBCE36865...   \n",
       "1  4156C9E0A3F5469E0A4B2BC39D6D58EEAD89B8C5AC951A...   \n",
       "2  701B6E746DFB5521C8FD70662945A1AA92980F371662C3...   \n",
       "3  9739C87F05E3AAE3B1B600F4CC4B01DBBCE16B92AAC414...   \n",
       "4  13100B7D640C539372B744C80C117600182D7F40109B34...   \n",
       "\n",
       "                                   pkgName  \\\n",
       "0               com.zoner.android.security   \n",
       "1       com.crescentmoongames.monkeyboxing   \n",
       "2                  com.roamingsoft.manager   \n",
       "3  com.zeptolab.ctrexperiments.google.paid   \n",
       "4                    org.cohortor.gstrings   \n",
       "\n",
       "                                         description  \\\n",
       "0  app work mobile device tablet switch layout se...   \n",
       "1  enter monkey box league monkey box step inside...   \n",
       "2  wifi connection manager scanner manager connec...   \n",
       "3  experiment feed om candy cut rope like never e...   \n",
       "4  chromatic tuner application measure sound pitc...   \n",
       "\n",
       "                                           embedding    classID  \n",
       "0  [-0.00041017646435648203, 0.008432715199887753...  Antivirus  \n",
       "1  [0.008457562886178493, 0.010708541609346867, -...   NO_CLASS  \n",
       "2  [-0.029483338817954063, 0.0008390073198825121,...   NO_CLASS  \n",
       "3  [0.03246341645717621, 0.009713522158563137, -0...   NO_CLASS  \n",
       "4  [-0.007262952160090208, 0.015478202141821384, ...   NO_CLASS  "
      ]
     },
     "execution_count": 67,
     "metadata": {},
     "output_type": "execute_result"
    }
   ],
   "source": [
    "appsDF.head(5)"
   ]
  },
  {
   "cell_type": "code",
   "execution_count": 68,
   "metadata": {},
   "outputs": [
    {
     "name": "stdout",
     "output_type": "stream",
     "text": [
      "classID\n",
      "NO_CLASS                   109\n",
      "PhotoEditor                  3\n",
      "Antivirus                    2\n",
      "BarcodeAndQRcodeScanner      2\n",
      "Dialer                       2\n",
      "Wallpaper                    1\n",
      "Keyboard                     1\n",
      "ExpenseTracker               1\n",
      "TravelGuide                  1\n",
      "FileManager                  1\n",
      "News                         1\n",
      "VideoPlayer                  1\n",
      "Banking                      1\n",
      "Calculator                   1\n",
      "Alarm                        1\n",
      "Name: count, dtype: int64\n"
     ]
    }
   ],
   "source": [
    "# Count values in column 'A'\n",
    "counts = appsDF['classID'].value_counts()\n",
    "\n",
    "# Display the counts\n",
    "print(counts)"
   ]
  },
  {
   "cell_type": "code",
   "execution_count": 69,
   "metadata": {},
   "outputs": [
    {
     "name": "stdout",
     "output_type": "stream",
     "text": [
      "Number of occurrences of 'NO_CLASS'            : 109\n",
      "Percentage of occurrences of 'NO_CLASS'        : 85.16%\n",
      "Number of occurrences of remaining classes     : 19\n",
      "Percentage of occurrences of remaining classes : 14.84%\n"
     ]
    }
   ],
   "source": [
    "# Count occurrences of 'NO_CLASS' and calculate percentage\n",
    "noClassCount = (appsDF['classID'] == 'NO_CLASS').sum()\n",
    "noClassPercentage = (noClassCount / len(appsDF)) * 100\n",
    "\n",
    "# Calculate counts and percentages for remaining classes\n",
    "remainingCount = len(appsDF) - noClassCount\n",
    "remainingPercentage = 100 - noClassPercentage\n",
    "\n",
    "# Print results for 'NO_CLASS'\n",
    "print(f\"Number of occurrences of 'NO_CLASS'            : {noClassCount}\")\n",
    "print(f\"Percentage of occurrences of 'NO_CLASS'        : {noClassPercentage:.2f}%\")\n",
    "\n",
    "# Print results for remaining classes\n",
    "print(f\"Number of occurrences of remaining classes     : {remainingCount}\")\n",
    "print(f\"Percentage of occurrences of remaining classes : {remainingPercentage:.2f}%\")"
   ]
  },
  {
   "cell_type": "code",
   "execution_count": 70,
   "metadata": {},
   "outputs": [],
   "source": [
    "# Drop rows where classID is 'NO_CLASS'\n",
    "appsDF = appsDF[appsDF['classID'] != 'NO_CLASS']\n",
    "\n",
    "# Order the DataFrame by classID\n",
    "appsDF = appsDF.sort_values(by='classID')"
   ]
  },
  {
   "cell_type": "code",
   "execution_count": 71,
   "metadata": {},
   "outputs": [],
   "source": [
    "# appsDF = appsDF.drop(columns=['description','embedding'])\n",
    "# appsDF.to_csv(\"../TmpData/3_MalCatSet_NewLabels.csv\", index=False)\n",
    "\n",
    "appsDF = appsDF.drop(columns=['description','embedding'])\n",
    "appsDF.to_csv(\"../TmpData/5_NewMal_NewLabels.csv\", index=False)\n",
    "\n",
    "#appsDF = appsDF.drop(columns=['description','embedding'])\n",
    "#appsDF.to_csv(\"../TmpData/4_MudFlow_NewLabels.csv\", index=False)"
   ]
  },
  {
   "cell_type": "markdown",
   "metadata": {},
   "source": [
    "##### 🔚 End"
   ]
  },
  {
   "cell_type": "code",
   "execution_count": 72,
   "metadata": {},
   "outputs": [
    {
     "name": "stdout",
     "output_type": "stream",
     "text": [
      "\n",
      "🔚 --- End - 2024-07-20 23:54:04.196988 --- 🔚\n",
      "⏱️ --- Time: 00 minutes and 00 seconds --- ⏱️\n"
     ]
    }
   ],
   "source": [
    "endTime = datetime.datetime.now()\n",
    "print(\"\\n🔚 --- End - {} --- 🔚\".format(endTime))\n",
    "\n",
    "# Assuming endTime and startTime are in seconds\n",
    "totalTime = endTime - startTime\n",
    "minutes = totalTime.total_seconds() // 60\n",
    "seconds = totalTime.total_seconds() % 60\n",
    "print(\"⏱️ --- Time: {:02d} minutes and {:02d} seconds --- ⏱️\".format(int(minutes), int(seconds)))"
   ]
  }
 ],
 "metadata": {
  "kernelspec": {
   "display_name": "Python 3",
   "language": "python",
   "name": "python3"
  },
  "language_info": {
   "codemirror_mode": {
    "name": "ipython",
    "version": 3
   },
   "file_extension": ".py",
   "mimetype": "text/x-python",
   "name": "python",
   "nbconvert_exporter": "python",
   "pygments_lexer": "ipython3",
   "version": "3.9.19"
  }
 },
 "nbformat": 4,
 "nbformat_minor": 2
}
