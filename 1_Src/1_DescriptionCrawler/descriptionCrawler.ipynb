{
 "cells": [
  {
   "cell_type": "markdown",
   "metadata": {},
   "source": [
    "## 🔢 Description Crawler"
   ]
  },
  {
   "cell_type": "code",
   "execution_count": 1,
   "metadata": {},
   "outputs": [],
   "source": [
    "# Imports\n",
    "import numpy    as np\n",
    "import pandas   as pd\n",
    "import google_play_scraper \n",
    "import langdetect\n",
    "import datetime\n",
    "import requests\n",
    "import time\n",
    "import json\n",
    "import os"
   ]
  },
  {
   "cell_type": "markdown",
   "metadata": {},
   "source": [
    "#### Initialization"
   ]
  },
  {
   "cell_type": "code",
   "execution_count": 2,
   "metadata": {},
   "outputs": [
    {
     "name": "stdout",
     "output_type": "stream",
     "text": [
      "⚡ Start - 2024-07-20 17:09:28.802943 ⚡\n",
      "\n"
     ]
    }
   ],
   "source": [
    "print(\"⚡ Start - {} ⚡\\n\".format(datetime.datetime.now()))\n",
    "startTime = datetime.datetime.now()"
   ]
  },
  {
   "cell_type": "markdown",
   "metadata": {},
   "source": [
    "#### 📥 1) Load Data "
   ]
  },
  {
   "cell_type": "code",
   "execution_count": 3,
   "metadata": {},
   "outputs": [
    {
     "name": "stdout",
     "output_type": "stream",
     "text": [
      "--- #️⃣ Apps: 3 \n"
     ]
    }
   ],
   "source": [
    "DATA_PATH = \"../../0_Data/3_MalCatSet.csv\"\n",
    "\n",
    "# Read the data\n",
    "appsDF = pd.read_csv(DATA_PATH)\n",
    "\n",
    "# TEST\n",
    "appsDF = appsDF.head(3)\n",
    "\n",
    "print(\"--- #️⃣ Apps: {} \".format(appsDF.shape[0]))"
   ]
  },
  {
   "cell_type": "code",
   "execution_count": 4,
   "metadata": {},
   "outputs": [
    {
     "data": {
      "text/html": [
       "<div>\n",
       "<style scoped>\n",
       "    .dataframe tbody tr th:only-of-type {\n",
       "        vertical-align: middle;\n",
       "    }\n",
       "\n",
       "    .dataframe tbody tr th {\n",
       "        vertical-align: top;\n",
       "    }\n",
       "\n",
       "    .dataframe thead th {\n",
       "        text-align: right;\n",
       "    }\n",
       "</style>\n",
       "<table border=\"1\" class=\"dataframe\">\n",
       "  <thead>\n",
       "    <tr style=\"text-align: right;\">\n",
       "      <th></th>\n",
       "      <th>sha256</th>\n",
       "      <th>pkgName</th>\n",
       "      <th>classID</th>\n",
       "    </tr>\n",
       "  </thead>\n",
       "  <tbody>\n",
       "    <tr>\n",
       "      <th>0</th>\n",
       "      <td>24D3490CF23842A791CBB5B10F1427808F4B163F9C4927...</td>\n",
       "      <td>com.rytong.airchina</td>\n",
       "      <td>Airlines</td>\n",
       "    </tr>\n",
       "    <tr>\n",
       "      <th>1</th>\n",
       "      <td>2D3D869A1DF82ACDCABBB08277ADECB8E5B64DB4DB516C...</td>\n",
       "      <td>com.rytong.hnair</td>\n",
       "      <td>Airlines</td>\n",
       "    </tr>\n",
       "    <tr>\n",
       "      <th>2</th>\n",
       "      <td>69C81403C28E86FE90975BAB668DD9F3FDC4330717A484...</td>\n",
       "      <td>com.nepel.scandriveanti</td>\n",
       "      <td>Antivirus</td>\n",
       "    </tr>\n",
       "  </tbody>\n",
       "</table>\n",
       "</div>"
      ],
      "text/plain": [
       "                                              sha256                  pkgName  \\\n",
       "0  24D3490CF23842A791CBB5B10F1427808F4B163F9C4927...      com.rytong.airchina   \n",
       "1  2D3D869A1DF82ACDCABBB08277ADECB8E5B64DB4DB516C...         com.rytong.hnair   \n",
       "2  69C81403C28E86FE90975BAB668DD9F3FDC4330717A484...  com.nepel.scandriveanti   \n",
       "\n",
       "     classID  \n",
       "0   Airlines  \n",
       "1   Airlines  \n",
       "2  Antivirus  "
      ]
     },
     "execution_count": 4,
     "metadata": {},
     "output_type": "execute_result"
    }
   ],
   "source": [
    "appsDF.head(5)"
   ]
  },
  {
   "cell_type": "code",
   "execution_count": 5,
   "metadata": {},
   "outputs": [],
   "source": [
    "def getGoogleEnglishDescription(pkgName):\n",
    "\ttry:\n",
    "\t\t# Use googlePlayScraper Library\n",
    "\t\tresult = google_play_scraper.app(pkgName, lang='en', country='us')\n",
    "\n",
    "\t\tif result is not None and result['description'] is not None:\n",
    "\t\t\ttry:\n",
    "\t\t\t\t# Use langdetect\n",
    "\t\t\t\tlang = langdetect.detect(result['description'])\n",
    "\t\t\t\t# If the description is in English, return it\n",
    "\t\t\t\tif lang == \"en\":\n",
    "\t\t\t\t\tdescription = result['description'].replace('\\n', ' ').replace('\\r', '')\n",
    "\t\t\t\t\treturn pd.Series([description], index=['description'])\n",
    "\t\t\t\telse:\n",
    "\t\t\t\t\treturn pd.Series([np.nan], index=['description'])\n",
    "\t\t\texcept langdetect.LangDetectException:\n",
    "\t\t\t\treturn pd.Series([np.nan], index=['description'])\n",
    "\t\telse:\n",
    "\t\t\treturn pd.Series([np.nan], index=['description'])\n",
    "\texcept Exception:\n",
    "\t\treturn pd.Series([np.nan], index=['description'])"
   ]
  },
  {
   "cell_type": "code",
   "execution_count": 6,
   "metadata": {},
   "outputs": [
    {
     "data": {
      "text/html": [
       "<div>\n",
       "<style scoped>\n",
       "    .dataframe tbody tr th:only-of-type {\n",
       "        vertical-align: middle;\n",
       "    }\n",
       "\n",
       "    .dataframe tbody tr th {\n",
       "        vertical-align: top;\n",
       "    }\n",
       "\n",
       "    .dataframe thead th {\n",
       "        text-align: right;\n",
       "    }\n",
       "</style>\n",
       "<table border=\"1\" class=\"dataframe\">\n",
       "  <thead>\n",
       "    <tr style=\"text-align: right;\">\n",
       "      <th></th>\n",
       "      <th>sha256</th>\n",
       "      <th>pkgName</th>\n",
       "      <th>classID</th>\n",
       "      <th>gpDescription</th>\n",
       "    </tr>\n",
       "  </thead>\n",
       "  <tbody>\n",
       "    <tr>\n",
       "      <th>0</th>\n",
       "      <td>24D3490CF23842A791CBB5B10F1427808F4B163F9C4927...</td>\n",
       "      <td>com.rytong.airchina</td>\n",
       "      <td>Airlines</td>\n",
       "      <td>Air China is China’s only national flag carrie...</td>\n",
       "    </tr>\n",
       "    <tr>\n",
       "      <th>1</th>\n",
       "      <td>2D3D869A1DF82ACDCABBB08277ADECB8E5B64DB4DB516C...</td>\n",
       "      <td>com.rytong.hnair</td>\n",
       "      <td>Airlines</td>\n",
       "      <td>Hainan Airlines Company Profile  Hainan Airlin...</td>\n",
       "    </tr>\n",
       "    <tr>\n",
       "      <th>2</th>\n",
       "      <td>69C81403C28E86FE90975BAB668DD9F3FDC4330717A484...</td>\n",
       "      <td>com.nepel.scandriveanti</td>\n",
       "      <td>Antivirus</td>\n",
       "      <td>NaN</td>\n",
       "    </tr>\n",
       "  </tbody>\n",
       "</table>\n",
       "</div>"
      ],
      "text/plain": [
       "                                              sha256                  pkgName  \\\n",
       "0  24D3490CF23842A791CBB5B10F1427808F4B163F9C4927...      com.rytong.airchina   \n",
       "1  2D3D869A1DF82ACDCABBB08277ADECB8E5B64DB4DB516C...         com.rytong.hnair   \n",
       "2  69C81403C28E86FE90975BAB668DD9F3FDC4330717A484...  com.nepel.scandriveanti   \n",
       "\n",
       "     classID                                      gpDescription  \n",
       "0   Airlines  Air China is China’s only national flag carrie...  \n",
       "1   Airlines  Hainan Airlines Company Profile  Hainan Airlin...  \n",
       "2  Antivirus                                                NaN  "
      ]
     },
     "execution_count": 6,
     "metadata": {},
     "output_type": "execute_result"
    }
   ],
   "source": [
    "appsDF['gpDescription'] = appsDF['pkgName'].apply(getGoogleEnglishDescription)\n",
    "appsDF.head(3)"
   ]
  },
  {
   "cell_type": "code",
   "execution_count": 7,
   "metadata": {},
   "outputs": [],
   "source": [
    "def getDescriptionFromMetaDataAndroZoo(pkgName, retries=5, delay=10):\n",
    "    url = 'https://androzoo.uni.lu/api/get_gp_metadata/{}'.format(pkgName)\n",
    "    params = {'apikey': os.getenv('ANDROZOO_API_KEY')}\n",
    "    \n",
    "    attempt = 0\n",
    "    while attempt < retries:\n",
    "        response = requests.get(url, params=params)\n",
    "        \n",
    "        # Return Description\n",
    "        if response.status_code == 200:\n",
    "            return response.json()[0]['descriptionHtml']\n",
    "        # Retry \n",
    "        elif response.status_code in [502, 503]:\n",
    "            attempt += 1\n",
    "            print(f\"Attempt {attempt} failed with status code {response.status_code}. Retrying in {delay} seconds...\")\n",
    "            time.sleep(delay)\n",
    "        else:\n",
    "            print(f\"Request failed with status code {response.status_code}. No retries left.\")\n",
    "            return None\n",
    "    \n",
    "    print(\"Max retries exceeded. Request failed.\")\n",
    "    return None"
   ]
  },
  {
   "cell_type": "code",
   "execution_count": 8,
   "metadata": {},
   "outputs": [
    {
     "name": "stdout",
     "output_type": "stream",
     "text": [
      "Attempt 1 failed with status code 502. Retrying in 10 seconds...\n",
      "Attempt 1 failed with status code 502. Retrying in 10 seconds...\n",
      "Attempt 2 failed with status code 503. Retrying in 10 seconds...\n",
      "Attempt 3 failed with status code 503. Retrying in 10 seconds...\n",
      "Attempt 4 failed with status code 503. Retrying in 10 seconds...\n",
      "Attempt 5 failed with status code 503. Retrying in 10 seconds...\n",
      "Max retries exceeded. Request failed.\n"
     ]
    },
    {
     "data": {
      "text/html": [
       "<div>\n",
       "<style scoped>\n",
       "    .dataframe tbody tr th:only-of-type {\n",
       "        vertical-align: middle;\n",
       "    }\n",
       "\n",
       "    .dataframe tbody tr th {\n",
       "        vertical-align: top;\n",
       "    }\n",
       "\n",
       "    .dataframe thead th {\n",
       "        text-align: right;\n",
       "    }\n",
       "</style>\n",
       "<table border=\"1\" class=\"dataframe\">\n",
       "  <thead>\n",
       "    <tr style=\"text-align: right;\">\n",
       "      <th></th>\n",
       "      <th>sha256</th>\n",
       "      <th>pkgName</th>\n",
       "      <th>classID</th>\n",
       "      <th>gpDescription</th>\n",
       "      <th>azDescription</th>\n",
       "    </tr>\n",
       "  </thead>\n",
       "  <tbody>\n",
       "    <tr>\n",
       "      <th>0</th>\n",
       "      <td>24D3490CF23842A791CBB5B10F1427808F4B163F9C4927...</td>\n",
       "      <td>com.rytong.airchina</td>\n",
       "      <td>Airlines</td>\n",
       "      <td>Air China is China’s only national flag carrie...</td>\n",
       "      <td>Air China is China’s only national flag carrie...</td>\n",
       "    </tr>\n",
       "    <tr>\n",
       "      <th>1</th>\n",
       "      <td>2D3D869A1DF82ACDCABBB08277ADECB8E5B64DB4DB516C...</td>\n",
       "      <td>com.rytong.hnair</td>\n",
       "      <td>Airlines</td>\n",
       "      <td>Hainan Airlines Company Profile  Hainan Airlin...</td>\n",
       "      <td>Hainan Airlines was founded in 1993 in Hainan ...</td>\n",
       "    </tr>\n",
       "    <tr>\n",
       "      <th>2</th>\n",
       "      <td>69C81403C28E86FE90975BAB668DD9F3FDC4330717A484...</td>\n",
       "      <td>com.nepel.scandriveanti</td>\n",
       "      <td>Antivirus</td>\n",
       "      <td>NaN</td>\n",
       "      <td>None</td>\n",
       "    </tr>\n",
       "  </tbody>\n",
       "</table>\n",
       "</div>"
      ],
      "text/plain": [
       "                                              sha256                  pkgName  \\\n",
       "0  24D3490CF23842A791CBB5B10F1427808F4B163F9C4927...      com.rytong.airchina   \n",
       "1  2D3D869A1DF82ACDCABBB08277ADECB8E5B64DB4DB516C...         com.rytong.hnair   \n",
       "2  69C81403C28E86FE90975BAB668DD9F3FDC4330717A484...  com.nepel.scandriveanti   \n",
       "\n",
       "     classID                                      gpDescription  \\\n",
       "0   Airlines  Air China is China’s only national flag carrie...   \n",
       "1   Airlines  Hainan Airlines Company Profile  Hainan Airlin...   \n",
       "2  Antivirus                                                NaN   \n",
       "\n",
       "                                       azDescription  \n",
       "0  Air China is China’s only national flag carrie...  \n",
       "1  Hainan Airlines was founded in 1993 in Hainan ...  \n",
       "2                                               None  "
      ]
     },
     "execution_count": 8,
     "metadata": {},
     "output_type": "execute_result"
    }
   ],
   "source": [
    "appsDF['azDescription'] = appsDF['pkgName'].apply(getDescriptionFromMetaDataAndroZoo)\n",
    "appsDF.head(3)"
   ]
  },
  {
   "cell_type": "markdown",
   "metadata": {},
   "source": [
    "### Filter the data."
   ]
  },
  {
   "cell_type": "code",
   "execution_count": 9,
   "metadata": {},
   "outputs": [
    {
     "name": "stdout",
     "output_type": "stream",
     "text": [
      "--- #️⃣ Apps: 3 \n",
      "--- #️⃣ Apps: 2 \n"
     ]
    },
    {
     "data": {
      "text/html": [
       "<div>\n",
       "<style scoped>\n",
       "    .dataframe tbody tr th:only-of-type {\n",
       "        vertical-align: middle;\n",
       "    }\n",
       "\n",
       "    .dataframe tbody tr th {\n",
       "        vertical-align: top;\n",
       "    }\n",
       "\n",
       "    .dataframe thead th {\n",
       "        text-align: right;\n",
       "    }\n",
       "</style>\n",
       "<table border=\"1\" class=\"dataframe\">\n",
       "  <thead>\n",
       "    <tr style=\"text-align: right;\">\n",
       "      <th></th>\n",
       "      <th>sha256</th>\n",
       "      <th>pkgName</th>\n",
       "      <th>classID</th>\n",
       "      <th>description</th>\n",
       "    </tr>\n",
       "  </thead>\n",
       "  <tbody>\n",
       "    <tr>\n",
       "      <th>0</th>\n",
       "      <td>24D3490CF23842A791CBB5B10F1427808F4B163F9C4927...</td>\n",
       "      <td>com.rytong.airchina</td>\n",
       "      <td>Airlines</td>\n",
       "      <td>Air China is China’s only national flag carrie...</td>\n",
       "    </tr>\n",
       "    <tr>\n",
       "      <th>1</th>\n",
       "      <td>2D3D869A1DF82ACDCABBB08277ADECB8E5B64DB4DB516C...</td>\n",
       "      <td>com.rytong.hnair</td>\n",
       "      <td>Airlines</td>\n",
       "      <td>Hainan Airlines Company Profile  Hainan Airlin...</td>\n",
       "    </tr>\n",
       "  </tbody>\n",
       "</table>\n",
       "</div>"
      ],
      "text/plain": [
       "                                              sha256              pkgName  \\\n",
       "0  24D3490CF23842A791CBB5B10F1427808F4B163F9C4927...  com.rytong.airchina   \n",
       "1  2D3D869A1DF82ACDCABBB08277ADECB8E5B64DB4DB516C...     com.rytong.hnair   \n",
       "\n",
       "    classID                                        description  \n",
       "0  Airlines  Air China is China’s only national flag carrie...  \n",
       "1  Airlines  Hainan Airlines Company Profile  Hainan Airlin...  "
      ]
     },
     "execution_count": 9,
     "metadata": {},
     "output_type": "execute_result"
    }
   ],
   "source": [
    "# Create the 'description' column\n",
    "appsDF['description'] = appsDF['gpDescription'].fillna(appsDF['azDescription'])\n",
    "print(\"--- #️⃣ Apps: {} \".format(appsDF.shape[0]))\n",
    "\n",
    "# Drop rows where both 'gpDescription' and 'azDescription' are NaN\n",
    "appsDF = appsDF.dropna(subset=['description'])\n",
    "print(\"--- #️⃣ Apps: {} \".format(appsDF.shape[0]))\n",
    "\n",
    "appsDF = appsDF.drop(columns=['gpDescription', 'azDescription'])\n",
    "appsDF.head(3)"
   ]
  },
  {
   "cell_type": "code",
   "execution_count": 11,
   "metadata": {},
   "outputs": [],
   "source": [
    "appsDF.to_csv(\"../TmpData/3_MalCatSet_Description.csv\")"
   ]
  },
  {
   "cell_type": "markdown",
   "metadata": {},
   "source": [
    "##### 🔚 End"
   ]
  },
  {
   "cell_type": "code",
   "execution_count": 10,
   "metadata": {},
   "outputs": [
    {
     "name": "stdout",
     "output_type": "stream",
     "text": [
      "\n",
      "🔚 --- End - 2024-07-20 17:12:14.988264 --- 🔚\n",
      "⏱️ --- Time: 02 minutes and 46 seconds --- ⏱️\n"
     ]
    }
   ],
   "source": [
    "endTime = datetime.datetime.now()\n",
    "print(\"\\n🔚 --- End - {} --- 🔚\".format(endTime))\n",
    "\n",
    "# Assuming endTime and startTime are in seconds\n",
    "totalTime = endTime - startTime\n",
    "minutes = totalTime.total_seconds() // 60\n",
    "seconds = totalTime.total_seconds() % 60\n",
    "print(\"⏱️ --- Time: {:02d} minutes and {:02d} seconds --- ⏱️\".format(int(minutes), int(seconds)))"
   ]
  }
 ],
 "metadata": {
  "kernelspec": {
   "display_name": "Python 3",
   "language": "python",
   "name": "python3"
  },
  "language_info": {
   "codemirror_mode": {
    "name": "ipython",
    "version": 3
   },
   "file_extension": ".py",
   "mimetype": "text/x-python",
   "name": "python",
   "nbconvert_exporter": "python",
   "pygments_lexer": "ipython3",
   "version": "3.11.3"
  }
 },
 "nbformat": 4,
 "nbformat_minor": 2
}
