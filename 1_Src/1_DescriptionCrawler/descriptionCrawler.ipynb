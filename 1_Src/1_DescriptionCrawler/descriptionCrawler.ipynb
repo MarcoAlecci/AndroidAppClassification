{
 "cells": [
  {
   "cell_type": "markdown",
   "metadata": {},
   "source": [
    "## 🔢 Description Crawler"
   ]
  },
  {
   "cell_type": "code",
   "execution_count": null,
   "metadata": {},
   "outputs": [],
   "source": [
    "# Imports\n",
    "import numpy    as np\n",
    "import pandas   as pd\n",
    "import google_play_scraper \n",
    "import langdetect\n",
    "import datetime\n",
    "import requests\n",
    "import time\n",
    "import json\n",
    "import os"
   ]
  },
  {
   "cell_type": "markdown",
   "metadata": {},
   "source": [
    "#### Initialization"
   ]
  },
  {
   "cell_type": "code",
   "execution_count": null,
   "metadata": {},
   "outputs": [],
   "source": [
    "print(\"⚡ Start - {} ⚡\\n\".format(datetime.datetime.now()))\n",
    "startTime = datetime.datetime.now()"
   ]
  },
  {
   "cell_type": "markdown",
   "metadata": {},
   "source": [
    "#### 📥 1) Load Data "
   ]
  },
  {
   "cell_type": "code",
   "execution_count": null,
   "metadata": {},
   "outputs": [],
   "source": [
    "DATA_PATH = \"../../0_Data/3_MalCatSet.csv\"\n",
    "\n",
    "# Read the data\n",
    "appsDF = pd.read_csv(DATA_PATH)\n",
    "\n",
    "# TEST\n",
    "#appsDF = appsDF.head(50)\n",
    "\n",
    "print(\"--- #️⃣ Apps: {} \".format(appsDF.shape[0]))"
   ]
  },
  {
   "cell_type": "code",
   "execution_count": null,
   "metadata": {},
   "outputs": [],
   "source": [
    "appsDF.head(5)"
   ]
  },
  {
   "cell_type": "markdown",
   "metadata": {},
   "source": [
    "GP"
   ]
  },
  {
   "cell_type": "code",
   "execution_count": null,
   "metadata": {},
   "outputs": [],
   "source": [
    "def getGoogleEnglishDescription(pkgName):\n",
    "\ttry:\n",
    "\t\t# Use googlePlayScraper Library\n",
    "\t\tresult = google_play_scraper.app(pkgName, lang='en', country='us')\n",
    "\n",
    "\t\tif result is not None and result['description'] is not None:\n",
    "\t\t\ttry:\n",
    "\t\t\t\t# Use langdetect\n",
    "\t\t\t\tlang = langdetect.detect(result['description'])\n",
    "\t\t\t\t# If the description is in English, return it\n",
    "\t\t\t\tif lang == \"en\":\n",
    "\t\t\t\t\tdescription = result['description'].replace('\\n', ' ').replace('\\r', '')\n",
    "\t\t\t\t\treturn pd.Series([description], index=['description'])\n",
    "\t\t\t\telse:\n",
    "\t\t\t\t\treturn pd.Series([np.nan], index=['description'])\n",
    "\t\t\texcept langdetect.LangDetectException:\n",
    "\t\t\t\treturn pd.Series([np.nan], index=['description'])\n",
    "\t\telse:\n",
    "\t\t\treturn pd.Series([np.nan], index=['description'])\n",
    "\texcept Exception:\n",
    "\t\treturn pd.Series([np.nan], index=['description'])"
   ]
  },
  {
   "cell_type": "code",
   "execution_count": null,
   "metadata": {},
   "outputs": [],
   "source": [
    "appsDF['gpDescription'] = appsDF['pkgName'].apply(getGoogleEnglishDescription)\n",
    "appsDF.head(3)"
   ]
  },
  {
   "cell_type": "markdown",
   "metadata": {},
   "source": [
    "AZ"
   ]
  },
  {
   "cell_type": "code",
   "execution_count": null,
   "metadata": {},
   "outputs": [],
   "source": [
    "# def getDescriptionFromMetaDataAndroZoo(pkgName, retries=5, delay=10):\n",
    "#     url = 'https://androzoo.uni.lu/api/get_gp_metadata/{}'.format(pkgName)\n",
    "#     params = {'apikey': os.getenv('ANDROZOO_API_KEY')}\n",
    "    \n",
    "#     attempt = 0\n",
    "#     while attempt < retries:\n",
    "#         response = requests.get(url, params=params)\n",
    "        \n",
    "#         # Return Description\n",
    "#         if response.status_code == 200:\n",
    "#             return response.json()[0]['descriptionHtml']\n",
    "#         # Retry \n",
    "#         elif response.status_code in [502, 503, 400]:\n",
    "#             attempt += 1\n",
    "#             print(f\"Attempt {attempt} failed with status code {response.status_code}. Retrying in {delay} seconds...\")\n",
    "#             time.sleep(delay)\n",
    "#         else:\n",
    "#             print(f\"Request failed with status code {response.status_code}. No retries left.\")\n",
    "#             return None\n",
    "    \n",
    "#     print(\"Max retries exceeded. Request failed.\")\n",
    "#     return None"
   ]
  },
  {
   "cell_type": "code",
   "execution_count": null,
   "metadata": {},
   "outputs": [],
   "source": [
    "# appsDF['azDescription'] = appsDF['pkgName'].apply(getDescriptionFromMetaDataAndroZoo)\n",
    "# appsDF.head(3)"
   ]
  },
  {
   "cell_type": "markdown",
   "metadata": {},
   "source": [
    "### Filter the data."
   ]
  },
  {
   "cell_type": "code",
   "execution_count": null,
   "metadata": {},
   "outputs": [],
   "source": [
    "# # Create the 'description' column\n",
    "# appsDF['googlePlayDescription'] = appsDF['gpDescription'].fillna(appsDF['azDescription'])\n",
    "# print(\"--- #️⃣ Apps: {} \".format(appsDF.shape[0]))\n",
    "\n",
    "# # Drop rows where both 'gpDescription' and 'azDescription' are NaN\n",
    "# appsDF = appsDF.dropna(subset=['description'])\n",
    "# print(\"--- #️⃣ Apps: {} \".format(appsDF.shape[0]))\n",
    "\n",
    "# appsDF = appsDF.drop(columns=['gpDescription', 'azDescription'])\n",
    "# appsDF.head(3)"
   ]
  },
  {
   "cell_type": "code",
   "execution_count": null,
   "metadata": {},
   "outputs": [],
   "source": [
    "appsDF['googlePlayDescription'] = appsDF['gpDescription']\n",
    "print(\"--- #️⃣ Apps: {} \".format(appsDF.shape[0]))\n",
    "\n",
    "appsDF = appsDF.dropna(subset=['description'])\n",
    "print(\"--- #️⃣ Apps: {} \".format(appsDF.shape[0]))\n",
    "\n",
    "appsDF = appsDF.drop(columns=['gpDescription'])\n",
    "appsDF.head(3)"
   ]
  },
  {
   "cell_type": "code",
   "execution_count": null,
   "metadata": {},
   "outputs": [],
   "source": [
    "appsDF.to_csv(\"../TmpData/3_MalCatSet_Description.csv\", index=False)"
   ]
  },
  {
   "cell_type": "markdown",
   "metadata": {},
   "source": [
    "##### 🔚 End"
   ]
  },
  {
   "cell_type": "code",
   "execution_count": null,
   "metadata": {},
   "outputs": [],
   "source": [
    "endTime = datetime.datetime.now()\n",
    "print(\"\\n🔚 --- End - {} --- 🔚\".format(endTime))\n",
    "\n",
    "# Assuming endTime and startTime are in seconds\n",
    "totalTime = endTime - startTime\n",
    "minutes = totalTime.total_seconds() // 60\n",
    "seconds = totalTime.total_seconds() % 60\n",
    "print(\"⏱️ --- Time: {:02d} minutes and {:02d} seconds --- ⏱️\".format(int(minutes), int(seconds)))"
   ]
  }
 ],
 "metadata": {
  "kernelspec": {
   "display_name": "Python 3",
   "language": "python",
   "name": "python3"
  },
  "language_info": {
   "codemirror_mode": {
    "name": "ipython",
    "version": 3
   },
   "file_extension": ".py",
   "mimetype": "text/x-python",
   "name": "python",
   "nbconvert_exporter": "python",
   "pygments_lexer": "ipython3",
   "version": "3.11.3"
  }
 },
 "nbformat": 4,
 "nbformat_minor": 2
}
