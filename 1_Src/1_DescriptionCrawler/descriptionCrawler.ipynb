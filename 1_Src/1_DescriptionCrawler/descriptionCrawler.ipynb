{
 "cells": [
  {
   "cell_type": "markdown",
   "metadata": {},
   "source": [
    "## 🔢 Description Crawler"
   ]
  },
  {
   "cell_type": "code",
   "execution_count": 14,
   "metadata": {},
   "outputs": [],
   "source": [
    "# Imports\n",
    "import numpy    as np\n",
    "import pandas   as pd\n",
    "import google_play_scraper \n",
    "import langdetect\n",
    "import datetime\n",
    "import requests\n",
    "import time\n",
    "import json\n",
    "import os"
   ]
  },
  {
   "cell_type": "markdown",
   "metadata": {},
   "source": [
    "#### Initialization"
   ]
  },
  {
   "cell_type": "code",
   "execution_count": 15,
   "metadata": {},
   "outputs": [
    {
     "name": "stdout",
     "output_type": "stream",
     "text": [
      "⚡ Start - 2024-07-20 20:03:06.063542 ⚡\n",
      "\n"
     ]
    }
   ],
   "source": [
    "print(\"⚡ Start - {} ⚡\\n\".format(datetime.datetime.now()))\n",
    "startTime = datetime.datetime.now()"
   ]
  },
  {
   "cell_type": "markdown",
   "metadata": {},
   "source": [
    "#### 📥 1) Load Data "
   ]
  },
  {
   "cell_type": "code",
   "execution_count": 16,
   "metadata": {},
   "outputs": [
    {
     "name": "stdout",
     "output_type": "stream",
     "text": [
      "--- #️⃣ Apps: 15342 \n"
     ]
    }
   ],
   "source": [
    "DATA_PATH = \"../../0_Data/5_NewMal.csv\"\n",
    "\n",
    "# Read the data\n",
    "appsDF = pd.read_csv(DATA_PATH)\n",
    "\n",
    "# TEST\n",
    "#appsDF = appsDF.head(50)\n",
    "\n",
    "print(\"--- #️⃣ Apps: {} \".format(appsDF.shape[0]))"
   ]
  },
  {
   "cell_type": "code",
   "execution_count": 17,
   "metadata": {},
   "outputs": [
    {
     "data": {
      "text/html": [
       "<div>\n",
       "<style scoped>\n",
       "    .dataframe tbody tr th:only-of-type {\n",
       "        vertical-align: middle;\n",
       "    }\n",
       "\n",
       "    .dataframe tbody tr th {\n",
       "        vertical-align: top;\n",
       "    }\n",
       "\n",
       "    .dataframe thead th {\n",
       "        text-align: right;\n",
       "    }\n",
       "</style>\n",
       "<table border=\"1\" class=\"dataframe\">\n",
       "  <thead>\n",
       "    <tr style=\"text-align: right;\">\n",
       "      <th></th>\n",
       "      <th>sha256</th>\n",
       "      <th>pkg_name</th>\n",
       "    </tr>\n",
       "  </thead>\n",
       "  <tbody>\n",
       "    <tr>\n",
       "      <th>0</th>\n",
       "      <td>00023BCFC14CE3027A542987394A97C64B6C1B9304090F...</td>\n",
       "      <td>com.kuyhaa.android.auto.call.recorder.acr.lite...</td>\n",
       "    </tr>\n",
       "    <tr>\n",
       "      <th>1</th>\n",
       "      <td>000447D7EBEC825293D013A4DB671AFBDB01618D46AE57...</td>\n",
       "      <td>com.greenncardd.senegalgospelmusic</td>\n",
       "    </tr>\n",
       "    <tr>\n",
       "      <th>2</th>\n",
       "      <td>00044AE8A85BC29EA36DB54F444D888E56425B0EC6CF0F...</td>\n",
       "      <td>wiki.no.mans.sky.game</td>\n",
       "    </tr>\n",
       "    <tr>\n",
       "      <th>3</th>\n",
       "      <td>000A79E4F57F2ADE51E09A1B094E9D8D08CC7B915A2AAD...</td>\n",
       "      <td>com.app.app0e87ec29c687</td>\n",
       "    </tr>\n",
       "    <tr>\n",
       "      <th>4</th>\n",
       "      <td>000CFA175969C036D6D3479D3DD204D4CAFA816AACE793...</td>\n",
       "      <td>com.gamelord.tractor.simulator.free</td>\n",
       "    </tr>\n",
       "  </tbody>\n",
       "</table>\n",
       "</div>"
      ],
      "text/plain": [
       "                                              sha256  \\\n",
       "0  00023BCFC14CE3027A542987394A97C64B6C1B9304090F...   \n",
       "1  000447D7EBEC825293D013A4DB671AFBDB01618D46AE57...   \n",
       "2  00044AE8A85BC29EA36DB54F444D888E56425B0EC6CF0F...   \n",
       "3  000A79E4F57F2ADE51E09A1B094E9D8D08CC7B915A2AAD...   \n",
       "4  000CFA175969C036D6D3479D3DD204D4CAFA816AACE793...   \n",
       "\n",
       "                                            pkg_name  \n",
       "0  com.kuyhaa.android.auto.call.recorder.acr.lite...  \n",
       "1                 com.greenncardd.senegalgospelmusic  \n",
       "2                              wiki.no.mans.sky.game  \n",
       "3                            com.app.app0e87ec29c687  \n",
       "4                com.gamelord.tractor.simulator.free  "
      ]
     },
     "execution_count": 17,
     "metadata": {},
     "output_type": "execute_result"
    }
   ],
   "source": [
    "appsDF.head(5)"
   ]
  },
  {
   "cell_type": "markdown",
   "metadata": {},
   "source": [
    "GP"
   ]
  },
  {
   "cell_type": "code",
   "execution_count": null,
   "metadata": {},
   "outputs": [],
   "source": [
    "def getGoogleEnglishDescription(pkgName):\n",
    "\ttry:\n",
    "\t\t# Use googlePlayScraper Library\n",
    "\t\tresult = google_play_scraper.app(pkgName, lang='en', country='us')\n",
    "\n",
    "\t\tif result is not None and result['description'] is not None:\n",
    "\t\t\ttry:\n",
    "\t\t\t\t# Use langdetect\n",
    "\t\t\t\tlang = langdetect.detect(result['description'])\n",
    "\t\t\t\t# If the description is in English, return it\n",
    "\t\t\t\tif lang == \"en\":\n",
    "\t\t\t\t\tdescription = result['description'].replace('\\n', ' ').replace('\\r', '')\n",
    "\t\t\t\t\treturn pd.Series([description], index=['description'])\n",
    "\t\t\t\telse:\n",
    "\t\t\t\t\treturn pd.Series([np.nan], index=['description'])\n",
    "\t\t\texcept langdetect.LangDetectException:\n",
    "\t\t\t\treturn pd.Series([np.nan], index=['description'])\n",
    "\t\telse:\n",
    "\t\t\treturn pd.Series([np.nan], index=['description'])\n",
    "\texcept Exception:\n",
    "\t\treturn pd.Series([np.nan], index=['description'])"
   ]
  },
  {
   "cell_type": "code",
   "execution_count": null,
   "metadata": {},
   "outputs": [],
   "source": [
    "appsDF['gpDescription'] = appsDF['pkgName'].apply(getGoogleEnglishDescription)\n",
    "appsDF.head(3)"
   ]
  },
  {
   "cell_type": "markdown",
   "metadata": {},
   "source": [
    "AZ"
   ]
  },
  {
   "cell_type": "code",
   "execution_count": null,
   "metadata": {},
   "outputs": [],
   "source": [
    "# def getDescriptionFromMetaDataAndroZoo(pkgName, retries=5, delay=10):\n",
    "#     url = 'https://androzoo.uni.lu/api/get_gp_metadata/{}'.format(pkgName)\n",
    "#     params = {'apikey': os.getenv('ANDROZOO_API_KEY')}\n",
    "    \n",
    "#     attempt = 0\n",
    "#     while attempt < retries:\n",
    "#         response = requests.get(url, params=params)\n",
    "        \n",
    "#         # Return Description\n",
    "#         if response.status_code == 200:\n",
    "#             return response.json()[0]['descriptionHtml']\n",
    "#         # Retry \n",
    "#         elif response.status_code in [502, 503, 400]:\n",
    "#             attempt += 1\n",
    "#             print(f\"Attempt {attempt} failed with status code {response.status_code}. Retrying in {delay} seconds...\")\n",
    "#             time.sleep(delay)\n",
    "#         else:\n",
    "#             print(f\"Request failed with status code {response.status_code}. No retries left.\")\n",
    "#             return None\n",
    "    \n",
    "#     print(\"Max retries exceeded. Request failed.\")\n",
    "#     return None"
   ]
  },
  {
   "cell_type": "code",
   "execution_count": null,
   "metadata": {},
   "outputs": [],
   "source": [
    "# appsDF['azDescription'] = appsDF['pkgName'].apply(getDescriptionFromMetaDataAndroZoo)\n",
    "# appsDF.head(3)"
   ]
  },
  {
   "cell_type": "markdown",
   "metadata": {},
   "source": [
    "### Filter the data."
   ]
  },
  {
   "cell_type": "code",
   "execution_count": null,
   "metadata": {},
   "outputs": [],
   "source": [
    "# # Create the 'description' column\n",
    "# appsDF['googlePlayDescription'] = appsDF['gpDescription'].fillna(appsDF['azDescription'])\n",
    "# print(\"--- #️⃣ Apps: {} \".format(appsDF.shape[0]))\n",
    "\n",
    "# # Drop rows where both 'gpDescription' and 'azDescription' are NaN\n",
    "# appsDF = appsDF.dropna(subset=['description'])\n",
    "# print(\"--- #️⃣ Apps: {} \".format(appsDF.shape[0]))\n",
    "\n",
    "# appsDF = appsDF.drop(columns=['gpDescription', 'azDescription'])\n",
    "# appsDF.head(3)"
   ]
  },
  {
   "cell_type": "code",
   "execution_count": null,
   "metadata": {},
   "outputs": [],
   "source": [
    "appsDF['googlePlayDescription'] = appsDF['gpDescription']\n",
    "print(\"--- #️⃣ Apps: {} \".format(appsDF.shape[0]))\n",
    "\n",
    "appsDF = appsDF.dropna(subset=['description'])\n",
    "print(\"--- #️⃣ Apps: {} \".format(appsDF.shape[0]))\n",
    "\n",
    "appsDF = appsDF.drop(columns=['gpDescription'])\n",
    "appsDF.head(3)"
   ]
  },
  {
   "cell_type": "code",
   "execution_count": null,
   "metadata": {},
   "outputs": [],
   "source": [
    "appsDF.to_csv(\"../TmpData/5_NewMal_Description.csv\", index=False)"
   ]
  },
  {
   "cell_type": "markdown",
   "metadata": {},
   "source": [
    "##### 🔚 End"
   ]
  },
  {
   "cell_type": "code",
   "execution_count": null,
   "metadata": {},
   "outputs": [],
   "source": [
    "endTime = datetime.datetime.now()\n",
    "print(\"\\n🔚 --- End - {} --- 🔚\".format(endTime))\n",
    "\n",
    "# Assuming endTime and startTime are in seconds\n",
    "totalTime = endTime - startTime\n",
    "minutes = totalTime.total_seconds() // 60\n",
    "seconds = totalTime.total_seconds() % 60\n",
    "print(\"⏱️ --- Time: {:02d} minutes and {:02d} seconds --- ⏱️\".format(int(minutes), int(seconds)))"
   ]
  }
 ],
 "metadata": {
  "kernelspec": {
   "display_name": "Python 3",
   "language": "python",
   "name": "python3"
  },
  "language_info": {
   "codemirror_mode": {
    "name": "ipython",
    "version": 3
   },
   "file_extension": ".py",
   "mimetype": "text/x-python",
   "name": "python",
   "nbconvert_exporter": "python",
   "pygments_lexer": "ipython3",
   "version": "3.9.19"
  }
 },
 "nbformat": 4,
 "nbformat_minor": 2
}
