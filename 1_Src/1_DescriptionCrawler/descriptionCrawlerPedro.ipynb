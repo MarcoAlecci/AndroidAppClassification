{
 "cells": [
  {
   "cell_type": "code",
   "execution_count": 1,
   "metadata": {},
   "outputs": [],
   "source": [
    "import json\n",
    "import subprocess\n",
    "import pandas as pd"
   ]
  },
  {
   "cell_type": "code",
   "execution_count": 2,
   "metadata": {},
   "outputs": [
    {
     "name": "stdout",
     "output_type": "stream",
     "text": [
      "19041\n"
     ]
    }
   ],
   "source": [
    "df = pd.read_csv(\"/Users/pedro.ruiz/Downloads/pkgNames.csv\", usecols=[\"pkgName\"])\n",
    "pkgNames = df[\"pkgName\"].to_list()\n",
    "print(len(pkgNames))"
   ]
  },
  {
   "cell_type": "code",
   "execution_count": 4,
   "metadata": {},
   "outputs": [],
   "source": [
    "# 16,874,742 lines\n",
    "\n",
    "chunks = pd.read_json(\"/Users/pedro.ruiz/Downloads/metadata/gp-metadata-full.jsonl\", lines=True, chunksize=100000)\n",
    "for chunk in chunks:\n",
    "    df = chunk[[\"docid\", \"descriptionHtml\"]]\n",
    "    df = df[df[\"docid\"].isin(pkgNames)]\n",
    "    df = df.drop_duplicates()\n",
    "    df.to_csv(\"~/Downloads/metadata/descriptions.csv\", header=False, index=False, mode=\"a\")"
   ]
  },
  {
   "cell_type": "code",
   "execution_count": null,
   "metadata": {},
   "outputs": [],
   "source": []
  }
 ],
 "metadata": {
  "kernelspec": {
   "display_name": "jupyter",
   "language": "python",
   "name": "python3"
  },
  "language_info": {
   "codemirror_mode": {
    "name": "ipython",
    "version": 3
   },
   "file_extension": ".py",
   "mimetype": "text/x-python",
   "name": "python",
   "nbconvert_exporter": "python",
   "pygments_lexer": "ipython3",
   "version": "3.9.18"
  }
 },
 "nbformat": 4,
 "nbformat_minor": 2
}
