{
 "cells": [
  {
   "cell_type": "markdown",
   "metadata": {},
   "source": [
    "## 🔢 Description Crawler"
   ]
  },
  {
   "cell_type": "code",
   "execution_count": 1,
   "metadata": {},
   "outputs": [],
   "source": [
    "# Imports\n",
    "import numpy    as np\n",
    "import pandas   as pd\n",
    "import google_play_scraper \n",
    "import langdetect\n",
    "import datetime\n",
    "import requests\n",
    "import time\n",
    "import json\n",
    "import os"
   ]
  },
  {
   "cell_type": "markdown",
   "metadata": {},
   "source": [
    "#### Initialization"
   ]
  },
  {
   "cell_type": "code",
   "execution_count": 2,
   "metadata": {},
   "outputs": [
    {
     "name": "stdout",
     "output_type": "stream",
     "text": [
      "⚡ Start - 2024-07-25 08:48:46.907032 ⚡\n",
      "\n"
     ]
    }
   ],
   "source": [
    "print(\"⚡ Start - {} ⚡\\n\".format(datetime.datetime.now()))\n",
    "startTime = datetime.datetime.now()"
   ]
  },
  {
   "cell_type": "markdown",
   "metadata": {},
   "source": [
    "#### 📥 1) Load Data "
   ]
  },
  {
   "cell_type": "code",
   "execution_count": 3,
   "metadata": {},
   "outputs": [
    {
     "name": "stdout",
     "output_type": "stream",
     "text": [
      "📄 Size of az16DF      : (15342, 2)\n",
      "📄 Size of mudflowDF   : (8038, 2)\n",
      "📄 Size of maliciousDF : (23380, 2)\n",
      "📄 Size of maliciousDF : (23380, 2)\n"
     ]
    },
    {
     "data": {
      "text/html": [
       "<div>\n",
       "<style scoped>\n",
       "    .dataframe tbody tr th:only-of-type {\n",
       "        vertical-align: middle;\n",
       "    }\n",
       "\n",
       "    .dataframe tbody tr th {\n",
       "        vertical-align: top;\n",
       "    }\n",
       "\n",
       "    .dataframe thead th {\n",
       "        text-align: right;\n",
       "    }\n",
       "</style>\n",
       "<table border=\"1\" class=\"dataframe\">\n",
       "  <thead>\n",
       "    <tr style=\"text-align: right;\">\n",
       "      <th></th>\n",
       "      <th>sha256</th>\n",
       "      <th>pkgName</th>\n",
       "    </tr>\n",
       "  </thead>\n",
       "  <tbody>\n",
       "    <tr>\n",
       "      <th>0</th>\n",
       "      <td>00023BCFC14CE3027A542987394A97C64B6C1B9304090F...</td>\n",
       "      <td>com.kuyhaa.android.auto.call.recorder.acr.lite...</td>\n",
       "    </tr>\n",
       "    <tr>\n",
       "      <th>1</th>\n",
       "      <td>000447D7EBEC825293D013A4DB671AFBDB01618D46AE57...</td>\n",
       "      <td>com.greenncardd.senegalgospelmusic</td>\n",
       "    </tr>\n",
       "    <tr>\n",
       "      <th>2</th>\n",
       "      <td>00044AE8A85BC29EA36DB54F444D888E56425B0EC6CF0F...</td>\n",
       "      <td>wiki.no.mans.sky.game</td>\n",
       "    </tr>\n",
       "  </tbody>\n",
       "</table>\n",
       "</div>"
      ],
      "text/plain": [
       "                                              sha256  \\\n",
       "0  00023BCFC14CE3027A542987394A97C64B6C1B9304090F...   \n",
       "1  000447D7EBEC825293D013A4DB671AFBDB01618D46AE57...   \n",
       "2  00044AE8A85BC29EA36DB54F444D888E56425B0EC6CF0F...   \n",
       "\n",
       "                                             pkgName  \n",
       "0  com.kuyhaa.android.auto.call.recorder.acr.lite...  \n",
       "1                 com.greenncardd.senegalgospelmusic  \n",
       "2                              wiki.no.mans.sky.game  "
      ]
     },
     "execution_count": 3,
     "metadata": {},
     "output_type": "execute_result"
    }
   ],
   "source": [
    "# Load the dataframes\n",
    "az16DF = pd.read_csv(\"../../0_Data/azFiltered16.csv\")\n",
    "mudflowDF = pd.read_csv(\"../../0_Data/4_MudFlow.csv\")\n",
    "\n",
    "# Select and rename columns\n",
    "az16DF = az16DF[['sha256', 'pkg_name']]\n",
    "az16DF.rename(columns={'pkg_name': 'pkgName'}, inplace=True)\n",
    "\n",
    "mudflowDF = mudflowDF[['sha256', 'pkgName']]\n",
    "\n",
    "# Concatenate the dataframes\n",
    "maliciousDF = pd.concat([az16DF, mudflowDF], axis=0)\n",
    "\n",
    "# Print sizes of dataframes with emojis\n",
    "print(f\"📄 Size of az16DF      : {az16DF.shape}\")\n",
    "print(f\"📄 Size of mudflowDF   : {mudflowDF.shape}\")\n",
    "print(f\"📄 Size of maliciousDF : {maliciousDF.shape}\")\n",
    "\n",
    "# Remove duplicates based on sha256 column\n",
    "maliciousDF = maliciousDF.drop_duplicates(subset='sha256')\n",
    "\n",
    "# Print size of maliciousDF after removing duplicates\n",
    "print(f\"📄 Size of maliciousDF : {maliciousDF.shape}\")\n",
    "\n",
    "# Display the first 2 rows of the resulting dataframe\n",
    "maliciousDF.head(3)"
   ]
  },
  {
   "cell_type": "markdown",
   "metadata": {},
   "source": [
    "GP"
   ]
  },
  {
   "cell_type": "code",
   "execution_count": 4,
   "metadata": {},
   "outputs": [],
   "source": [
    "def getGoogleEnglishDescription(pkgName):\n",
    "\ttry:\n",
    "\t\t# Use googlePlayScraper Library\n",
    "\t\tresult = google_play_scraper.app(pkgName, lang='en', country='us')\n",
    "\n",
    "\t\tif result is not None and result['description'] is not None:\n",
    "\t\t\ttry:\n",
    "\t\t\t\t# Use langdetect\n",
    "\t\t\t\tlang = langdetect.detect(result['description'])\n",
    "\t\t\t\t# If the description is in English, return it\n",
    "\t\t\t\tif lang == \"en\":\n",
    "\t\t\t\t\tdescription = result['description'].replace('\\n', ' ').replace('\\r', '')\n",
    "\t\t\t\t\treturn pd.Series([description], index=['description'])\n",
    "\t\t\t\telse:\n",
    "\t\t\t\t\treturn pd.Series([np.nan], index=['description'])\n",
    "\t\t\texcept langdetect.LangDetectException:\n",
    "\t\t\t\treturn pd.Series([np.nan], index=['description'])\n",
    "\t\telse:\n",
    "\t\t\treturn pd.Series([np.nan], index=['description'])\n",
    "\texcept Exception:\n",
    "\t\treturn pd.Series([np.nan], index=['description'])"
   ]
  },
  {
   "cell_type": "code",
   "execution_count": 5,
   "metadata": {},
   "outputs": [
    {
     "data": {
      "text/html": [
       "<div>\n",
       "<style scoped>\n",
       "    .dataframe tbody tr th:only-of-type {\n",
       "        vertical-align: middle;\n",
       "    }\n",
       "\n",
       "    .dataframe tbody tr th {\n",
       "        vertical-align: top;\n",
       "    }\n",
       "\n",
       "    .dataframe thead th {\n",
       "        text-align: right;\n",
       "    }\n",
       "</style>\n",
       "<table border=\"1\" class=\"dataframe\">\n",
       "  <thead>\n",
       "    <tr style=\"text-align: right;\">\n",
       "      <th></th>\n",
       "      <th>sha256</th>\n",
       "      <th>pkgName</th>\n",
       "      <th>gpDescription</th>\n",
       "    </tr>\n",
       "  </thead>\n",
       "  <tbody>\n",
       "    <tr>\n",
       "      <th>0</th>\n",
       "      <td>00023BCFC14CE3027A542987394A97C64B6C1B9304090F...</td>\n",
       "      <td>com.kuyhaa.android.auto.call.recorder.acr.lite...</td>\n",
       "      <td>NaN</td>\n",
       "    </tr>\n",
       "    <tr>\n",
       "      <th>1</th>\n",
       "      <td>000447D7EBEC825293D013A4DB671AFBDB01618D46AE57...</td>\n",
       "      <td>com.greenncardd.senegalgospelmusic</td>\n",
       "      <td>NaN</td>\n",
       "    </tr>\n",
       "    <tr>\n",
       "      <th>2</th>\n",
       "      <td>00044AE8A85BC29EA36DB54F444D888E56425B0EC6CF0F...</td>\n",
       "      <td>wiki.no.mans.sky.game</td>\n",
       "      <td>NaN</td>\n",
       "    </tr>\n",
       "  </tbody>\n",
       "</table>\n",
       "</div>"
      ],
      "text/plain": [
       "                                              sha256  \\\n",
       "0  00023BCFC14CE3027A542987394A97C64B6C1B9304090F...   \n",
       "1  000447D7EBEC825293D013A4DB671AFBDB01618D46AE57...   \n",
       "2  00044AE8A85BC29EA36DB54F444D888E56425B0EC6CF0F...   \n",
       "\n",
       "                                             pkgName gpDescription  \n",
       "0  com.kuyhaa.android.auto.call.recorder.acr.lite...           NaN  \n",
       "1                 com.greenncardd.senegalgospelmusic           NaN  \n",
       "2                              wiki.no.mans.sky.game           NaN  "
      ]
     },
     "execution_count": 5,
     "metadata": {},
     "output_type": "execute_result"
    }
   ],
   "source": [
    "maliciousDF['gpDescription'] = maliciousDF['pkgName'].apply(getGoogleEnglishDescription)\n",
    "maliciousDF.head(3)"
   ]
  },
  {
   "cell_type": "markdown",
   "metadata": {},
   "source": [
    "AZ"
   ]
  },
  {
   "cell_type": "code",
   "execution_count": 6,
   "metadata": {},
   "outputs": [],
   "source": [
    "# def getDescriptionFromMetaDataAndroZoo(pkgName, retries=10, delay=20):\n",
    "# \turl = 'https://androzoo.uni.lu/api/get_gp_metadata/{}'.format(pkgName)\n",
    "# \tparams = {'apikey': os.getenv('ANDROZOO_API_KEY')}\n",
    "\t\n",
    "# \tprint(\"--- 📦 PKG NAME: {}\".format(pkgName))\n",
    "\t\n",
    "# \tattempt = 0\n",
    "# \twhile attempt < retries:\n",
    "# \t\tprint(f\"--- ▶️ Attempt #{attempt}\")\n",
    "# \t\tresponse = requests.get(url, params=params)\n",
    "\t\t\n",
    "# \t\t# Return Description\n",
    "# \t\tif response.status_code == 200:\n",
    "# \t\t\tprint(response.json)\n",
    "# \t\t\treturn response.json()[0]['descriptionHtml']\n",
    "# \t\t# Retry \n",
    "# \t\telif response.status_code in [502, 503, 400]:\n",
    "# \t\t\tattempt += 1\n",
    "# \t\t\tprint(f\"--- ❌ Attempt {attempt} failed with status code {response.status_code}. Retrying in {delay} seconds...\")\n",
    "# \t\t\ttime.sleep(delay)\n",
    "# \t\telse:\n",
    "# \t\t\tprint(f\"--- ❌ Request failed with status code {response.status_code}. No retries left.\")\n",
    "# \t\t\treturn None\n",
    "\t\n",
    "# \tprint(\"--- ☹️ Max retries exceeded. Request failed.\")\n",
    "# \treturn None"
   ]
  },
  {
   "cell_type": "code",
   "execution_count": 7,
   "metadata": {},
   "outputs": [],
   "source": [
    "# appsDF['azDescription'] = appsDF['pkgName'].apply(getDescriptionFromMetaDataAndroZoo)\n",
    "# appsDF.head(3)"
   ]
  },
  {
   "cell_type": "markdown",
   "metadata": {},
   "source": [
    "### Filter the data."
   ]
  },
  {
   "cell_type": "code",
   "execution_count": 8,
   "metadata": {},
   "outputs": [],
   "source": [
    "# # Create the 'description' column\n",
    "# appsDF['googlePlayDescription'] = appsDF['gpDescription'].fillna(appsDF['azDescription'])\n",
    "# print(\"--- #️⃣ Apps: {} \".format(appsDF.shape[0]))\n",
    "\n",
    "# # Drop rows where both 'gpDescription' and 'azDescription' are NaN\n",
    "# appsDF = appsDF.dropna(subset=['description'])\n",
    "# print(\"--- #️⃣ Apps: {} \".format(appsDF.shape[0]))\n",
    "\n",
    "# appsDF = appsDF.drop(columns=['gpDescription', 'azDescription'])\n",
    "# appsDF.head(3)"
   ]
  },
  {
   "cell_type": "code",
   "execution_count": 9,
   "metadata": {},
   "outputs": [
    {
     "name": "stdout",
     "output_type": "stream",
     "text": [
      "--- #️⃣ malicious: 23380 \n",
      "--- #️⃣ malicious: 1061 \n"
     ]
    },
    {
     "data": {
      "text/html": [
       "<div>\n",
       "<style scoped>\n",
       "    .dataframe tbody tr th:only-of-type {\n",
       "        vertical-align: middle;\n",
       "    }\n",
       "\n",
       "    .dataframe tbody tr th {\n",
       "        vertical-align: top;\n",
       "    }\n",
       "\n",
       "    .dataframe thead th {\n",
       "        text-align: right;\n",
       "    }\n",
       "</style>\n",
       "<table border=\"1\" class=\"dataframe\">\n",
       "  <thead>\n",
       "    <tr style=\"text-align: right;\">\n",
       "      <th></th>\n",
       "      <th>sha256</th>\n",
       "      <th>pkgName</th>\n",
       "      <th>googlePlayDescription</th>\n",
       "    </tr>\n",
       "  </thead>\n",
       "  <tbody>\n",
       "    <tr>\n",
       "      <th>9</th>\n",
       "      <td>001E53DDA101AF19670FBD7FB5D348B21641036240895F...</td>\n",
       "      <td>es.aroundpixels.hsk3lite</td>\n",
       "      <td>Don't worry: we know that &lt;b&gt;studying Chinese ...</td>\n",
       "    </tr>\n",
       "    <tr>\n",
       "      <th>13</th>\n",
       "      <td>002557D37607615083739ABEB8D6FDC05CD27EC93C1104...</td>\n",
       "      <td>com.onesports.score</td>\n",
       "      <td>AiScore is your LIVESCORE EXPERT. More informa...</td>\n",
       "    </tr>\n",
       "    <tr>\n",
       "      <th>17</th>\n",
       "      <td>00280B2E4FA921E570467396A380FA4248AFA10372B97E...</td>\n",
       "      <td>com.perception.soc.en</td>\n",
       "      <td>Play the best classic MMORPG, only in Empire O...</td>\n",
       "    </tr>\n",
       "  </tbody>\n",
       "</table>\n",
       "</div>"
      ],
      "text/plain": [
       "                                               sha256  \\\n",
       "9   001E53DDA101AF19670FBD7FB5D348B21641036240895F...   \n",
       "13  002557D37607615083739ABEB8D6FDC05CD27EC93C1104...   \n",
       "17  00280B2E4FA921E570467396A380FA4248AFA10372B97E...   \n",
       "\n",
       "                     pkgName  \\\n",
       "9   es.aroundpixels.hsk3lite   \n",
       "13       com.onesports.score   \n",
       "17     com.perception.soc.en   \n",
       "\n",
       "                                googlePlayDescription  \n",
       "9   Don't worry: we know that <b>studying Chinese ...  \n",
       "13  AiScore is your LIVESCORE EXPERT. More informa...  \n",
       "17  Play the best classic MMORPG, only in Empire O...  "
      ]
     },
     "execution_count": 9,
     "metadata": {},
     "output_type": "execute_result"
    }
   ],
   "source": [
    "maliciousDF['googlePlayDescription'] = maliciousDF['gpDescription']\n",
    "print(\"--- #️⃣ malicious: {} \".format(maliciousDF.shape[0]))\n",
    "\n",
    "maliciousDF = maliciousDF.dropna(subset=['googlePlayDescription'])\n",
    "print(\"--- #️⃣ malicious: {} \".format(maliciousDF.shape[0]))\n",
    "\n",
    "maliciousDF = maliciousDF.drop(columns=['gpDescription'])\n",
    "maliciousDF.head(3)"
   ]
  },
  {
   "cell_type": "code",
   "execution_count": 10,
   "metadata": {},
   "outputs": [],
   "source": [
    "maliciousDF.to_csv(\"../TmpData/erMaligno_Description.csv\", index=False)"
   ]
  },
  {
   "cell_type": "markdown",
   "metadata": {},
   "source": [
    "##### 🔚 End"
   ]
  },
  {
   "cell_type": "code",
   "execution_count": 11,
   "metadata": {},
   "outputs": [
    {
     "name": "stdout",
     "output_type": "stream",
     "text": [
      "\n",
      "🔚 --- End - 2024-07-25 10:00:19.734634 --- 🔚\n",
      "⏱️ --- Time: 71 minutes and 32 seconds --- ⏱️\n"
     ]
    }
   ],
   "source": [
    "endTime = datetime.datetime.now()\n",
    "print(\"\\n🔚 --- End - {} --- 🔚\".format(endTime))\n",
    "\n",
    "# Assuming endTime and startTime are in seconds\n",
    "totalTime = endTime - startTime\n",
    "minutes = totalTime.total_seconds() // 60\n",
    "seconds = totalTime.total_seconds() % 60\n",
    "print(\"⏱️ --- Time: {:02d} minutes and {:02d} seconds --- ⏱️\".format(int(minutes), int(seconds)))"
   ]
  }
 ],
 "metadata": {
  "kernelspec": {
   "display_name": "Python 3",
   "language": "python",
   "name": "python3"
  },
  "language_info": {
   "codemirror_mode": {
    "name": "ipython",
    "version": 3
   },
   "file_extension": ".py",
   "mimetype": "text/x-python",
   "name": "python",
   "nbconvert_exporter": "python",
   "pygments_lexer": "ipython3",
   "version": "3.11.3"
  }
 },
 "nbformat": 4,
 "nbformat_minor": 2
}
