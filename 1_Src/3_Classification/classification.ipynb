{
 "cells": [
  {
   "cell_type": "markdown",
   "metadata": {},
   "source": [
    "## 🔢 App Classification"
   ]
  },
  {
   "cell_type": "code",
   "execution_count": null,
   "metadata": {},
   "outputs": [],
   "source": [
    "from sklearn.metrics               import accuracy_score, precision_score, recall_score, f1_score, confusion_matrix, classification_report\n",
    "from sklearn.model_selection       import train_test_split\n",
    "from sklearn.preprocessing         import LabelEncoder\n",
    "from sklearn.neural_network        import MLPClassifier\n",
    "from sklearn.linear_model          import LogisticRegression\n",
    "from sklearn                       import svm\n",
    "from dotenv                        import load_dotenv\n",
    "from joblib                        import dump, load\n",
    "import pandas                      as pd\n",
    "import numpy                       as np\n",
    "import datetime\n",
    "import ast\n",
    "\n",
    "\n",
    "import warnings\n",
    "warnings.filterwarnings(\"ignore\")"
   ]
  },
  {
   "cell_type": "markdown",
   "metadata": {},
   "source": [
    "#### Initialization"
   ]
  },
  {
   "cell_type": "code",
   "execution_count": null,
   "metadata": {},
   "outputs": [],
   "source": [
    "RANDOM_SEED = 151836"
   ]
  },
  {
   "cell_type": "code",
   "execution_count": null,
   "metadata": {},
   "outputs": [],
   "source": [
    "print(\"⚡ Start - {} ⚡\\n\".format(datetime.datetime.now()))\n",
    "startTime = datetime.datetime.now()"
   ]
  },
  {
   "cell_type": "markdown",
   "metadata": {},
   "source": [
    "#### 📥 1) Load Data "
   ]
  },
  {
   "cell_type": "code",
   "execution_count": null,
   "metadata": {},
   "outputs": [],
   "source": [
    "DATA_PATH = \"../TmpData/0_AndroCatEmbeddings.csv\"\n",
    "\n",
    "# Read the data\n",
    "appsDF = pd.read_csv(DATA_PATH)\n",
    "\n",
    "print(\"--- #️⃣ Apps: {} \".format(appsDF.shape[0]))"
   ]
  },
  {
   "cell_type": "code",
   "execution_count": null,
   "metadata": {},
   "outputs": [],
   "source": [
    "appsDF.head(5)"
   ]
  },
  {
   "cell_type": "markdown",
   "metadata": {},
   "source": [
    "#### 2) Reorganize a bit the data"
   ]
  },
  {
   "cell_type": "code",
   "execution_count": null,
   "metadata": {},
   "outputs": [],
   "source": [
    "# Reorder columns\n",
    "appsDF = appsDF[[col for col in appsDF.columns if col != \"classID\"] + [\"classID\"]]\n",
    "\n",
    "# Rename the column\n",
    "appsDF.rename(columns={\"classID\": \"trueLabel\"}, inplace=True)"
   ]
  },
  {
   "cell_type": "code",
   "execution_count": null,
   "metadata": {},
   "outputs": [],
   "source": [
    "def convertToNumpyArray(arrayStr):\n",
    "\t# Convert the string representation to a list using ast.literal_eval\n",
    "\tarrayList = ast.literal_eval(arrayStr)\n",
    "\t# Convert the list to a numpy array\n",
    "\treturn np.array(arrayList)\n",
    "\n",
    "# Apply the conversion function to the column\n",
    "appsDF['embedding'] = appsDF['embedding'].apply(convertToNumpyArray)"
   ]
  },
  {
   "cell_type": "code",
   "execution_count": null,
   "metadata": {},
   "outputs": [],
   "source": [
    "appsDF.head(5)"
   ]
  },
  {
   "cell_type": "markdown",
   "metadata": {},
   "source": [
    "#### 3) Train"
   ]
  },
  {
   "cell_type": "markdown",
   "metadata": {},
   "source": [
    "Get X (Data), Y (Labels) And split."
   ]
  },
  {
   "cell_type": "code",
   "execution_count": null,
   "metadata": {},
   "outputs": [],
   "source": [
    "# Convert the list of arrays into a NumPy matrix\n",
    "X = np.vstack(appsDF['embedding'].tolist())\n",
    "print(\"--- 📐 X Shape : {}\".format(X.shape))\n",
    "\n",
    "trueLabels = appsDF['trueLabel'].values \n",
    "print(\"--- 📐 Y Shape : {}\".format(len(trueLabels)))\n",
    "\n",
    "# Create an instance of LabelEncoder using a special value for NO CLASS\n",
    "labelEncoder = LabelEncoder()\n",
    "labelEncoder.fit(np.append(trueLabels, \"NO_CLASS\"))\n",
    "\n",
    "# Save the model\n",
    "dump(labelEncoder, '../TmpData/labelEncoder.joblib')"
   ]
  },
  {
   "cell_type": "code",
   "execution_count": null,
   "metadata": {},
   "outputs": [],
   "source": [
    "# Get Encoded True Lalebsl\n",
    "Y_True = labelEncoder.transform(trueLabels)\n",
    "\n",
    "NO_CLASS_VALUE = labelEncoder.transform([\"NO_CLASS\"])[0]\n",
    "print(\"NO_CLASS Special Value:\", NO_CLASS_VALUE)\n",
    "\n",
    "# Split the data into training and testing sets\n",
    "X_train, X_test, Y_train, Y_test = train_test_split(X, Y_True, test_size=0.2, random_state = RANDOM_SEED)"
   ]
  },
  {
   "cell_type": "code",
   "execution_count": null,
   "metadata": {},
   "outputs": [],
   "source": [
    "modelName = 'svm'\n",
    "#model     = svm.SVC(kernel='linear', C=1, probability=True)\n",
    "model     = svm.SVC(kernel='sigmoid', C=1, gamma=1 , probability= True)\n",
    "\n",
    "print(\"--- 🦾 Training model: {}\".format(modelName))\n",
    "model.fit(X_train, Y_train)\n",
    "\n",
    "# Save the model\n",
    "dump(model, '../TmpData/svmModel.joblib')"
   ]
  },
  {
   "cell_type": "code",
   "execution_count": null,
   "metadata": {},
   "outputs": [],
   "source": [
    "# # Define the neural network model\n",
    "# modelName = 'NN'\n",
    "# model = MLPClassifier(solver='adam', alpha=1e-5, hidden_layer_sizes=(64,), random_state=RANDOM_SEED, max_iter=500)\n",
    "\n",
    "# print(\"--- 🦾 Training model: {}\".format(modelName))\n",
    "# model.fit(X_train, Y_train)"
   ]
  },
  {
   "cell_type": "code",
   "execution_count": null,
   "metadata": {},
   "outputs": [],
   "source": [
    "# TO evaluate the model\n",
    "def evaluateModel(modelName, Y_test, Y_pred, threshold):\n",
    "\n",
    "\tmask = (Y_pred != NO_CLASS_VALUE) & (Y_test != NO_CLASS_VALUE)\n",
    "\tY_test_filtered = Y_test[mask]\n",
    "\tY_pred_filtered = Y_pred[mask]\n",
    "\n",
    "\t# print(Y_test)\n",
    "\t# print(Y_test_filtered)\n",
    "\t# print(Y_pred)\n",
    "\t# print(Y_pred_filtered)\n",
    "\n",
    "\t# Compute metrics only on filtered labels\n",
    "\taccuracy  = accuracy_score(Y_test_filtered, Y_pred_filtered)\n",
    "\tprecision = precision_score(Y_test_filtered, Y_pred_filtered, average='weighted')\n",
    "\trecall    = recall_score(Y_test_filtered, Y_pred_filtered, average='weighted')\n",
    "\tf1        = f1_score(Y_test_filtered, Y_pred_filtered, average='weighted')\n",
    "\n",
    "\t# Print metrics in a well-formatted way\n",
    "\tprint(\"--- 📊 Model Evaluation Metrics 📊 ---\")\n",
    "\tprint(\"--- Model                    : {}\".format(modelName))\n",
    "\tprint(\"--- Confidence Threshold     : {:.2f}\".format(threshold))\n",
    "\tprint(\"--- Metrics:\")\n",
    "\tprint(\"------ Accuracy              : {:.4f}\".format(accuracy))\n",
    "\tprint(\"------ Precision (weighted)  : {:.4f}\".format(precision))\n",
    "\tprint(\"------ Recall (weighted)     : {:.4f}\".format(recall))\n",
    "\tprint(\"------ F1 Score (weighted)   : {:.4f}\".format(f1))\n",
    "\tprint(\"--\"*20 + \"\\n\")\n",
    "\n",
    "def applyThreshold(probabilities, threshold):\n",
    "\tY_pred = []\n",
    "\n",
    "\tfor prob in probabilities:\n",
    "\t\tif np.max(prob) < threshold:\n",
    "\t\t\tY_pred.append(NO_CLASS_VALUE)\n",
    "\t\telse:\n",
    "\t\t\t# Get the index of the maximum probability\n",
    "\t\t\tpredicted_class = np.argmax(prob)\n",
    "\t\t\t# To fix index mismatch\n",
    "\t\t\tif(predicted_class) > NO_CLASS_VALUE:\n",
    "\t\t\t\tpredicted_class += 1\n",
    "\t\t\tY_pred.append(predicted_class)\n",
    "\t\n",
    "\treturn np.array(Y_pred)"
   ]
  },
  {
   "cell_type": "code",
   "execution_count": null,
   "metadata": {},
   "outputs": [],
   "source": [
    "# Define a range of confidence thresholds\n",
    "thresholds = [i/100 for i in range(75, 100, 5)]\n",
    "\n",
    "# Get prediction probabilities\n",
    "probabilities  = model.predict_proba(X_test)\n",
    "for threshold in thresholds:\n",
    "\t# Apply threshold to get final predictions\n",
    "\tY_pred = applyThreshold(probabilities, threshold)\n",
    "\tevaluateModel(modelName, Y_test, Y_pred, threshold)\n",
    "\n",
    "\n",
    "# For entire Dataset\n",
    "allProbablities = model.predict_proba(X)\n",
    "for threshold in thresholds:\n",
    "\t# Use threshold\n",
    "\tpredictedLabels = applyThreshold(allProbablities, threshold)\n",
    "\n",
    "\t# Convert numeric predictions back to labels\n",
    "\tpredictedLabels = labelEncoder.inverse_transform(predictedLabels)\n",
    "\n",
    "\t# Add the predictions to the DataFrame\n",
    "\tappsDF[modelName + str(threshold)] = predictedLabels"
   ]
  },
  {
   "cell_type": "markdown",
   "metadata": {},
   "source": [
    "### 4) Save Results"
   ]
  },
  {
   "cell_type": "code",
   "execution_count": null,
   "metadata": {},
   "outputs": [],
   "source": [
    "appsDF.head(5)"
   ]
  },
  {
   "cell_type": "code",
   "execution_count": null,
   "metadata": {},
   "outputs": [],
   "source": [
    "appsDF = appsDF.drop(columns=['description','embedding'])\n",
    "appsDF.to_csv(\"../TmpData/0_AndroCatSetNewLabels.csv\", index=False)"
   ]
  },
  {
   "cell_type": "markdown",
   "metadata": {},
   "source": [
    "##### 🔚 End"
   ]
  },
  {
   "cell_type": "code",
   "execution_count": null,
   "metadata": {},
   "outputs": [],
   "source": [
    "endTime = datetime.datetime.now()\n",
    "print(\"\\n🔚 --- End - {} --- 🔚\".format(endTime))\n",
    "\n",
    "# Assuming endTime and startTime are in seconds\n",
    "totalTime = endTime - startTime\n",
    "minutes = totalTime.total_seconds() // 60\n",
    "seconds = totalTime.total_seconds() % 60\n",
    "print(\"⏱️ --- Time: {:02d} minutes and {:02d} seconds --- ⏱️\".format(int(minutes), int(seconds)))"
   ]
  }
 ],
 "metadata": {
  "kernelspec": {
   "display_name": "Python 3",
   "language": "python",
   "name": "python3"
  },
  "language_info": {
   "codemirror_mode": {
    "name": "ipython",
    "version": 3
   },
   "file_extension": ".py",
   "mimetype": "text/x-python",
   "name": "python",
   "nbconvert_exporter": "python",
   "pygments_lexer": "ipython3",
   "version": "3.9.19"
  }
 },
 "nbformat": 4,
 "nbformat_minor": 2
}
