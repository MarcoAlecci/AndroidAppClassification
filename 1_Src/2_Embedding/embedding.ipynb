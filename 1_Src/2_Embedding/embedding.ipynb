{
 "cells": [
  {
   "cell_type": "markdown",
   "metadata": {},
   "source": [
    "## 🔢 Description Embedding"
   ]
  },
  {
   "cell_type": "code",
   "execution_count": 1,
   "metadata": {},
   "outputs": [],
   "source": [
    "# Imports\n",
    "from   dotenv   import load_dotenv\n",
    "import pandas   as pd\n",
    "import datetime\n",
    "import sys\n",
    "import os\n",
    "\n",
    "# Add the upper folder to sys.path\n",
    "import LLMUtils\n",
    "import Preprocessing"
   ]
  },
  {
   "cell_type": "markdown",
   "metadata": {},
   "source": [
    "#### Initialization"
   ]
  },
  {
   "cell_type": "code",
   "execution_count": 2,
   "metadata": {},
   "outputs": [
    {
     "name": "stdout",
     "output_type": "stream",
     "text": [
      "⚡ Start - 2024-07-20 15:11:41.193118 ⚡\n",
      "\n"
     ]
    }
   ],
   "source": [
    "print(\"⚡ Start - {} ⚡\\n\".format(datetime.datetime.now()))\n",
    "startTime = datetime.datetime.now()"
   ]
  },
  {
   "cell_type": "markdown",
   "metadata": {},
   "source": [
    "#### 📥 1) Load Data "
   ]
  },
  {
   "cell_type": "code",
   "execution_count": 3,
   "metadata": {},
   "outputs": [
    {
     "name": "stdout",
     "output_type": "stream",
     "text": [
      "--- #️⃣ Apps: 5000 \n"
     ]
    }
   ],
   "source": [
    "DATA_PATH = \"../../0_Data/0_AndroCatSet.csv\"\n",
    "#DATA_PATH = \"../../0_Data/1_AndroCatSetMini.csv\"\n",
    "\n",
    "# Read the data\n",
    "appsDF = pd.read_csv(DATA_PATH)\n",
    "appsDF = appsDF.drop(columns=['googlePlayCategoryID'])\n",
    "\n",
    "# TEST\n",
    "#appsDF = appsDF.head(2)\n",
    "\n",
    "print(\"--- #️⃣ Apps: {} \".format(appsDF.shape[0]))"
   ]
  },
  {
   "cell_type": "code",
   "execution_count": 4,
   "metadata": {},
   "outputs": [
    {
     "data": {
      "text/html": [
       "<div>\n",
       "<style scoped>\n",
       "    .dataframe tbody tr th:only-of-type {\n",
       "        vertical-align: middle;\n",
       "    }\n",
       "\n",
       "    .dataframe tbody tr th {\n",
       "        vertical-align: top;\n",
       "    }\n",
       "\n",
       "    .dataframe thead th {\n",
       "        text-align: right;\n",
       "    }\n",
       "</style>\n",
       "<table border=\"1\" class=\"dataframe\">\n",
       "  <thead>\n",
       "    <tr style=\"text-align: right;\">\n",
       "      <th></th>\n",
       "      <th>sha256</th>\n",
       "      <th>pkgName</th>\n",
       "      <th>classID</th>\n",
       "      <th>googlePlayDescription</th>\n",
       "    </tr>\n",
       "  </thead>\n",
       "  <tbody>\n",
       "    <tr>\n",
       "      <th>0</th>\n",
       "      <td>9B30837BD2474AC3623A43D052F7ADC4C63E4AA9981F0F...</td>\n",
       "      <td>my.android.calc</td>\n",
       "      <td>Calculator</td>\n",
       "      <td>Handiness universal percentage calculator for ...</td>\n",
       "    </tr>\n",
       "    <tr>\n",
       "      <th>1</th>\n",
       "      <td>686DE8D8A0D08992CB135BC7A0500D0109D9697A1140B8...</td>\n",
       "      <td>com.vpn.basiccalculator</td>\n",
       "      <td>Calculator</td>\n",
       "      <td>CITIZEN CALCULATOR by ANGEL NX is best Mobile ...</td>\n",
       "    </tr>\n",
       "    <tr>\n",
       "      <th>2</th>\n",
       "      <td>A49864DCC90F6730569455BDFA39B4B7CF70AE0C34D656...</td>\n",
       "      <td>com.ba.fractioncalculator</td>\n",
       "      <td>Calculator</td>\n",
       "      <td>&lt;b&gt;Free offline fraction calculator&lt;/b&gt; ✌, sup...</td>\n",
       "    </tr>\n",
       "    <tr>\n",
       "      <th>3</th>\n",
       "      <td>85C80B7ED3799C04CBD107DD3004F91ED4DC2BF8D75C35...</td>\n",
       "      <td>de.sfr.calctape</td>\n",
       "      <td>Calculator</td>\n",
       "      <td>What happens if you combine a standard calcula...</td>\n",
       "    </tr>\n",
       "    <tr>\n",
       "      <th>4</th>\n",
       "      <td>66442DEF269FF22FB4177759343D973DA1A6A3AFE2ECE3...</td>\n",
       "      <td>com.digitalchemy.calculator.freefraction</td>\n",
       "      <td>Calculator</td>\n",
       "      <td>Fraction Calculator Plus is your best way to d...</td>\n",
       "    </tr>\n",
       "  </tbody>\n",
       "</table>\n",
       "</div>"
      ],
      "text/plain": [
       "                                              sha256  \\\n",
       "0  9B30837BD2474AC3623A43D052F7ADC4C63E4AA9981F0F...   \n",
       "1  686DE8D8A0D08992CB135BC7A0500D0109D9697A1140B8...   \n",
       "2  A49864DCC90F6730569455BDFA39B4B7CF70AE0C34D656...   \n",
       "3  85C80B7ED3799C04CBD107DD3004F91ED4DC2BF8D75C35...   \n",
       "4  66442DEF269FF22FB4177759343D973DA1A6A3AFE2ECE3...   \n",
       "\n",
       "                                    pkgName     classID  \\\n",
       "0                           my.android.calc  Calculator   \n",
       "1                   com.vpn.basiccalculator  Calculator   \n",
       "2                 com.ba.fractioncalculator  Calculator   \n",
       "3                           de.sfr.calctape  Calculator   \n",
       "4  com.digitalchemy.calculator.freefraction  Calculator   \n",
       "\n",
       "                               googlePlayDescription  \n",
       "0  Handiness universal percentage calculator for ...  \n",
       "1  CITIZEN CALCULATOR by ANGEL NX is best Mobile ...  \n",
       "2  <b>Free offline fraction calculator</b> ✌, sup...  \n",
       "3  What happens if you combine a standard calcula...  \n",
       "4  Fraction Calculator Plus is your best way to d...  "
      ]
     },
     "execution_count": 4,
     "metadata": {},
     "output_type": "execute_result"
    }
   ],
   "source": [
    "appsDF.head(5)"
   ]
  },
  {
   "cell_type": "markdown",
   "metadata": {},
   "source": [
    "#### 🔢 2) Preprocess Description"
   ]
  },
  {
   "cell_type": "code",
   "execution_count": 5,
   "metadata": {},
   "outputs": [
    {
     "data": {
      "text/html": [
       "<div>\n",
       "<style scoped>\n",
       "    .dataframe tbody tr th:only-of-type {\n",
       "        vertical-align: middle;\n",
       "    }\n",
       "\n",
       "    .dataframe tbody tr th {\n",
       "        vertical-align: top;\n",
       "    }\n",
       "\n",
       "    .dataframe thead th {\n",
       "        text-align: right;\n",
       "    }\n",
       "</style>\n",
       "<table border=\"1\" class=\"dataframe\">\n",
       "  <thead>\n",
       "    <tr style=\"text-align: right;\">\n",
       "      <th></th>\n",
       "      <th>sha256</th>\n",
       "      <th>pkgName</th>\n",
       "      <th>classID</th>\n",
       "      <th>description</th>\n",
       "    </tr>\n",
       "  </thead>\n",
       "  <tbody>\n",
       "    <tr>\n",
       "      <th>0</th>\n",
       "      <td>9B30837BD2474AC3623A43D052F7ADC4C63E4AA9981F0F...</td>\n",
       "      <td>my.android.calc</td>\n",
       "      <td>Calculator</td>\n",
       "      <td>handiness universal percentage calculator simp...</td>\n",
       "    </tr>\n",
       "    <tr>\n",
       "      <th>1</th>\n",
       "      <td>686DE8D8A0D08992CB135BC7A0500D0109D9697A1140B8...</td>\n",
       "      <td>com.vpn.basiccalculator</td>\n",
       "      <td>Calculator</td>\n",
       "      <td>citizen calculator angel best mobile app world...</td>\n",
       "    </tr>\n",
       "    <tr>\n",
       "      <th>2</th>\n",
       "      <td>A49864DCC90F6730569455BDFA39B4B7CF70AE0C34D656...</td>\n",
       "      <td>com.ba.fractioncalculator</td>\n",
       "      <td>Calculator</td>\n",
       "      <td>free offline fraction calculator support also ...</td>\n",
       "    </tr>\n",
       "    <tr>\n",
       "      <th>3</th>\n",
       "      <td>85C80B7ED3799C04CBD107DD3004F91ED4DC2BF8D75C35...</td>\n",
       "      <td>de.sfr.calctape</td>\n",
       "      <td>Calculator</td>\n",
       "      <td>happens combine standard calculator app classi...</td>\n",
       "    </tr>\n",
       "    <tr>\n",
       "      <th>4</th>\n",
       "      <td>66442DEF269FF22FB4177759343D973DA1A6A3AFE2ECE3...</td>\n",
       "      <td>com.digitalchemy.calculator.freefraction</td>\n",
       "      <td>Calculator</td>\n",
       "      <td>fraction calculator plus best way deal everyda...</td>\n",
       "    </tr>\n",
       "  </tbody>\n",
       "</table>\n",
       "</div>"
      ],
      "text/plain": [
       "                                              sha256  \\\n",
       "0  9B30837BD2474AC3623A43D052F7ADC4C63E4AA9981F0F...   \n",
       "1  686DE8D8A0D08992CB135BC7A0500D0109D9697A1140B8...   \n",
       "2  A49864DCC90F6730569455BDFA39B4B7CF70AE0C34D656...   \n",
       "3  85C80B7ED3799C04CBD107DD3004F91ED4DC2BF8D75C35...   \n",
       "4  66442DEF269FF22FB4177759343D973DA1A6A3AFE2ECE3...   \n",
       "\n",
       "                                    pkgName     classID  \\\n",
       "0                           my.android.calc  Calculator   \n",
       "1                   com.vpn.basiccalculator  Calculator   \n",
       "2                 com.ba.fractioncalculator  Calculator   \n",
       "3                           de.sfr.calctape  Calculator   \n",
       "4  com.digitalchemy.calculator.freefraction  Calculator   \n",
       "\n",
       "                                         description  \n",
       "0  handiness universal percentage calculator simp...  \n",
       "1  citizen calculator angel best mobile app world...  \n",
       "2  free offline fraction calculator support also ...  \n",
       "3  happens combine standard calculator app classi...  \n",
       "4  fraction calculator plus best way deal everyda...  "
      ]
     },
     "execution_count": 5,
     "metadata": {},
     "output_type": "execute_result"
    }
   ],
   "source": [
    "appsDF['description'] = appsDF['googlePlayDescription'].apply(Preprocessing.preprocessDescription)\n",
    "appsDF = appsDF.drop(columns=['googlePlayDescription'])\n",
    "appsDF.head(5)"
   ]
  },
  {
   "cell_type": "markdown",
   "metadata": {},
   "source": [
    "#### 🔢 3) Generate Numerical Embeddings"
   ]
  },
  {
   "cell_type": "code",
   "execution_count": 6,
   "metadata": {},
   "outputs": [],
   "source": [
    "# To interact with ChatGPT\n",
    "gptManager = LLMUtils.GptManager()"
   ]
  },
  {
   "cell_type": "markdown",
   "metadata": {},
   "source": [
    "$ Pay here"
   ]
  },
  {
   "cell_type": "code",
   "execution_count": 7,
   "metadata": {},
   "outputs": [
    {
     "data": {
      "text/html": [
       "<div>\n",
       "<style scoped>\n",
       "    .dataframe tbody tr th:only-of-type {\n",
       "        vertical-align: middle;\n",
       "    }\n",
       "\n",
       "    .dataframe tbody tr th {\n",
       "        vertical-align: top;\n",
       "    }\n",
       "\n",
       "    .dataframe thead th {\n",
       "        text-align: right;\n",
       "    }\n",
       "</style>\n",
       "<table border=\"1\" class=\"dataframe\">\n",
       "  <thead>\n",
       "    <tr style=\"text-align: right;\">\n",
       "      <th></th>\n",
       "      <th>sha256</th>\n",
       "      <th>pkgName</th>\n",
       "      <th>classID</th>\n",
       "      <th>description</th>\n",
       "      <th>embedding</th>\n",
       "    </tr>\n",
       "  </thead>\n",
       "  <tbody>\n",
       "    <tr>\n",
       "      <th>0</th>\n",
       "      <td>9B30837BD2474AC3623A43D052F7ADC4C63E4AA9981F0F...</td>\n",
       "      <td>my.android.calc</td>\n",
       "      <td>Calculator</td>\n",
       "      <td>handiness universal percentage calculator simp...</td>\n",
       "      <td>[0.00032980614923872054, -0.00386972539126873,...</td>\n",
       "    </tr>\n",
       "    <tr>\n",
       "      <th>1</th>\n",
       "      <td>686DE8D8A0D08992CB135BC7A0500D0109D9697A1140B8...</td>\n",
       "      <td>com.vpn.basiccalculator</td>\n",
       "      <td>Calculator</td>\n",
       "      <td>citizen calculator angel best mobile app world...</td>\n",
       "      <td>[-0.0048510185442864895, -0.005108269397169352...</td>\n",
       "    </tr>\n",
       "    <tr>\n",
       "      <th>2</th>\n",
       "      <td>A49864DCC90F6730569455BDFA39B4B7CF70AE0C34D656...</td>\n",
       "      <td>com.ba.fractioncalculator</td>\n",
       "      <td>Calculator</td>\n",
       "      <td>free offline fraction calculator support also ...</td>\n",
       "      <td>[-0.03689534589648247, 0.0034220372326672077, ...</td>\n",
       "    </tr>\n",
       "    <tr>\n",
       "      <th>3</th>\n",
       "      <td>85C80B7ED3799C04CBD107DD3004F91ED4DC2BF8D75C35...</td>\n",
       "      <td>de.sfr.calctape</td>\n",
       "      <td>Calculator</td>\n",
       "      <td>happens combine standard calculator app classi...</td>\n",
       "      <td>[0.01341024786233902, -0.0020422476809471846, ...</td>\n",
       "    </tr>\n",
       "    <tr>\n",
       "      <th>4</th>\n",
       "      <td>66442DEF269FF22FB4177759343D973DA1A6A3AFE2ECE3...</td>\n",
       "      <td>com.digitalchemy.calculator.freefraction</td>\n",
       "      <td>Calculator</td>\n",
       "      <td>fraction calculator plus best way deal everyda...</td>\n",
       "      <td>[-0.014099321328103542, 0.0014035949716344476,...</td>\n",
       "    </tr>\n",
       "  </tbody>\n",
       "</table>\n",
       "</div>"
      ],
      "text/plain": [
       "                                              sha256  \\\n",
       "0  9B30837BD2474AC3623A43D052F7ADC4C63E4AA9981F0F...   \n",
       "1  686DE8D8A0D08992CB135BC7A0500D0109D9697A1140B8...   \n",
       "2  A49864DCC90F6730569455BDFA39B4B7CF70AE0C34D656...   \n",
       "3  85C80B7ED3799C04CBD107DD3004F91ED4DC2BF8D75C35...   \n",
       "4  66442DEF269FF22FB4177759343D973DA1A6A3AFE2ECE3...   \n",
       "\n",
       "                                    pkgName     classID  \\\n",
       "0                           my.android.calc  Calculator   \n",
       "1                   com.vpn.basiccalculator  Calculator   \n",
       "2                 com.ba.fractioncalculator  Calculator   \n",
       "3                           de.sfr.calctape  Calculator   \n",
       "4  com.digitalchemy.calculator.freefraction  Calculator   \n",
       "\n",
       "                                         description  \\\n",
       "0  handiness universal percentage calculator simp...   \n",
       "1  citizen calculator angel best mobile app world...   \n",
       "2  free offline fraction calculator support also ...   \n",
       "3  happens combine standard calculator app classi...   \n",
       "4  fraction calculator plus best way deal everyda...   \n",
       "\n",
       "                                           embedding  \n",
       "0  [0.00032980614923872054, -0.00386972539126873,...  \n",
       "1  [-0.0048510185442864895, -0.005108269397169352...  \n",
       "2  [-0.03689534589648247, 0.0034220372326672077, ...  \n",
       "3  [0.01341024786233902, -0.0020422476809471846, ...  \n",
       "4  [-0.014099321328103542, 0.0014035949716344476,...  "
      ]
     },
     "execution_count": 7,
     "metadata": {},
     "output_type": "execute_result"
    }
   ],
   "source": [
    "# Generate Embeddings\n",
    "appsDF['embedding'] = appsDF['description'].apply(gptManager.generateEmbedding)\n",
    "appsDF.head(5)"
   ]
  },
  {
   "cell_type": "markdown",
   "metadata": {},
   "source": [
    "### 🔢 4) Save into CSV"
   ]
  },
  {
   "cell_type": "code",
   "execution_count": 8,
   "metadata": {},
   "outputs": [],
   "source": [
    "appsDF.to_csv(\"../TmpData/0_AndroCatSetEmbeddings.csv\", index=False)"
   ]
  },
  {
   "cell_type": "markdown",
   "metadata": {},
   "source": [
    "##### 🔚 End"
   ]
  },
  {
   "cell_type": "code",
   "execution_count": 9,
   "metadata": {},
   "outputs": [
    {
     "name": "stdout",
     "output_type": "stream",
     "text": [
      "\n",
      "🔚 --- End - 2024-07-20 15:38:03.598827 --- 🔚\n",
      "⏱️ --- Time: 26 minutes and 22 seconds --- ⏱️\n"
     ]
    }
   ],
   "source": [
    "endTime = datetime.datetime.now()\n",
    "print(\"\\n🔚 --- End - {} --- 🔚\".format(endTime))\n",
    "\n",
    "# Assuming endTime and startTime are in seconds\n",
    "totalTime = endTime - startTime\n",
    "minutes = totalTime.total_seconds() // 60\n",
    "seconds = totalTime.total_seconds() % 60\n",
    "print(\"⏱️ --- Time: {:02d} minutes and {:02d} seconds --- ⏱️\".format(int(minutes), int(seconds)))"
   ]
  }
 ],
 "metadata": {
  "kernelspec": {
   "display_name": "Python 3",
   "language": "python",
   "name": "python3"
  },
  "language_info": {
   "codemirror_mode": {
    "name": "ipython",
    "version": 3
   },
   "file_extension": ".py",
   "mimetype": "text/x-python",
   "name": "python",
   "nbconvert_exporter": "python",
   "pygments_lexer": "ipython3",
   "version": "3.9.19"
  }
 },
 "nbformat": 4,
 "nbformat_minor": 2
}
