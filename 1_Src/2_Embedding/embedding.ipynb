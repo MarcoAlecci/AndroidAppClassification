{
 "cells": [
  {
   "cell_type": "markdown",
   "metadata": {},
   "source": [
    "## 🔢 Description Embedding"
   ]
  },
  {
   "cell_type": "code",
   "execution_count": 42,
   "metadata": {},
   "outputs": [],
   "source": [
    "# Imports\n",
    "from   dotenv   import load_dotenv\n",
    "import pandas   as pd\n",
    "import datetime\n",
    "import sys\n",
    "import os\n",
    "\n",
    "# Add the upper folder to sys.path\n",
    "import LLMUtils\n",
    "import Preprocessing"
   ]
  },
  {
   "cell_type": "markdown",
   "metadata": {},
   "source": [
    "#### Initialization"
   ]
  },
  {
   "cell_type": "code",
   "execution_count": 43,
   "metadata": {},
   "outputs": [
    {
     "name": "stdout",
     "output_type": "stream",
     "text": [
      "⚡ Start - 2024-07-20 23:54:39.639693 ⚡\n",
      "\n"
     ]
    }
   ],
   "source": [
    "print(\"⚡ Start - {} ⚡\\n\".format(datetime.datetime.now()))\n",
    "startTime = datetime.datetime.now()"
   ]
  },
  {
   "cell_type": "markdown",
   "metadata": {},
   "source": [
    "#### 📥 1) Load Data "
   ]
  },
  {
   "cell_type": "code",
   "execution_count": 44,
   "metadata": {},
   "outputs": [
    {
     "name": "stdout",
     "output_type": "stream",
     "text": [
      "--- #️⃣ Apps: 942 \n"
     ]
    }
   ],
   "source": [
    "#DATA_PATH = \"../../0_Data/0_AndroCatSet.csv\"\n",
    "#DATA_PATH = \"../../0_Data/1_AndroCatSetMini.csv\"\n",
    "#DATA_PATH = \"../TmpData/3_MalCatSet_Description.csv\"\n",
    "#DATA_PATH = \"../TmpData/4_MudFlow_Description.csv\"\n",
    "DATA_PATH = \"../TmpData/5_NewMal_Description.csv\"\n",
    "\n",
    "# Read the data\n",
    "appsDF = pd.read_csv(DATA_PATH)\n",
    "#appsDF = appsDF.drop(columns=['googlePlayCategoryID'])\n",
    "\n",
    "# TEST\n",
    "#appsDF = appsDF.head(2)\n",
    "\n",
    "print(\"--- #️⃣ Apps: {} \".format(appsDF.shape[0]))"
   ]
  },
  {
   "cell_type": "code",
   "execution_count": 45,
   "metadata": {},
   "outputs": [
    {
     "data": {
      "text/html": [
       "<div>\n",
       "<style scoped>\n",
       "    .dataframe tbody tr th:only-of-type {\n",
       "        vertical-align: middle;\n",
       "    }\n",
       "\n",
       "    .dataframe tbody tr th {\n",
       "        vertical-align: top;\n",
       "    }\n",
       "\n",
       "    .dataframe thead th {\n",
       "        text-align: right;\n",
       "    }\n",
       "</style>\n",
       "<table border=\"1\" class=\"dataframe\">\n",
       "  <thead>\n",
       "    <tr style=\"text-align: right;\">\n",
       "      <th></th>\n",
       "      <th>sha256</th>\n",
       "      <th>pkgName</th>\n",
       "      <th>googlePlayDescription</th>\n",
       "    </tr>\n",
       "  </thead>\n",
       "  <tbody>\n",
       "    <tr>\n",
       "      <th>0</th>\n",
       "      <td>001E53DDA101AF19670FBD7FB5D348B21641036240895F...</td>\n",
       "      <td>es.aroundpixels.hsk3lite</td>\n",
       "      <td>Don't worry: we know that &lt;b&gt;studying Chinese ...</td>\n",
       "    </tr>\n",
       "    <tr>\n",
       "      <th>1</th>\n",
       "      <td>002557D37607615083739ABEB8D6FDC05CD27EC93C1104...</td>\n",
       "      <td>com.onesports.score</td>\n",
       "      <td>AiScore is your LIVESCORE EXPERT. More informa...</td>\n",
       "    </tr>\n",
       "    <tr>\n",
       "      <th>2</th>\n",
       "      <td>00280B2E4FA921E570467396A380FA4248AFA10372B97E...</td>\n",
       "      <td>com.perception.soc.en</td>\n",
       "      <td>Play the best classic MMORPG, only in Empire O...</td>\n",
       "    </tr>\n",
       "    <tr>\n",
       "      <th>3</th>\n",
       "      <td>0046DD085DDCA00DD6804614539CC9071BC6A4C541A8FE...</td>\n",
       "      <td>im.token.app</td>\n",
       "      <td>imToken is a reliable Web3 digital wallet trus...</td>\n",
       "    </tr>\n",
       "    <tr>\n",
       "      <th>4</th>\n",
       "      <td>009AACC5A4276BE4E16C6E5890784E2A230AF16476D27E...</td>\n",
       "      <td>com.Siyou.HD</td>\n",
       "      <td>Download this application for free to pilot yo...</td>\n",
       "    </tr>\n",
       "  </tbody>\n",
       "</table>\n",
       "</div>"
      ],
      "text/plain": [
       "                                              sha256  \\\n",
       "0  001E53DDA101AF19670FBD7FB5D348B21641036240895F...   \n",
       "1  002557D37607615083739ABEB8D6FDC05CD27EC93C1104...   \n",
       "2  00280B2E4FA921E570467396A380FA4248AFA10372B97E...   \n",
       "3  0046DD085DDCA00DD6804614539CC9071BC6A4C541A8FE...   \n",
       "4  009AACC5A4276BE4E16C6E5890784E2A230AF16476D27E...   \n",
       "\n",
       "                    pkgName                              googlePlayDescription  \n",
       "0  es.aroundpixels.hsk3lite  Don't worry: we know that <b>studying Chinese ...  \n",
       "1       com.onesports.score  AiScore is your LIVESCORE EXPERT. More informa...  \n",
       "2     com.perception.soc.en  Play the best classic MMORPG, only in Empire O...  \n",
       "3              im.token.app  imToken is a reliable Web3 digital wallet trus...  \n",
       "4              com.Siyou.HD  Download this application for free to pilot yo...  "
      ]
     },
     "execution_count": 45,
     "metadata": {},
     "output_type": "execute_result"
    }
   ],
   "source": [
    "appsDF.head(5)"
   ]
  },
  {
   "cell_type": "markdown",
   "metadata": {},
   "source": [
    "#### 🔢 2) Preprocess Description"
   ]
  },
  {
   "cell_type": "code",
   "execution_count": 46,
   "metadata": {},
   "outputs": [
    {
     "data": {
      "text/html": [
       "<div>\n",
       "<style scoped>\n",
       "    .dataframe tbody tr th:only-of-type {\n",
       "        vertical-align: middle;\n",
       "    }\n",
       "\n",
       "    .dataframe tbody tr th {\n",
       "        vertical-align: top;\n",
       "    }\n",
       "\n",
       "    .dataframe thead th {\n",
       "        text-align: right;\n",
       "    }\n",
       "</style>\n",
       "<table border=\"1\" class=\"dataframe\">\n",
       "  <thead>\n",
       "    <tr style=\"text-align: right;\">\n",
       "      <th></th>\n",
       "      <th>sha256</th>\n",
       "      <th>pkgName</th>\n",
       "      <th>description</th>\n",
       "    </tr>\n",
       "  </thead>\n",
       "  <tbody>\n",
       "    <tr>\n",
       "      <th>0</th>\n",
       "      <td>001E53DDA101AF19670FBD7FB5D348B21641036240895F...</td>\n",
       "      <td>es.aroundpixels.hsk3lite</td>\n",
       "      <td>worry know study chinese complicate bingo teac...</td>\n",
       "    </tr>\n",
       "    <tr>\n",
       "      <th>1</th>\n",
       "      <td>002557D37607615083739ABEB8D6FDC05CD27EC93C1104...</td>\n",
       "      <td>com.onesports.score</td>\n",
       "      <td>expert information statistic completely new ex...</td>\n",
       "    </tr>\n",
       "    <tr>\n",
       "      <th>2</th>\n",
       "      <td>00280B2E4FA921E570467396A380FA4248AFA10372B97E...</td>\n",
       "      <td>com.perception.soc.en</td>\n",
       "      <td>play best classic empire online truly massivel...</td>\n",
       "    </tr>\n",
       "    <tr>\n",
       "      <th>3</th>\n",
       "      <td>0046DD085DDCA00DD6804614539CC9071BC6A4C541A8FE...</td>\n",
       "      <td>im.token.app</td>\n",
       "      <td>reliable web digital wallet trust ten million ...</td>\n",
       "    </tr>\n",
       "    <tr>\n",
       "      <th>4</th>\n",
       "      <td>009AACC5A4276BE4E16C6E5890784E2A230AF16476D27E...</td>\n",
       "      <td>com.Siyou.HD</td>\n",
       "      <td>download application free pilot r hd drone use...</td>\n",
       "    </tr>\n",
       "  </tbody>\n",
       "</table>\n",
       "</div>"
      ],
      "text/plain": [
       "                                              sha256  \\\n",
       "0  001E53DDA101AF19670FBD7FB5D348B21641036240895F...   \n",
       "1  002557D37607615083739ABEB8D6FDC05CD27EC93C1104...   \n",
       "2  00280B2E4FA921E570467396A380FA4248AFA10372B97E...   \n",
       "3  0046DD085DDCA00DD6804614539CC9071BC6A4C541A8FE...   \n",
       "4  009AACC5A4276BE4E16C6E5890784E2A230AF16476D27E...   \n",
       "\n",
       "                    pkgName                                        description  \n",
       "0  es.aroundpixels.hsk3lite  worry know study chinese complicate bingo teac...  \n",
       "1       com.onesports.score  expert information statistic completely new ex...  \n",
       "2     com.perception.soc.en  play best classic empire online truly massivel...  \n",
       "3              im.token.app  reliable web digital wallet trust ten million ...  \n",
       "4              com.Siyou.HD  download application free pilot r hd drone use...  "
      ]
     },
     "execution_count": 46,
     "metadata": {},
     "output_type": "execute_result"
    }
   ],
   "source": [
    "appsDF['description'] = appsDF['googlePlayDescription'].apply(Preprocessing.preprocessDescription)\n",
    "appsDF = appsDF.drop(columns=['googlePlayDescription'])\n",
    "appsDF.head(5)"
   ]
  },
  {
   "cell_type": "markdown",
   "metadata": {},
   "source": [
    "#### 🔢 3) Generate Numerical Embeddings"
   ]
  },
  {
   "cell_type": "code",
   "execution_count": 47,
   "metadata": {},
   "outputs": [],
   "source": [
    "# To interact with ChatGPT\n",
    "gptManager = LLMUtils.GptManager()"
   ]
  },
  {
   "cell_type": "markdown",
   "metadata": {},
   "source": [
    "$ Pay here"
   ]
  },
  {
   "cell_type": "code",
   "execution_count": 48,
   "metadata": {},
   "outputs": [
    {
     "data": {
      "text/html": [
       "<div>\n",
       "<style scoped>\n",
       "    .dataframe tbody tr th:only-of-type {\n",
       "        vertical-align: middle;\n",
       "    }\n",
       "\n",
       "    .dataframe tbody tr th {\n",
       "        vertical-align: top;\n",
       "    }\n",
       "\n",
       "    .dataframe thead th {\n",
       "        text-align: right;\n",
       "    }\n",
       "</style>\n",
       "<table border=\"1\" class=\"dataframe\">\n",
       "  <thead>\n",
       "    <tr style=\"text-align: right;\">\n",
       "      <th></th>\n",
       "      <th>sha256</th>\n",
       "      <th>pkgName</th>\n",
       "      <th>description</th>\n",
       "      <th>embedding</th>\n",
       "    </tr>\n",
       "  </thead>\n",
       "  <tbody>\n",
       "    <tr>\n",
       "      <th>0</th>\n",
       "      <td>001E53DDA101AF19670FBD7FB5D348B21641036240895F...</td>\n",
       "      <td>es.aroundpixels.hsk3lite</td>\n",
       "      <td>worry know study chinese complicate bingo teac...</td>\n",
       "      <td>[0.005222779233008623, -0.01788198947906494, -...</td>\n",
       "    </tr>\n",
       "    <tr>\n",
       "      <th>1</th>\n",
       "      <td>002557D37607615083739ABEB8D6FDC05CD27EC93C1104...</td>\n",
       "      <td>com.onesports.score</td>\n",
       "      <td>expert information statistic completely new ex...</td>\n",
       "      <td>[-0.01127683650702238, 0.0010928395204246044, ...</td>\n",
       "    </tr>\n",
       "    <tr>\n",
       "      <th>2</th>\n",
       "      <td>00280B2E4FA921E570467396A380FA4248AFA10372B97E...</td>\n",
       "      <td>com.perception.soc.en</td>\n",
       "      <td>play best classic empire online truly massivel...</td>\n",
       "      <td>[0.02538859285414219, 0.04251297935843468, 0.0...</td>\n",
       "    </tr>\n",
       "    <tr>\n",
       "      <th>3</th>\n",
       "      <td>0046DD085DDCA00DD6804614539CC9071BC6A4C541A8FE...</td>\n",
       "      <td>im.token.app</td>\n",
       "      <td>reliable web digital wallet trust ten million ...</td>\n",
       "      <td>[0.012788532301783562, 0.004980458877980709, -...</td>\n",
       "    </tr>\n",
       "    <tr>\n",
       "      <th>4</th>\n",
       "      <td>009AACC5A4276BE4E16C6E5890784E2A230AF16476D27E...</td>\n",
       "      <td>com.Siyou.HD</td>\n",
       "      <td>download application free pilot r hd drone use...</td>\n",
       "      <td>[0.012929912656545639, 0.030403099954128265, -...</td>\n",
       "    </tr>\n",
       "  </tbody>\n",
       "</table>\n",
       "</div>"
      ],
      "text/plain": [
       "                                              sha256  \\\n",
       "0  001E53DDA101AF19670FBD7FB5D348B21641036240895F...   \n",
       "1  002557D37607615083739ABEB8D6FDC05CD27EC93C1104...   \n",
       "2  00280B2E4FA921E570467396A380FA4248AFA10372B97E...   \n",
       "3  0046DD085DDCA00DD6804614539CC9071BC6A4C541A8FE...   \n",
       "4  009AACC5A4276BE4E16C6E5890784E2A230AF16476D27E...   \n",
       "\n",
       "                    pkgName  \\\n",
       "0  es.aroundpixels.hsk3lite   \n",
       "1       com.onesports.score   \n",
       "2     com.perception.soc.en   \n",
       "3              im.token.app   \n",
       "4              com.Siyou.HD   \n",
       "\n",
       "                                         description  \\\n",
       "0  worry know study chinese complicate bingo teac...   \n",
       "1  expert information statistic completely new ex...   \n",
       "2  play best classic empire online truly massivel...   \n",
       "3  reliable web digital wallet trust ten million ...   \n",
       "4  download application free pilot r hd drone use...   \n",
       "\n",
       "                                           embedding  \n",
       "0  [0.005222779233008623, -0.01788198947906494, -...  \n",
       "1  [-0.01127683650702238, 0.0010928395204246044, ...  \n",
       "2  [0.02538859285414219, 0.04251297935843468, 0.0...  \n",
       "3  [0.012788532301783562, 0.004980458877980709, -...  \n",
       "4  [0.012929912656545639, 0.030403099954128265, -...  "
      ]
     },
     "execution_count": 48,
     "metadata": {},
     "output_type": "execute_result"
    }
   ],
   "source": [
    "# Generate Embeddings\n",
    "appsDF['embedding'] = appsDF['description'].apply(gptManager.generateEmbedding)\n",
    "appsDF.head(5)"
   ]
  },
  {
   "cell_type": "markdown",
   "metadata": {},
   "source": [
    "### 🔢 4) Save into CSV"
   ]
  },
  {
   "cell_type": "code",
   "execution_count": 49,
   "metadata": {},
   "outputs": [],
   "source": [
    "# AndroCatSet\n",
    "#appsDF.to_csv(\"../TmpData/0_AndroCatSetEmbeddings.csv\", index=False)\n",
    "\n",
    "# MalCatSet\n",
    "#appsDF.to_csv(\"../TmpData/3_MalCatSet_Embeddings.csv\", index=False)\n",
    "\n",
    "# MalCatSet\n",
    "#appsDF.to_csv(\"../TmpData/4_MudFlow_Embeddings.csv\", index=False)\n",
    "\n",
    "# MalCatSet\n",
    "appsDF.to_csv(\"../TmpData/5_NewMal_Embeddings.csv\", index=False)"
   ]
  },
  {
   "cell_type": "markdown",
   "metadata": {},
   "source": [
    "##### 🔚 End"
   ]
  },
  {
   "cell_type": "code",
   "execution_count": 50,
   "metadata": {},
   "outputs": [
    {
     "name": "stdout",
     "output_type": "stream",
     "text": [
      "\n",
      "🔚 --- End - 2024-07-20 23:59:20.968402 --- 🔚\n",
      "⏱️ --- Time: 04 minutes and 41 seconds --- ⏱️\n"
     ]
    }
   ],
   "source": [
    "endTime = datetime.datetime.now()\n",
    "print(\"\\n🔚 --- End - {} --- 🔚\".format(endTime))\n",
    "\n",
    "# Assuming endTime and startTime are in seconds\n",
    "totalTime = endTime - startTime\n",
    "minutes = totalTime.total_seconds() // 60\n",
    "seconds = totalTime.total_seconds() % 60\n",
    "print(\"⏱️ --- Time: {:02d} minutes and {:02d} seconds --- ⏱️\".format(int(minutes), int(seconds)))"
   ]
  }
 ],
 "metadata": {
  "kernelspec": {
   "display_name": "Python 3",
   "language": "python",
   "name": "python3"
  },
  "language_info": {
   "codemirror_mode": {
    "name": "ipython",
    "version": 3
   },
   "file_extension": ".py",
   "mimetype": "text/x-python",
   "name": "python",
   "nbconvert_exporter": "python",
   "pygments_lexer": "ipython3",
   "version": "3.9.19"
  }
 },
 "nbformat": 4,
 "nbformat_minor": 2
}
