{
 "cells": [
  {
   "cell_type": "markdown",
   "metadata": {},
   "source": [
    "## 🔢 Description Embedding"
   ]
  },
  {
   "cell_type": "code",
   "execution_count": 8,
   "metadata": {},
   "outputs": [],
   "source": [
    "# Imports\n",
    "from   dotenv   import load_dotenv\n",
    "import pandas   as pd\n",
    "import datetime\n",
    "import sys\n",
    "import os\n",
    "\n",
    "# Add the upper folder to sys.path\n",
    "import LLMUtils\n",
    "import Preprocessing"
   ]
  },
  {
   "cell_type": "markdown",
   "metadata": {},
   "source": [
    "#### Initialization"
   ]
  },
  {
   "cell_type": "code",
   "execution_count": 9,
   "metadata": {},
   "outputs": [
    {
     "name": "stdout",
     "output_type": "stream",
     "text": [
      "⚡ Start - 2024-07-20 13:34:10.436099 ⚡\n",
      "\n"
     ]
    }
   ],
   "source": [
    "print(\"⚡ Start - {} ⚡\\n\".format(datetime.datetime.now()))\n",
    "startTime = datetime.datetime.now()"
   ]
  },
  {
   "cell_type": "markdown",
   "metadata": {},
   "source": [
    "#### 📥 1) Load Data "
   ]
  },
  {
   "cell_type": "code",
   "execution_count": 10,
   "metadata": {},
   "outputs": [
    {
     "name": "stdout",
     "output_type": "stream",
     "text": [
      "--- #️⃣ Apps: 2 \n"
     ]
    }
   ],
   "source": [
    "DATA_PATH = \"../../0_Data/0_AndroCatSet.csv\"\n",
    "\n",
    "# Read the data\n",
    "appsDF = pd.read_csv(DATA_PATH)\n",
    "appsDF = appsDF.drop(columns=['googlePlayCategoryID'])\n",
    "\n",
    "# TEST\n",
    "appsDF = appsDF.head(2)\n",
    "\n",
    "print(\"--- #️⃣ Apps: {} \".format(appsDF.shape[0]))"
   ]
  },
  {
   "cell_type": "code",
   "execution_count": 11,
   "metadata": {},
   "outputs": [
    {
     "data": {
      "text/html": [
       "<div>\n",
       "<style scoped>\n",
       "    .dataframe tbody tr th:only-of-type {\n",
       "        vertical-align: middle;\n",
       "    }\n",
       "\n",
       "    .dataframe tbody tr th {\n",
       "        vertical-align: top;\n",
       "    }\n",
       "\n",
       "    .dataframe thead th {\n",
       "        text-align: right;\n",
       "    }\n",
       "</style>\n",
       "<table border=\"1\" class=\"dataframe\">\n",
       "  <thead>\n",
       "    <tr style=\"text-align: right;\">\n",
       "      <th></th>\n",
       "      <th>sha256</th>\n",
       "      <th>pkgName</th>\n",
       "      <th>classID</th>\n",
       "      <th>googlePlayDescription</th>\n",
       "    </tr>\n",
       "  </thead>\n",
       "  <tbody>\n",
       "    <tr>\n",
       "      <th>0</th>\n",
       "      <td>9B30837BD2474AC3623A43D052F7ADC4C63E4AA9981F0F...</td>\n",
       "      <td>my.android.calc</td>\n",
       "      <td>Calculator</td>\n",
       "      <td>Handiness universal percentage calculator for ...</td>\n",
       "    </tr>\n",
       "    <tr>\n",
       "      <th>1</th>\n",
       "      <td>686DE8D8A0D08992CB135BC7A0500D0109D9697A1140B8...</td>\n",
       "      <td>com.vpn.basiccalculator</td>\n",
       "      <td>Calculator</td>\n",
       "      <td>CITIZEN CALCULATOR by ANGEL NX is best Mobile ...</td>\n",
       "    </tr>\n",
       "  </tbody>\n",
       "</table>\n",
       "</div>"
      ],
      "text/plain": [
       "                                              sha256                  pkgName  \\\n",
       "0  9B30837BD2474AC3623A43D052F7ADC4C63E4AA9981F0F...          my.android.calc   \n",
       "1  686DE8D8A0D08992CB135BC7A0500D0109D9697A1140B8...  com.vpn.basiccalculator   \n",
       "\n",
       "      classID                              googlePlayDescription  \n",
       "0  Calculator  Handiness universal percentage calculator for ...  \n",
       "1  Calculator  CITIZEN CALCULATOR by ANGEL NX is best Mobile ...  "
      ]
     },
     "execution_count": 11,
     "metadata": {},
     "output_type": "execute_result"
    }
   ],
   "source": [
    "appsDF.head(5)"
   ]
  },
  {
   "cell_type": "markdown",
   "metadata": {},
   "source": [
    "#### 🔢 2) Preprocess Description"
   ]
  },
  {
   "cell_type": "code",
   "execution_count": 12,
   "metadata": {},
   "outputs": [
    {
     "data": {
      "text/html": [
       "<div>\n",
       "<style scoped>\n",
       "    .dataframe tbody tr th:only-of-type {\n",
       "        vertical-align: middle;\n",
       "    }\n",
       "\n",
       "    .dataframe tbody tr th {\n",
       "        vertical-align: top;\n",
       "    }\n",
       "\n",
       "    .dataframe thead th {\n",
       "        text-align: right;\n",
       "    }\n",
       "</style>\n",
       "<table border=\"1\" class=\"dataframe\">\n",
       "  <thead>\n",
       "    <tr style=\"text-align: right;\">\n",
       "      <th></th>\n",
       "      <th>sha256</th>\n",
       "      <th>pkgName</th>\n",
       "      <th>classID</th>\n",
       "      <th>description</th>\n",
       "    </tr>\n",
       "  </thead>\n",
       "  <tbody>\n",
       "    <tr>\n",
       "      <th>0</th>\n",
       "      <td>9B30837BD2474AC3623A43D052F7ADC4C63E4AA9981F0F...</td>\n",
       "      <td>my.android.calc</td>\n",
       "      <td>Calculator</td>\n",
       "      <td>handiness universal percentage calculator simp...</td>\n",
       "    </tr>\n",
       "    <tr>\n",
       "      <th>1</th>\n",
       "      <td>686DE8D8A0D08992CB135BC7A0500D0109D9697A1140B8...</td>\n",
       "      <td>com.vpn.basiccalculator</td>\n",
       "      <td>Calculator</td>\n",
       "      <td>citizen calculator angel best mobile app world...</td>\n",
       "    </tr>\n",
       "  </tbody>\n",
       "</table>\n",
       "</div>"
      ],
      "text/plain": [
       "                                              sha256                  pkgName  \\\n",
       "0  9B30837BD2474AC3623A43D052F7ADC4C63E4AA9981F0F...          my.android.calc   \n",
       "1  686DE8D8A0D08992CB135BC7A0500D0109D9697A1140B8...  com.vpn.basiccalculator   \n",
       "\n",
       "      classID                                        description  \n",
       "0  Calculator  handiness universal percentage calculator simp...  \n",
       "1  Calculator  citizen calculator angel best mobile app world...  "
      ]
     },
     "execution_count": 12,
     "metadata": {},
     "output_type": "execute_result"
    }
   ],
   "source": [
    "appsDF['description'] = appsDF['googlePlayDescription'].apply(Preprocessing.preprocessDescription)\n",
    "appsDF = appsDF.drop(columns=['googlePlayDescription'])\n",
    "appsDF.head(5)"
   ]
  },
  {
   "cell_type": "markdown",
   "metadata": {},
   "source": [
    "#### 🔢 3) Generate Numerical Embeddings"
   ]
  },
  {
   "cell_type": "code",
   "execution_count": 13,
   "metadata": {},
   "outputs": [],
   "source": [
    "gptManager = LLMUtils.GptManager()"
   ]
  },
  {
   "cell_type": "code",
   "execution_count": 14,
   "metadata": {},
   "outputs": [],
   "source": [
    "appsDF['embedding'] = appsDF['description'].apply(gptManager.generateEmbedding)"
   ]
  },
  {
   "cell_type": "code",
   "execution_count": 15,
   "metadata": {},
   "outputs": [
    {
     "data": {
      "text/html": [
       "<div>\n",
       "<style scoped>\n",
       "    .dataframe tbody tr th:only-of-type {\n",
       "        vertical-align: middle;\n",
       "    }\n",
       "\n",
       "    .dataframe tbody tr th {\n",
       "        vertical-align: top;\n",
       "    }\n",
       "\n",
       "    .dataframe thead th {\n",
       "        text-align: right;\n",
       "    }\n",
       "</style>\n",
       "<table border=\"1\" class=\"dataframe\">\n",
       "  <thead>\n",
       "    <tr style=\"text-align: right;\">\n",
       "      <th></th>\n",
       "      <th>sha256</th>\n",
       "      <th>pkgName</th>\n",
       "      <th>classID</th>\n",
       "      <th>description</th>\n",
       "      <th>embedding</th>\n",
       "    </tr>\n",
       "  </thead>\n",
       "  <tbody>\n",
       "    <tr>\n",
       "      <th>0</th>\n",
       "      <td>9B30837BD2474AC3623A43D052F7ADC4C63E4AA9981F0F...</td>\n",
       "      <td>my.android.calc</td>\n",
       "      <td>Calculator</td>\n",
       "      <td>handiness universal percentage calculator simp...</td>\n",
       "      <td>[0.00022729640477336943, -0.003907090984284878...</td>\n",
       "    </tr>\n",
       "    <tr>\n",
       "      <th>1</th>\n",
       "      <td>686DE8D8A0D08992CB135BC7A0500D0109D9697A1140B8...</td>\n",
       "      <td>com.vpn.basiccalculator</td>\n",
       "      <td>Calculator</td>\n",
       "      <td>citizen calculator angel best mobile app world...</td>\n",
       "      <td>[-0.0048510185442864895, -0.005108269397169352...</td>\n",
       "    </tr>\n",
       "  </tbody>\n",
       "</table>\n",
       "</div>"
      ],
      "text/plain": [
       "                                              sha256                  pkgName  \\\n",
       "0  9B30837BD2474AC3623A43D052F7ADC4C63E4AA9981F0F...          my.android.calc   \n",
       "1  686DE8D8A0D08992CB135BC7A0500D0109D9697A1140B8...  com.vpn.basiccalculator   \n",
       "\n",
       "      classID                                        description  \\\n",
       "0  Calculator  handiness universal percentage calculator simp...   \n",
       "1  Calculator  citizen calculator angel best mobile app world...   \n",
       "\n",
       "                                           embedding  \n",
       "0  [0.00022729640477336943, -0.003907090984284878...  \n",
       "1  [-0.0048510185442864895, -0.005108269397169352...  "
      ]
     },
     "execution_count": 15,
     "metadata": {},
     "output_type": "execute_result"
    }
   ],
   "source": [
    "appsDF"
   ]
  },
  {
   "cell_type": "code",
   "execution_count": null,
   "metadata": {},
   "outputs": [],
   "source": [
    "appsDF.to_csv(\"./TmpData/0_AndroCatEmbeddings.csv\", index=false)"
   ]
  },
  {
   "cell_type": "markdown",
   "metadata": {},
   "source": [
    "##### 🔚 End"
   ]
  },
  {
   "cell_type": "code",
   "execution_count": null,
   "metadata": {},
   "outputs": [
    {
     "name": "stdout",
     "output_type": "stream",
     "text": [
      "\n",
      "🔚 --- End - 2024-07-20 13:31:36.494204 --- 🔚\n",
      "⏱️ --- Time: 00 minutes and 01 seconds --- ⏱️\n"
     ]
    }
   ],
   "source": [
    "endTime = datetime.datetime.now()\n",
    "print(\"\\n🔚 --- End - {} --- 🔚\".format(endTime))\n",
    "\n",
    "# Assuming endTime and startTime are in seconds\n",
    "totalTime = endTime - startTime\n",
    "minutes = totalTime.total_seconds() // 60\n",
    "seconds = totalTime.total_seconds() % 60\n",
    "print(\"⏱️ --- Time: {:02d} minutes and {:02d} seconds --- ⏱️\".format(int(minutes), int(seconds)))"
   ]
  }
 ],
 "metadata": {
  "kernelspec": {
   "display_name": "Python 3",
   "language": "python",
   "name": "python3"
  },
  "language_info": {
   "codemirror_mode": {
    "name": "ipython",
    "version": 3
   },
   "file_extension": ".py",
   "mimetype": "text/x-python",
   "name": "python",
   "nbconvert_exporter": "python",
   "pygments_lexer": "ipython3",
   "version": "3.9.19"
  }
 },
 "nbformat": 4,
 "nbformat_minor": 2
}
